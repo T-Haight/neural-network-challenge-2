{
  "cells": [
    {
      "cell_type": "markdown",
      "metadata": {
        "id": "alIIEHibGc3M"
      },
      "source": [
        "## Part 1: Preprocessing"
      ]
    },
    {
      "cell_type": "code",
      "source": [
        "from google.colab import drive\n",
        "drive.mount('/content/drive')"
      ],
      "metadata": {
        "colab": {
          "base_uri": "https://localhost:8080/"
        },
        "id": "heZI7S7Ci60v",
        "outputId": "ed4496fd-46c8-40ba-af26-6dd5d49aa1be"
      },
      "execution_count": 51,
      "outputs": [
        {
          "output_type": "stream",
          "name": "stdout",
          "text": [
            "Mounted at /content/drive\n"
          ]
        }
      ]
    },
    {
      "cell_type": "code",
      "execution_count": 53,
      "metadata": {
        "colab": {
          "base_uri": "https://localhost:8080/",
          "height": 325
        },
        "id": "6eDUJ4NtGc3P",
        "outputId": "865fb099-065c-4bb7-87ed-022ca0c3cf1f"
      },
      "outputs": [
        {
          "output_type": "execute_result",
          "data": {
            "text/plain": [
              "   Age Attrition     BusinessTravel              Department  DistanceFromHome  \\\n",
              "0   41       Yes      Travel_Rarely                   Sales                 1   \n",
              "1   49        No  Travel_Frequently  Research & Development                 8   \n",
              "2   37       Yes      Travel_Rarely  Research & Development                 2   \n",
              "3   33        No  Travel_Frequently  Research & Development                 3   \n",
              "4   27        No      Travel_Rarely  Research & Development                 2   \n",
              "\n",
              "   Education EducationField  EnvironmentSatisfaction  HourlyRate  \\\n",
              "0          2  Life Sciences                        2          94   \n",
              "1          1  Life Sciences                        3          61   \n",
              "2          2          Other                        4          92   \n",
              "3          4  Life Sciences                        4          56   \n",
              "4          1        Medical                        1          40   \n",
              "\n",
              "   JobInvolvement  ...  PerformanceRating RelationshipSatisfaction  \\\n",
              "0               3  ...                  3                        1   \n",
              "1               2  ...                  4                        4   \n",
              "2               2  ...                  3                        2   \n",
              "3               3  ...                  3                        3   \n",
              "4               3  ...                  3                        4   \n",
              "\n",
              "   StockOptionLevel TotalWorkingYears  TrainingTimesLastYear WorkLifeBalance  \\\n",
              "0                 0                 8                      0               1   \n",
              "1                 1                10                      3               3   \n",
              "2                 0                 7                      3               3   \n",
              "3                 0                 8                      3               3   \n",
              "4                 1                 6                      3               3   \n",
              "\n",
              "   YearsAtCompany  YearsInCurrentRole  YearsSinceLastPromotion  \\\n",
              "0               6                   4                        0   \n",
              "1              10                   7                        1   \n",
              "2               0                   0                        0   \n",
              "3               8                   7                        3   \n",
              "4               2                   2                        2   \n",
              "\n",
              "   YearsWithCurrManager  \n",
              "0                     5  \n",
              "1                     7  \n",
              "2                     0  \n",
              "3                     0  \n",
              "4                     2  \n",
              "\n",
              "[5 rows x 27 columns]"
            ],
            "text/html": [
              "\n",
              "  <div id=\"df-e1696898-7994-48da-ac1c-df26a067ec99\" class=\"colab-df-container\">\n",
              "    <div>\n",
              "<style scoped>\n",
              "    .dataframe tbody tr th:only-of-type {\n",
              "        vertical-align: middle;\n",
              "    }\n",
              "\n",
              "    .dataframe tbody tr th {\n",
              "        vertical-align: top;\n",
              "    }\n",
              "\n",
              "    .dataframe thead th {\n",
              "        text-align: right;\n",
              "    }\n",
              "</style>\n",
              "<table border=\"1\" class=\"dataframe\">\n",
              "  <thead>\n",
              "    <tr style=\"text-align: right;\">\n",
              "      <th></th>\n",
              "      <th>Age</th>\n",
              "      <th>Attrition</th>\n",
              "      <th>BusinessTravel</th>\n",
              "      <th>Department</th>\n",
              "      <th>DistanceFromHome</th>\n",
              "      <th>Education</th>\n",
              "      <th>EducationField</th>\n",
              "      <th>EnvironmentSatisfaction</th>\n",
              "      <th>HourlyRate</th>\n",
              "      <th>JobInvolvement</th>\n",
              "      <th>...</th>\n",
              "      <th>PerformanceRating</th>\n",
              "      <th>RelationshipSatisfaction</th>\n",
              "      <th>StockOptionLevel</th>\n",
              "      <th>TotalWorkingYears</th>\n",
              "      <th>TrainingTimesLastYear</th>\n",
              "      <th>WorkLifeBalance</th>\n",
              "      <th>YearsAtCompany</th>\n",
              "      <th>YearsInCurrentRole</th>\n",
              "      <th>YearsSinceLastPromotion</th>\n",
              "      <th>YearsWithCurrManager</th>\n",
              "    </tr>\n",
              "  </thead>\n",
              "  <tbody>\n",
              "    <tr>\n",
              "      <th>0</th>\n",
              "      <td>41</td>\n",
              "      <td>Yes</td>\n",
              "      <td>Travel_Rarely</td>\n",
              "      <td>Sales</td>\n",
              "      <td>1</td>\n",
              "      <td>2</td>\n",
              "      <td>Life Sciences</td>\n",
              "      <td>2</td>\n",
              "      <td>94</td>\n",
              "      <td>3</td>\n",
              "      <td>...</td>\n",
              "      <td>3</td>\n",
              "      <td>1</td>\n",
              "      <td>0</td>\n",
              "      <td>8</td>\n",
              "      <td>0</td>\n",
              "      <td>1</td>\n",
              "      <td>6</td>\n",
              "      <td>4</td>\n",
              "      <td>0</td>\n",
              "      <td>5</td>\n",
              "    </tr>\n",
              "    <tr>\n",
              "      <th>1</th>\n",
              "      <td>49</td>\n",
              "      <td>No</td>\n",
              "      <td>Travel_Frequently</td>\n",
              "      <td>Research &amp; Development</td>\n",
              "      <td>8</td>\n",
              "      <td>1</td>\n",
              "      <td>Life Sciences</td>\n",
              "      <td>3</td>\n",
              "      <td>61</td>\n",
              "      <td>2</td>\n",
              "      <td>...</td>\n",
              "      <td>4</td>\n",
              "      <td>4</td>\n",
              "      <td>1</td>\n",
              "      <td>10</td>\n",
              "      <td>3</td>\n",
              "      <td>3</td>\n",
              "      <td>10</td>\n",
              "      <td>7</td>\n",
              "      <td>1</td>\n",
              "      <td>7</td>\n",
              "    </tr>\n",
              "    <tr>\n",
              "      <th>2</th>\n",
              "      <td>37</td>\n",
              "      <td>Yes</td>\n",
              "      <td>Travel_Rarely</td>\n",
              "      <td>Research &amp; Development</td>\n",
              "      <td>2</td>\n",
              "      <td>2</td>\n",
              "      <td>Other</td>\n",
              "      <td>4</td>\n",
              "      <td>92</td>\n",
              "      <td>2</td>\n",
              "      <td>...</td>\n",
              "      <td>3</td>\n",
              "      <td>2</td>\n",
              "      <td>0</td>\n",
              "      <td>7</td>\n",
              "      <td>3</td>\n",
              "      <td>3</td>\n",
              "      <td>0</td>\n",
              "      <td>0</td>\n",
              "      <td>0</td>\n",
              "      <td>0</td>\n",
              "    </tr>\n",
              "    <tr>\n",
              "      <th>3</th>\n",
              "      <td>33</td>\n",
              "      <td>No</td>\n",
              "      <td>Travel_Frequently</td>\n",
              "      <td>Research &amp; Development</td>\n",
              "      <td>3</td>\n",
              "      <td>4</td>\n",
              "      <td>Life Sciences</td>\n",
              "      <td>4</td>\n",
              "      <td>56</td>\n",
              "      <td>3</td>\n",
              "      <td>...</td>\n",
              "      <td>3</td>\n",
              "      <td>3</td>\n",
              "      <td>0</td>\n",
              "      <td>8</td>\n",
              "      <td>3</td>\n",
              "      <td>3</td>\n",
              "      <td>8</td>\n",
              "      <td>7</td>\n",
              "      <td>3</td>\n",
              "      <td>0</td>\n",
              "    </tr>\n",
              "    <tr>\n",
              "      <th>4</th>\n",
              "      <td>27</td>\n",
              "      <td>No</td>\n",
              "      <td>Travel_Rarely</td>\n",
              "      <td>Research &amp; Development</td>\n",
              "      <td>2</td>\n",
              "      <td>1</td>\n",
              "      <td>Medical</td>\n",
              "      <td>1</td>\n",
              "      <td>40</td>\n",
              "      <td>3</td>\n",
              "      <td>...</td>\n",
              "      <td>3</td>\n",
              "      <td>4</td>\n",
              "      <td>1</td>\n",
              "      <td>6</td>\n",
              "      <td>3</td>\n",
              "      <td>3</td>\n",
              "      <td>2</td>\n",
              "      <td>2</td>\n",
              "      <td>2</td>\n",
              "      <td>2</td>\n",
              "    </tr>\n",
              "  </tbody>\n",
              "</table>\n",
              "<p>5 rows × 27 columns</p>\n",
              "</div>\n",
              "    <div class=\"colab-df-buttons\">\n",
              "\n",
              "  <div class=\"colab-df-container\">\n",
              "    <button class=\"colab-df-convert\" onclick=\"convertToInteractive('df-e1696898-7994-48da-ac1c-df26a067ec99')\"\n",
              "            title=\"Convert this dataframe to an interactive table.\"\n",
              "            style=\"display:none;\">\n",
              "\n",
              "  <svg xmlns=\"http://www.w3.org/2000/svg\" height=\"24px\" viewBox=\"0 -960 960 960\">\n",
              "    <path d=\"M120-120v-720h720v720H120Zm60-500h600v-160H180v160Zm220 220h160v-160H400v160Zm0 220h160v-160H400v160ZM180-400h160v-160H180v160Zm440 0h160v-160H620v160ZM180-180h160v-160H180v160Zm440 0h160v-160H620v160Z\"/>\n",
              "  </svg>\n",
              "    </button>\n",
              "\n",
              "  <style>\n",
              "    .colab-df-container {\n",
              "      display:flex;\n",
              "      gap: 12px;\n",
              "    }\n",
              "\n",
              "    .colab-df-convert {\n",
              "      background-color: #E8F0FE;\n",
              "      border: none;\n",
              "      border-radius: 50%;\n",
              "      cursor: pointer;\n",
              "      display: none;\n",
              "      fill: #1967D2;\n",
              "      height: 32px;\n",
              "      padding: 0 0 0 0;\n",
              "      width: 32px;\n",
              "    }\n",
              "\n",
              "    .colab-df-convert:hover {\n",
              "      background-color: #E2EBFA;\n",
              "      box-shadow: 0px 1px 2px rgba(60, 64, 67, 0.3), 0px 1px 3px 1px rgba(60, 64, 67, 0.15);\n",
              "      fill: #174EA6;\n",
              "    }\n",
              "\n",
              "    .colab-df-buttons div {\n",
              "      margin-bottom: 4px;\n",
              "    }\n",
              "\n",
              "    [theme=dark] .colab-df-convert {\n",
              "      background-color: #3B4455;\n",
              "      fill: #D2E3FC;\n",
              "    }\n",
              "\n",
              "    [theme=dark] .colab-df-convert:hover {\n",
              "      background-color: #434B5C;\n",
              "      box-shadow: 0px 1px 3px 1px rgba(0, 0, 0, 0.15);\n",
              "      filter: drop-shadow(0px 1px 2px rgba(0, 0, 0, 0.3));\n",
              "      fill: #FFFFFF;\n",
              "    }\n",
              "  </style>\n",
              "\n",
              "    <script>\n",
              "      const buttonEl =\n",
              "        document.querySelector('#df-e1696898-7994-48da-ac1c-df26a067ec99 button.colab-df-convert');\n",
              "      buttonEl.style.display =\n",
              "        google.colab.kernel.accessAllowed ? 'block' : 'none';\n",
              "\n",
              "      async function convertToInteractive(key) {\n",
              "        const element = document.querySelector('#df-e1696898-7994-48da-ac1c-df26a067ec99');\n",
              "        const dataTable =\n",
              "          await google.colab.kernel.invokeFunction('convertToInteractive',\n",
              "                                                    [key], {});\n",
              "        if (!dataTable) return;\n",
              "\n",
              "        const docLinkHtml = 'Like what you see? Visit the ' +\n",
              "          '<a target=\"_blank\" href=https://colab.research.google.com/notebooks/data_table.ipynb>data table notebook</a>'\n",
              "          + ' to learn more about interactive tables.';\n",
              "        element.innerHTML = '';\n",
              "        dataTable['output_type'] = 'display_data';\n",
              "        await google.colab.output.renderOutput(dataTable, element);\n",
              "        const docLink = document.createElement('div');\n",
              "        docLink.innerHTML = docLinkHtml;\n",
              "        element.appendChild(docLink);\n",
              "      }\n",
              "    </script>\n",
              "  </div>\n",
              "\n",
              "\n",
              "<div id=\"df-138a48a2-faaf-498c-aa4e-b7ebd8948c43\">\n",
              "  <button class=\"colab-df-quickchart\" onclick=\"quickchart('df-138a48a2-faaf-498c-aa4e-b7ebd8948c43')\"\n",
              "            title=\"Suggest charts\"\n",
              "            style=\"display:none;\">\n",
              "\n",
              "<svg xmlns=\"http://www.w3.org/2000/svg\" height=\"24px\"viewBox=\"0 0 24 24\"\n",
              "     width=\"24px\">\n",
              "    <g>\n",
              "        <path d=\"M19 3H5c-1.1 0-2 .9-2 2v14c0 1.1.9 2 2 2h14c1.1 0 2-.9 2-2V5c0-1.1-.9-2-2-2zM9 17H7v-7h2v7zm4 0h-2V7h2v10zm4 0h-2v-4h2v4z\"/>\n",
              "    </g>\n",
              "</svg>\n",
              "  </button>\n",
              "\n",
              "<style>\n",
              "  .colab-df-quickchart {\n",
              "      --bg-color: #E8F0FE;\n",
              "      --fill-color: #1967D2;\n",
              "      --hover-bg-color: #E2EBFA;\n",
              "      --hover-fill-color: #174EA6;\n",
              "      --disabled-fill-color: #AAA;\n",
              "      --disabled-bg-color: #DDD;\n",
              "  }\n",
              "\n",
              "  [theme=dark] .colab-df-quickchart {\n",
              "      --bg-color: #3B4455;\n",
              "      --fill-color: #D2E3FC;\n",
              "      --hover-bg-color: #434B5C;\n",
              "      --hover-fill-color: #FFFFFF;\n",
              "      --disabled-bg-color: #3B4455;\n",
              "      --disabled-fill-color: #666;\n",
              "  }\n",
              "\n",
              "  .colab-df-quickchart {\n",
              "    background-color: var(--bg-color);\n",
              "    border: none;\n",
              "    border-radius: 50%;\n",
              "    cursor: pointer;\n",
              "    display: none;\n",
              "    fill: var(--fill-color);\n",
              "    height: 32px;\n",
              "    padding: 0;\n",
              "    width: 32px;\n",
              "  }\n",
              "\n",
              "  .colab-df-quickchart:hover {\n",
              "    background-color: var(--hover-bg-color);\n",
              "    box-shadow: 0 1px 2px rgba(60, 64, 67, 0.3), 0 1px 3px 1px rgba(60, 64, 67, 0.15);\n",
              "    fill: var(--button-hover-fill-color);\n",
              "  }\n",
              "\n",
              "  .colab-df-quickchart-complete:disabled,\n",
              "  .colab-df-quickchart-complete:disabled:hover {\n",
              "    background-color: var(--disabled-bg-color);\n",
              "    fill: var(--disabled-fill-color);\n",
              "    box-shadow: none;\n",
              "  }\n",
              "\n",
              "  .colab-df-spinner {\n",
              "    border: 2px solid var(--fill-color);\n",
              "    border-color: transparent;\n",
              "    border-bottom-color: var(--fill-color);\n",
              "    animation:\n",
              "      spin 1s steps(1) infinite;\n",
              "  }\n",
              "\n",
              "  @keyframes spin {\n",
              "    0% {\n",
              "      border-color: transparent;\n",
              "      border-bottom-color: var(--fill-color);\n",
              "      border-left-color: var(--fill-color);\n",
              "    }\n",
              "    20% {\n",
              "      border-color: transparent;\n",
              "      border-left-color: var(--fill-color);\n",
              "      border-top-color: var(--fill-color);\n",
              "    }\n",
              "    30% {\n",
              "      border-color: transparent;\n",
              "      border-left-color: var(--fill-color);\n",
              "      border-top-color: var(--fill-color);\n",
              "      border-right-color: var(--fill-color);\n",
              "    }\n",
              "    40% {\n",
              "      border-color: transparent;\n",
              "      border-right-color: var(--fill-color);\n",
              "      border-top-color: var(--fill-color);\n",
              "    }\n",
              "    60% {\n",
              "      border-color: transparent;\n",
              "      border-right-color: var(--fill-color);\n",
              "    }\n",
              "    80% {\n",
              "      border-color: transparent;\n",
              "      border-right-color: var(--fill-color);\n",
              "      border-bottom-color: var(--fill-color);\n",
              "    }\n",
              "    90% {\n",
              "      border-color: transparent;\n",
              "      border-bottom-color: var(--fill-color);\n",
              "    }\n",
              "  }\n",
              "</style>\n",
              "\n",
              "  <script>\n",
              "    async function quickchart(key) {\n",
              "      const quickchartButtonEl =\n",
              "        document.querySelector('#' + key + ' button');\n",
              "      quickchartButtonEl.disabled = true;  // To prevent multiple clicks.\n",
              "      quickchartButtonEl.classList.add('colab-df-spinner');\n",
              "      try {\n",
              "        const charts = await google.colab.kernel.invokeFunction(\n",
              "            'suggestCharts', [key], {});\n",
              "      } catch (error) {\n",
              "        console.error('Error during call to suggestCharts:', error);\n",
              "      }\n",
              "      quickchartButtonEl.classList.remove('colab-df-spinner');\n",
              "      quickchartButtonEl.classList.add('colab-df-quickchart-complete');\n",
              "    }\n",
              "    (() => {\n",
              "      let quickchartButtonEl =\n",
              "        document.querySelector('#df-138a48a2-faaf-498c-aa4e-b7ebd8948c43 button');\n",
              "      quickchartButtonEl.style.display =\n",
              "        google.colab.kernel.accessAllowed ? 'block' : 'none';\n",
              "    })();\n",
              "  </script>\n",
              "</div>\n",
              "\n",
              "    </div>\n",
              "  </div>\n"
            ],
            "application/vnd.google.colaboratory.intrinsic+json": {
              "type": "dataframe",
              "variable_name": "attrition_df"
            }
          },
          "metadata": {},
          "execution_count": 53
        }
      ],
      "source": [
        "# Import our dependencies\n",
        "from sklearn.model_selection import train_test_split\n",
        "from sklearn.preprocessing import StandardScaler\n",
        "from sklearn.preprocessing import OneHotEncoder, LabelEncoder\n",
        "import pandas as pd\n",
        "import numpy as np\n",
        "from tensorflow.keras.models import Model\n",
        "from keras import layers\n",
        "\n",
        "#  Import and read the attrition data\n",
        "attrition_df = pd.read_csv('https://static.bc-edx.com/ai/ail-v-1-0/m19/lms/datasets/attrition.csv')\n",
        "attrition_df.head()"
      ]
    },
    {
      "cell_type": "code",
      "execution_count": 54,
      "metadata": {
        "colab": {
          "base_uri": "https://localhost:8080/",
          "height": 930
        },
        "id": "g22aQSY4Gc3Q",
        "outputId": "13136397-2909-4c1f-f755-8ec2ade78cf0"
      },
      "outputs": [
        {
          "output_type": "execute_result",
          "data": {
            "text/plain": [
              "Age                         43\n",
              "Attrition                    2\n",
              "BusinessTravel               3\n",
              "Department                   3\n",
              "DistanceFromHome            29\n",
              "Education                    5\n",
              "EducationField               6\n",
              "EnvironmentSatisfaction      4\n",
              "HourlyRate                  71\n",
              "JobInvolvement               4\n",
              "JobLevel                     5\n",
              "JobRole                      9\n",
              "JobSatisfaction              4\n",
              "MaritalStatus                3\n",
              "NumCompaniesWorked          10\n",
              "OverTime                     2\n",
              "PercentSalaryHike           15\n",
              "PerformanceRating            2\n",
              "RelationshipSatisfaction     4\n",
              "StockOptionLevel             4\n",
              "TotalWorkingYears           40\n",
              "TrainingTimesLastYear        7\n",
              "WorkLifeBalance              4\n",
              "YearsAtCompany              37\n",
              "YearsInCurrentRole          19\n",
              "YearsSinceLastPromotion     16\n",
              "YearsWithCurrManager        18\n",
              "dtype: int64"
            ],
            "text/html": [
              "<div>\n",
              "<style scoped>\n",
              "    .dataframe tbody tr th:only-of-type {\n",
              "        vertical-align: middle;\n",
              "    }\n",
              "\n",
              "    .dataframe tbody tr th {\n",
              "        vertical-align: top;\n",
              "    }\n",
              "\n",
              "    .dataframe thead th {\n",
              "        text-align: right;\n",
              "    }\n",
              "</style>\n",
              "<table border=\"1\" class=\"dataframe\">\n",
              "  <thead>\n",
              "    <tr style=\"text-align: right;\">\n",
              "      <th></th>\n",
              "      <th>0</th>\n",
              "    </tr>\n",
              "  </thead>\n",
              "  <tbody>\n",
              "    <tr>\n",
              "      <th>Age</th>\n",
              "      <td>43</td>\n",
              "    </tr>\n",
              "    <tr>\n",
              "      <th>Attrition</th>\n",
              "      <td>2</td>\n",
              "    </tr>\n",
              "    <tr>\n",
              "      <th>BusinessTravel</th>\n",
              "      <td>3</td>\n",
              "    </tr>\n",
              "    <tr>\n",
              "      <th>Department</th>\n",
              "      <td>3</td>\n",
              "    </tr>\n",
              "    <tr>\n",
              "      <th>DistanceFromHome</th>\n",
              "      <td>29</td>\n",
              "    </tr>\n",
              "    <tr>\n",
              "      <th>Education</th>\n",
              "      <td>5</td>\n",
              "    </tr>\n",
              "    <tr>\n",
              "      <th>EducationField</th>\n",
              "      <td>6</td>\n",
              "    </tr>\n",
              "    <tr>\n",
              "      <th>EnvironmentSatisfaction</th>\n",
              "      <td>4</td>\n",
              "    </tr>\n",
              "    <tr>\n",
              "      <th>HourlyRate</th>\n",
              "      <td>71</td>\n",
              "    </tr>\n",
              "    <tr>\n",
              "      <th>JobInvolvement</th>\n",
              "      <td>4</td>\n",
              "    </tr>\n",
              "    <tr>\n",
              "      <th>JobLevel</th>\n",
              "      <td>5</td>\n",
              "    </tr>\n",
              "    <tr>\n",
              "      <th>JobRole</th>\n",
              "      <td>9</td>\n",
              "    </tr>\n",
              "    <tr>\n",
              "      <th>JobSatisfaction</th>\n",
              "      <td>4</td>\n",
              "    </tr>\n",
              "    <tr>\n",
              "      <th>MaritalStatus</th>\n",
              "      <td>3</td>\n",
              "    </tr>\n",
              "    <tr>\n",
              "      <th>NumCompaniesWorked</th>\n",
              "      <td>10</td>\n",
              "    </tr>\n",
              "    <tr>\n",
              "      <th>OverTime</th>\n",
              "      <td>2</td>\n",
              "    </tr>\n",
              "    <tr>\n",
              "      <th>PercentSalaryHike</th>\n",
              "      <td>15</td>\n",
              "    </tr>\n",
              "    <tr>\n",
              "      <th>PerformanceRating</th>\n",
              "      <td>2</td>\n",
              "    </tr>\n",
              "    <tr>\n",
              "      <th>RelationshipSatisfaction</th>\n",
              "      <td>4</td>\n",
              "    </tr>\n",
              "    <tr>\n",
              "      <th>StockOptionLevel</th>\n",
              "      <td>4</td>\n",
              "    </tr>\n",
              "    <tr>\n",
              "      <th>TotalWorkingYears</th>\n",
              "      <td>40</td>\n",
              "    </tr>\n",
              "    <tr>\n",
              "      <th>TrainingTimesLastYear</th>\n",
              "      <td>7</td>\n",
              "    </tr>\n",
              "    <tr>\n",
              "      <th>WorkLifeBalance</th>\n",
              "      <td>4</td>\n",
              "    </tr>\n",
              "    <tr>\n",
              "      <th>YearsAtCompany</th>\n",
              "      <td>37</td>\n",
              "    </tr>\n",
              "    <tr>\n",
              "      <th>YearsInCurrentRole</th>\n",
              "      <td>19</td>\n",
              "    </tr>\n",
              "    <tr>\n",
              "      <th>YearsSinceLastPromotion</th>\n",
              "      <td>16</td>\n",
              "    </tr>\n",
              "    <tr>\n",
              "      <th>YearsWithCurrManager</th>\n",
              "      <td>18</td>\n",
              "    </tr>\n",
              "  </tbody>\n",
              "</table>\n",
              "</div><br><label><b>dtype:</b> int64</label>"
            ]
          },
          "metadata": {},
          "execution_count": 54
        }
      ],
      "source": [
        "# Determine the number of unique values in each column.\n",
        "attrition_df.nunique()"
      ]
    },
    {
      "cell_type": "code",
      "execution_count": 56,
      "metadata": {
        "id": "50vMgBEnJbfM"
      },
      "outputs": [],
      "source": [
        "# Create y_df with the Attrition and Department columns\n",
        "y_df = attrition_df[['Attrition', 'Department']]\n"
      ]
    },
    {
      "cell_type": "code",
      "execution_count": 57,
      "metadata": {
        "colab": {
          "base_uri": "https://localhost:8080/",
          "height": 397
        },
        "id": "Virka0zLGc3R",
        "outputId": "47acf92a-07ae-4322-e441-83b345c3282a"
      },
      "outputs": [
        {
          "output_type": "execute_result",
          "data": {
            "text/plain": [
              "Education                   int64\n",
              "Age                         int64\n",
              "DistanceFromHome            int64\n",
              "JobSatisfaction             int64\n",
              "OverTime                   object\n",
              "StockOptionLevel            int64\n",
              "WorkLifeBalance             int64\n",
              "YearsAtCompany              int64\n",
              "YearsSinceLastPromotion     int64\n",
              "NumCompaniesWorked          int64\n",
              "dtype: object"
            ],
            "text/html": [
              "<div>\n",
              "<style scoped>\n",
              "    .dataframe tbody tr th:only-of-type {\n",
              "        vertical-align: middle;\n",
              "    }\n",
              "\n",
              "    .dataframe tbody tr th {\n",
              "        vertical-align: top;\n",
              "    }\n",
              "\n",
              "    .dataframe thead th {\n",
              "        text-align: right;\n",
              "    }\n",
              "</style>\n",
              "<table border=\"1\" class=\"dataframe\">\n",
              "  <thead>\n",
              "    <tr style=\"text-align: right;\">\n",
              "      <th></th>\n",
              "      <th>0</th>\n",
              "    </tr>\n",
              "  </thead>\n",
              "  <tbody>\n",
              "    <tr>\n",
              "      <th>Education</th>\n",
              "      <td>int64</td>\n",
              "    </tr>\n",
              "    <tr>\n",
              "      <th>Age</th>\n",
              "      <td>int64</td>\n",
              "    </tr>\n",
              "    <tr>\n",
              "      <th>DistanceFromHome</th>\n",
              "      <td>int64</td>\n",
              "    </tr>\n",
              "    <tr>\n",
              "      <th>JobSatisfaction</th>\n",
              "      <td>int64</td>\n",
              "    </tr>\n",
              "    <tr>\n",
              "      <th>OverTime</th>\n",
              "      <td>object</td>\n",
              "    </tr>\n",
              "    <tr>\n",
              "      <th>StockOptionLevel</th>\n",
              "      <td>int64</td>\n",
              "    </tr>\n",
              "    <tr>\n",
              "      <th>WorkLifeBalance</th>\n",
              "      <td>int64</td>\n",
              "    </tr>\n",
              "    <tr>\n",
              "      <th>YearsAtCompany</th>\n",
              "      <td>int64</td>\n",
              "    </tr>\n",
              "    <tr>\n",
              "      <th>YearsSinceLastPromotion</th>\n",
              "      <td>int64</td>\n",
              "    </tr>\n",
              "    <tr>\n",
              "      <th>NumCompaniesWorked</th>\n",
              "      <td>int64</td>\n",
              "    </tr>\n",
              "  </tbody>\n",
              "</table>\n",
              "</div><br><label><b>dtype:</b> object</label>"
            ]
          },
          "metadata": {},
          "execution_count": 57
        }
      ],
      "source": [
        "# Create a list of at least 10 column names to use as X data\n",
        "X_columns = ['Education', 'Age', 'DistanceFromHome', 'JobSatisfaction', 'OverTime', 'StockOptionLevel', 'WorkLifeBalance', 'YearsAtCompany', 'YearsSinceLastPromotion', 'NumCompaniesWorked']\n",
        "\n",
        "# Create X_df using your selected columns\n",
        "X_df = attrition_df[X_columns]\n",
        "\n",
        "# Show the data types for X_df\n",
        "X_df.dtypes\n"
      ]
    },
    {
      "cell_type": "code",
      "execution_count": 58,
      "metadata": {
        "id": "KaJfdOGUMHMR"
      },
      "outputs": [],
      "source": [
        "# Split the data into training and testing sets\n",
        "from sklearn.model_selection import train_test_split\n",
        "X_train, X_test, y_train, y_test = train_test_split(X_df, y_df, random_state=42)\n"
      ]
    },
    {
      "cell_type": "code",
      "execution_count": 59,
      "metadata": {
        "colab": {
          "base_uri": "https://localhost:8080/",
          "height": 178
        },
        "id": "NYubUJqiLCSp",
        "outputId": "f275911d-5a09-4307-e2fa-03087872f5bc"
      },
      "outputs": [
        {
          "output_type": "execute_result",
          "data": {
            "text/plain": [
              "OverTime\n",
              "No     780\n",
              "Yes    322\n",
              "Name: count, dtype: int64"
            ],
            "text/html": [
              "<div>\n",
              "<style scoped>\n",
              "    .dataframe tbody tr th:only-of-type {\n",
              "        vertical-align: middle;\n",
              "    }\n",
              "\n",
              "    .dataframe tbody tr th {\n",
              "        vertical-align: top;\n",
              "    }\n",
              "\n",
              "    .dataframe thead th {\n",
              "        text-align: right;\n",
              "    }\n",
              "</style>\n",
              "<table border=\"1\" class=\"dataframe\">\n",
              "  <thead>\n",
              "    <tr style=\"text-align: right;\">\n",
              "      <th></th>\n",
              "      <th>count</th>\n",
              "    </tr>\n",
              "    <tr>\n",
              "      <th>OverTime</th>\n",
              "      <th></th>\n",
              "    </tr>\n",
              "  </thead>\n",
              "  <tbody>\n",
              "    <tr>\n",
              "      <th>No</th>\n",
              "      <td>780</td>\n",
              "    </tr>\n",
              "    <tr>\n",
              "      <th>Yes</th>\n",
              "      <td>322</td>\n",
              "    </tr>\n",
              "  </tbody>\n",
              "</table>\n",
              "</div><br><label><b>dtype:</b> int64</label>"
            ]
          },
          "metadata": {},
          "execution_count": 59
        }
      ],
      "source": [
        "# Convert your X data to numeric data types however you see fit\n",
        "# Add new code cells as necessary\n",
        "X_train['OverTime'].value_counts()"
      ]
    },
    {
      "cell_type": "code",
      "source": [
        "# Create LabelEncoder instance\n",
        "label_encoder = LabelEncoder()\n",
        "\n",
        "# Fit & transform OverTime column\n",
        "X_train['OverTime'] = label_encoder.fit_transform(X_train['OverTime'])\n",
        "X_test['OverTime'] = label_encoder.transform(X_test['OverTime'])\n",
        "\n",
        "# View dtypes\n",
        "X_train.dtypes"
      ],
      "metadata": {
        "colab": {
          "base_uri": "https://localhost:8080/",
          "height": 397
        },
        "id": "hkfuI9AToiEY",
        "outputId": "b5f21498-cf67-4a07-ba9b-4f458cb5158c"
      },
      "execution_count": 60,
      "outputs": [
        {
          "output_type": "execute_result",
          "data": {
            "text/plain": [
              "Education                  int64\n",
              "Age                        int64\n",
              "DistanceFromHome           int64\n",
              "JobSatisfaction            int64\n",
              "OverTime                   int64\n",
              "StockOptionLevel           int64\n",
              "WorkLifeBalance            int64\n",
              "YearsAtCompany             int64\n",
              "YearsSinceLastPromotion    int64\n",
              "NumCompaniesWorked         int64\n",
              "dtype: object"
            ],
            "text/html": [
              "<div>\n",
              "<style scoped>\n",
              "    .dataframe tbody tr th:only-of-type {\n",
              "        vertical-align: middle;\n",
              "    }\n",
              "\n",
              "    .dataframe tbody tr th {\n",
              "        vertical-align: top;\n",
              "    }\n",
              "\n",
              "    .dataframe thead th {\n",
              "        text-align: right;\n",
              "    }\n",
              "</style>\n",
              "<table border=\"1\" class=\"dataframe\">\n",
              "  <thead>\n",
              "    <tr style=\"text-align: right;\">\n",
              "      <th></th>\n",
              "      <th>0</th>\n",
              "    </tr>\n",
              "  </thead>\n",
              "  <tbody>\n",
              "    <tr>\n",
              "      <th>Education</th>\n",
              "      <td>int64</td>\n",
              "    </tr>\n",
              "    <tr>\n",
              "      <th>Age</th>\n",
              "      <td>int64</td>\n",
              "    </tr>\n",
              "    <tr>\n",
              "      <th>DistanceFromHome</th>\n",
              "      <td>int64</td>\n",
              "    </tr>\n",
              "    <tr>\n",
              "      <th>JobSatisfaction</th>\n",
              "      <td>int64</td>\n",
              "    </tr>\n",
              "    <tr>\n",
              "      <th>OverTime</th>\n",
              "      <td>int64</td>\n",
              "    </tr>\n",
              "    <tr>\n",
              "      <th>StockOptionLevel</th>\n",
              "      <td>int64</td>\n",
              "    </tr>\n",
              "    <tr>\n",
              "      <th>WorkLifeBalance</th>\n",
              "      <td>int64</td>\n",
              "    </tr>\n",
              "    <tr>\n",
              "      <th>YearsAtCompany</th>\n",
              "      <td>int64</td>\n",
              "    </tr>\n",
              "    <tr>\n",
              "      <th>YearsSinceLastPromotion</th>\n",
              "      <td>int64</td>\n",
              "    </tr>\n",
              "    <tr>\n",
              "      <th>NumCompaniesWorked</th>\n",
              "      <td>int64</td>\n",
              "    </tr>\n",
              "  </tbody>\n",
              "</table>\n",
              "</div><br><label><b>dtype:</b> object</label>"
            ]
          },
          "metadata": {},
          "execution_count": 60
        }
      ]
    },
    {
      "cell_type": "code",
      "execution_count": 61,
      "metadata": {
        "id": "EWA-aIA5Gc3T"
      },
      "outputs": [],
      "source": [
        "# Create a StandardScaler\n",
        "std_scaler = StandardScaler()\n",
        "\n",
        "# Fit the StandardScaler to the training data\n",
        "std_scaler.fit(X_train)\n",
        "\n",
        "# Scale the training and testing data\n",
        "X_train_scaled = std_scaler.transform(X_train)\n",
        "X_test_scaled = std_scaler.transform(X_test)\n"
      ]
    },
    {
      "cell_type": "code",
      "execution_count": 62,
      "metadata": {
        "colab": {
          "base_uri": "https://localhost:8080/"
        },
        "id": "-z0Mky8vQSz4",
        "outputId": "ead9549a-4899-41f1-91fb-bae8e3a11fdc"
      },
      "outputs": [
        {
          "output_type": "execute_result",
          "data": {
            "text/plain": [
              "array([[0., 1., 0.],\n",
              "       [0., 0., 1.],\n",
              "       [0., 0., 1.],\n",
              "       ...,\n",
              "       [0., 1., 0.],\n",
              "       [0., 1., 0.],\n",
              "       [0., 0., 1.]])"
            ]
          },
          "metadata": {},
          "execution_count": 62
        }
      ],
      "source": [
        "# Create a OneHotEncoder for the Department column\n",
        "department_encoder = OneHotEncoder(sparse_output=False)\n",
        "\n",
        "# Fit the encoder to the training data\n",
        "department_encoder.fit(y_train[['Department']])\n",
        "\n",
        "# Create two new variables by applying the encoder\n",
        "# to the training and testing data\n",
        "y_train_department = department_encoder.transform(y_train[['Department']])\n",
        "y_test_department = department_encoder.transform(y_test[['Department']])\n",
        "y_train_department\n"
      ]
    },
    {
      "cell_type": "code",
      "execution_count": 63,
      "metadata": {
        "colab": {
          "base_uri": "https://localhost:8080/"
        },
        "id": "-G4DSpvFRrk4",
        "outputId": "f718a518-b748-43dc-a59f-66c3a5131532"
      },
      "outputs": [
        {
          "output_type": "execute_result",
          "data": {
            "text/plain": [
              "array([[1., 0.],\n",
              "       [1., 0.],\n",
              "       [1., 0.],\n",
              "       ...,\n",
              "       [0., 1.],\n",
              "       [1., 0.],\n",
              "       [1., 0.]])"
            ]
          },
          "metadata": {},
          "execution_count": 63
        }
      ],
      "source": [
        "# Create a OneHotEncoder for the Attrition column\n",
        "attrition_encoder = OneHotEncoder(sparse_output=False)\n",
        "\n",
        "# Fit the encoder to the training data\n",
        "attrition_encoder.fit(y_train[['Attrition']])\n",
        "\n",
        "# Create two new variables by applying the encoder\n",
        "# to the training and testing data\n",
        "y_train_attrition = attrition_encoder.transform(y_train[['Attrition']])\n",
        "y_test_attrition = attrition_encoder.transform(y_test[['Attrition']])\n",
        "y_train_attrition\n"
      ]
    },
    {
      "cell_type": "code",
      "source": [
        "y_train_department.shape[1]"
      ],
      "metadata": {
        "colab": {
          "base_uri": "https://localhost:8080/"
        },
        "id": "CewEGiijzado",
        "outputId": "80bb2954-34ae-405e-86bb-74d17a5f6af7"
      },
      "execution_count": 64,
      "outputs": [
        {
          "output_type": "execute_result",
          "data": {
            "text/plain": [
              "3"
            ]
          },
          "metadata": {},
          "execution_count": 64
        }
      ]
    },
    {
      "cell_type": "markdown",
      "metadata": {
        "id": "ykNmu_WWGc3T"
      },
      "source": [
        "## Create, Compile, and Train the Model"
      ]
    },
    {
      "cell_type": "code",
      "execution_count": 127,
      "metadata": {
        "id": "WUptZqmSGc3T",
        "colab": {
          "base_uri": "https://localhost:8080/"
        },
        "outputId": "9ae206d6-713d-4aa7-d0b2-d35f381ad00c"
      },
      "outputs": [
        {
          "output_type": "stream",
          "name": "stdout",
          "text": [
            "10\n"
          ]
        }
      ],
      "source": [
        "# Find the number of columns in the X training data\n",
        "number_input_features = len(X_train.columns)\n",
        "print(number_input_features)\n",
        "\n",
        "# Create the input layer\n",
        "input_layer = layers.Input(shape=(number_input_features,), name='input_layer')\n",
        "\n",
        "# Create at least two shared layers\n",
        "shared_layer1 = layers.Dense(units=64, activation='relu', name='shared_layer1')(input_layer)\n",
        "shared_layer2 = layers.Dense(units=128, activation='relu', name='shared_layer2')(shared_layer1)"
      ]
    },
    {
      "cell_type": "code",
      "execution_count": 128,
      "metadata": {
        "id": "JukjTm2yTEqd"
      },
      "outputs": [],
      "source": [
        "# Create a branch for Department\n",
        "# with a hidden layer and an output layer\n",
        "\n",
        "# Create the hidden layer\n",
        "department_hidden = layers.Dense(units=32, activation='relu', name='department_hidden')(shared_layer2)\n",
        "\n",
        "# Create the output layer\n",
        "department_output = layers.Dense(units=y_train_department.shape[1], activation='softmax', name='department_output')(department_hidden)\n"
      ]
    },
    {
      "cell_type": "code",
      "execution_count": 129,
      "metadata": {
        "id": "9OqhUiOJUBkR"
      },
      "outputs": [],
      "source": [
        "# Create a branch for Attrition\n",
        "# with a hidden layer and an output layer\n",
        "\n",
        "# Create the hidden layer\n",
        "attrition_hidden = layers.Dense(units=32, activation='relu', name='attrition_hidden')(shared_layer2)\n",
        "\n",
        "# Create the output layer\n",
        "attrition_output = layers.Dense(units=y_train_attrition.shape[1], activation='sigmoid', name='attrition_output')(attrition_hidden)\n"
      ]
    },
    {
      "cell_type": "code",
      "execution_count": 130,
      "metadata": {
        "colab": {
          "base_uri": "https://localhost:8080/",
          "height": 353
        },
        "id": "twmuejdxGc3T",
        "outputId": "ff799d59-bacc-4ab9-d06a-0b6fdb86b9f1"
      },
      "outputs": [
        {
          "output_type": "display_data",
          "data": {
            "text/plain": [
              "\u001b[1mModel: \"functional_14\"\u001b[0m\n"
            ],
            "text/html": [
              "<pre style=\"white-space:pre;overflow-x:auto;line-height:normal;font-family:Menlo,'DejaVu Sans Mono',consolas,'Courier New',monospace\"><span style=\"font-weight: bold\">Model: \"functional_14\"</span>\n",
              "</pre>\n"
            ]
          },
          "metadata": {}
        },
        {
          "output_type": "display_data",
          "data": {
            "text/plain": [
              "┏━━━━━━━━━━━━━━━━━━━━━━━━━━━┳━━━━━━━━━━━━━━━━━━━━━━━━┳━━━━━━━━━━━━━━━━┳━━━━━━━━━━━━━━━━━━━━━━━━┓\n",
              "┃\u001b[1m \u001b[0m\u001b[1mLayer (type)             \u001b[0m\u001b[1m \u001b[0m┃\u001b[1m \u001b[0m\u001b[1mOutput Shape          \u001b[0m\u001b[1m \u001b[0m┃\u001b[1m \u001b[0m\u001b[1m       Param #\u001b[0m\u001b[1m \u001b[0m┃\u001b[1m \u001b[0m\u001b[1mConnected to          \u001b[0m\u001b[1m \u001b[0m┃\n",
              "┡━━━━━━━━━━━━━━━━━━━━━━━━━━━╇━━━━━━━━━━━━━━━━━━━━━━━━╇━━━━━━━━━━━━━━━━╇━━━━━━━━━━━━━━━━━━━━━━━━┩\n",
              "│ input_layer (\u001b[38;5;33mInputLayer\u001b[0m)  │ (\u001b[38;5;45mNone\u001b[0m, \u001b[38;5;34m10\u001b[0m)             │              \u001b[38;5;34m0\u001b[0m │ -                      │\n",
              "├───────────────────────────┼────────────────────────┼────────────────┼────────────────────────┤\n",
              "│ shared_layer1 (\u001b[38;5;33mDense\u001b[0m)     │ (\u001b[38;5;45mNone\u001b[0m, \u001b[38;5;34m64\u001b[0m)             │            \u001b[38;5;34m704\u001b[0m │ input_layer[\u001b[38;5;34m0\u001b[0m][\u001b[38;5;34m0\u001b[0m]      │\n",
              "├───────────────────────────┼────────────────────────┼────────────────┼────────────────────────┤\n",
              "│ shared_layer2 (\u001b[38;5;33mDense\u001b[0m)     │ (\u001b[38;5;45mNone\u001b[0m, \u001b[38;5;34m128\u001b[0m)            │          \u001b[38;5;34m8,320\u001b[0m │ shared_layer1[\u001b[38;5;34m0\u001b[0m][\u001b[38;5;34m0\u001b[0m]    │\n",
              "├───────────────────────────┼────────────────────────┼────────────────┼────────────────────────┤\n",
              "│ department_hidden (\u001b[38;5;33mDense\u001b[0m) │ (\u001b[38;5;45mNone\u001b[0m, \u001b[38;5;34m32\u001b[0m)             │          \u001b[38;5;34m4,128\u001b[0m │ shared_layer2[\u001b[38;5;34m0\u001b[0m][\u001b[38;5;34m0\u001b[0m]    │\n",
              "├───────────────────────────┼────────────────────────┼────────────────┼────────────────────────┤\n",
              "│ attrition_hidden (\u001b[38;5;33mDense\u001b[0m)  │ (\u001b[38;5;45mNone\u001b[0m, \u001b[38;5;34m32\u001b[0m)             │          \u001b[38;5;34m4,128\u001b[0m │ shared_layer2[\u001b[38;5;34m0\u001b[0m][\u001b[38;5;34m0\u001b[0m]    │\n",
              "├───────────────────────────┼────────────────────────┼────────────────┼────────────────────────┤\n",
              "│ department_output (\u001b[38;5;33mDense\u001b[0m) │ (\u001b[38;5;45mNone\u001b[0m, \u001b[38;5;34m3\u001b[0m)              │             \u001b[38;5;34m99\u001b[0m │ department_hidden[\u001b[38;5;34m0\u001b[0m][\u001b[38;5;34m…\u001b[0m │\n",
              "├───────────────────────────┼────────────────────────┼────────────────┼────────────────────────┤\n",
              "│ attrition_output (\u001b[38;5;33mDense\u001b[0m)  │ (\u001b[38;5;45mNone\u001b[0m, \u001b[38;5;34m2\u001b[0m)              │             \u001b[38;5;34m66\u001b[0m │ attrition_hidden[\u001b[38;5;34m0\u001b[0m][\u001b[38;5;34m0\u001b[0m] │\n",
              "└───────────────────────────┴────────────────────────┴────────────────┴────────────────────────┘\n"
            ],
            "text/html": [
              "<pre style=\"white-space:pre;overflow-x:auto;line-height:normal;font-family:Menlo,'DejaVu Sans Mono',consolas,'Courier New',monospace\">┏━━━━━━━━━━━━━━━━━━━━━━━━━━━┳━━━━━━━━━━━━━━━━━━━━━━━━┳━━━━━━━━━━━━━━━━┳━━━━━━━━━━━━━━━━━━━━━━━━┓\n",
              "┃<span style=\"font-weight: bold\"> Layer (type)              </span>┃<span style=\"font-weight: bold\"> Output Shape           </span>┃<span style=\"font-weight: bold\">        Param # </span>┃<span style=\"font-weight: bold\"> Connected to           </span>┃\n",
              "┡━━━━━━━━━━━━━━━━━━━━━━━━━━━╇━━━━━━━━━━━━━━━━━━━━━━━━╇━━━━━━━━━━━━━━━━╇━━━━━━━━━━━━━━━━━━━━━━━━┩\n",
              "│ input_layer (<span style=\"color: #0087ff; text-decoration-color: #0087ff\">InputLayer</span>)  │ (<span style=\"color: #00d7ff; text-decoration-color: #00d7ff\">None</span>, <span style=\"color: #00af00; text-decoration-color: #00af00\">10</span>)             │              <span style=\"color: #00af00; text-decoration-color: #00af00\">0</span> │ -                      │\n",
              "├───────────────────────────┼────────────────────────┼────────────────┼────────────────────────┤\n",
              "│ shared_layer1 (<span style=\"color: #0087ff; text-decoration-color: #0087ff\">Dense</span>)     │ (<span style=\"color: #00d7ff; text-decoration-color: #00d7ff\">None</span>, <span style=\"color: #00af00; text-decoration-color: #00af00\">64</span>)             │            <span style=\"color: #00af00; text-decoration-color: #00af00\">704</span> │ input_layer[<span style=\"color: #00af00; text-decoration-color: #00af00\">0</span>][<span style=\"color: #00af00; text-decoration-color: #00af00\">0</span>]      │\n",
              "├───────────────────────────┼────────────────────────┼────────────────┼────────────────────────┤\n",
              "│ shared_layer2 (<span style=\"color: #0087ff; text-decoration-color: #0087ff\">Dense</span>)     │ (<span style=\"color: #00d7ff; text-decoration-color: #00d7ff\">None</span>, <span style=\"color: #00af00; text-decoration-color: #00af00\">128</span>)            │          <span style=\"color: #00af00; text-decoration-color: #00af00\">8,320</span> │ shared_layer1[<span style=\"color: #00af00; text-decoration-color: #00af00\">0</span>][<span style=\"color: #00af00; text-decoration-color: #00af00\">0</span>]    │\n",
              "├───────────────────────────┼────────────────────────┼────────────────┼────────────────────────┤\n",
              "│ department_hidden (<span style=\"color: #0087ff; text-decoration-color: #0087ff\">Dense</span>) │ (<span style=\"color: #00d7ff; text-decoration-color: #00d7ff\">None</span>, <span style=\"color: #00af00; text-decoration-color: #00af00\">32</span>)             │          <span style=\"color: #00af00; text-decoration-color: #00af00\">4,128</span> │ shared_layer2[<span style=\"color: #00af00; text-decoration-color: #00af00\">0</span>][<span style=\"color: #00af00; text-decoration-color: #00af00\">0</span>]    │\n",
              "├───────────────────────────┼────────────────────────┼────────────────┼────────────────────────┤\n",
              "│ attrition_hidden (<span style=\"color: #0087ff; text-decoration-color: #0087ff\">Dense</span>)  │ (<span style=\"color: #00d7ff; text-decoration-color: #00d7ff\">None</span>, <span style=\"color: #00af00; text-decoration-color: #00af00\">32</span>)             │          <span style=\"color: #00af00; text-decoration-color: #00af00\">4,128</span> │ shared_layer2[<span style=\"color: #00af00; text-decoration-color: #00af00\">0</span>][<span style=\"color: #00af00; text-decoration-color: #00af00\">0</span>]    │\n",
              "├───────────────────────────┼────────────────────────┼────────────────┼────────────────────────┤\n",
              "│ department_output (<span style=\"color: #0087ff; text-decoration-color: #0087ff\">Dense</span>) │ (<span style=\"color: #00d7ff; text-decoration-color: #00d7ff\">None</span>, <span style=\"color: #00af00; text-decoration-color: #00af00\">3</span>)              │             <span style=\"color: #00af00; text-decoration-color: #00af00\">99</span> │ department_hidden[<span style=\"color: #00af00; text-decoration-color: #00af00\">0</span>][<span style=\"color: #00af00; text-decoration-color: #00af00\">…</span> │\n",
              "├───────────────────────────┼────────────────────────┼────────────────┼────────────────────────┤\n",
              "│ attrition_output (<span style=\"color: #0087ff; text-decoration-color: #0087ff\">Dense</span>)  │ (<span style=\"color: #00d7ff; text-decoration-color: #00d7ff\">None</span>, <span style=\"color: #00af00; text-decoration-color: #00af00\">2</span>)              │             <span style=\"color: #00af00; text-decoration-color: #00af00\">66</span> │ attrition_hidden[<span style=\"color: #00af00; text-decoration-color: #00af00\">0</span>][<span style=\"color: #00af00; text-decoration-color: #00af00\">0</span>] │\n",
              "└───────────────────────────┴────────────────────────┴────────────────┴────────────────────────┘\n",
              "</pre>\n"
            ]
          },
          "metadata": {}
        },
        {
          "output_type": "display_data",
          "data": {
            "text/plain": [
              "\u001b[1m Total params: \u001b[0m\u001b[38;5;34m17,445\u001b[0m (68.14 KB)\n"
            ],
            "text/html": [
              "<pre style=\"white-space:pre;overflow-x:auto;line-height:normal;font-family:Menlo,'DejaVu Sans Mono',consolas,'Courier New',monospace\"><span style=\"font-weight: bold\"> Total params: </span><span style=\"color: #00af00; text-decoration-color: #00af00\">17,445</span> (68.14 KB)\n",
              "</pre>\n"
            ]
          },
          "metadata": {}
        },
        {
          "output_type": "display_data",
          "data": {
            "text/plain": [
              "\u001b[1m Trainable params: \u001b[0m\u001b[38;5;34m17,445\u001b[0m (68.14 KB)\n"
            ],
            "text/html": [
              "<pre style=\"white-space:pre;overflow-x:auto;line-height:normal;font-family:Menlo,'DejaVu Sans Mono',consolas,'Courier New',monospace\"><span style=\"font-weight: bold\"> Trainable params: </span><span style=\"color: #00af00; text-decoration-color: #00af00\">17,445</span> (68.14 KB)\n",
              "</pre>\n"
            ]
          },
          "metadata": {}
        },
        {
          "output_type": "display_data",
          "data": {
            "text/plain": [
              "\u001b[1m Non-trainable params: \u001b[0m\u001b[38;5;34m0\u001b[0m (0.00 B)\n"
            ],
            "text/html": [
              "<pre style=\"white-space:pre;overflow-x:auto;line-height:normal;font-family:Menlo,'DejaVu Sans Mono',consolas,'Courier New',monospace\"><span style=\"font-weight: bold\"> Non-trainable params: </span><span style=\"color: #00af00; text-decoration-color: #00af00\">0</span> (0.00 B)\n",
              "</pre>\n"
            ]
          },
          "metadata": {}
        }
      ],
      "source": [
        "# Create the model\n",
        "model = Model(inputs=input_layer, outputs=[department_output, attrition_output])\n",
        "\n",
        "# Compile the model\n",
        "model.compile(optimizer='adam',\n",
        "              loss={'department_output': 'categorical_crossentropy',\n",
        "                    'attrition_output': 'binary_crossentropy'},\n",
        "              metrics={'department_output': 'accuracy', 'attrition_output': 'accuracy'})\n",
        "\n",
        "# Summarize the model\n",
        "model.summary()"
      ]
    },
    {
      "cell_type": "code",
      "execution_count": 131,
      "metadata": {
        "colab": {
          "base_uri": "https://localhost:8080/"
        },
        "id": "c8oGy0dpGc3U",
        "outputId": "8ae3f52a-e748-4751-e679-7245df2c9ada"
      },
      "outputs": [
        {
          "output_type": "stream",
          "name": "stdout",
          "text": [
            "Epoch 1/100\n",
            "\u001b[1m35/35\u001b[0m \u001b[32m━━━━━━━━━━━━━━━━━━━━\u001b[0m\u001b[37m\u001b[0m \u001b[1m4s\u001b[0m 24ms/step - attrition_output_accuracy: 0.7713 - attrition_output_loss: 0.5338 - department_output_accuracy: 0.5049 - department_output_loss: 0.6203 - loss: 1.1545 - val_attrition_output_accuracy: 0.8696 - val_attrition_output_loss: 0.3766 - val_department_output_accuracy: 0.6522 - val_department_output_loss: 0.4973 - val_loss: 0.8661\n",
            "Epoch 2/100\n",
            "\u001b[1m35/35\u001b[0m \u001b[32m━━━━━━━━━━━━━━━━━━━━\u001b[0m\u001b[37m\u001b[0m \u001b[1m1s\u001b[0m 8ms/step - attrition_output_accuracy: 0.8266 - attrition_output_loss: 0.4090 - department_output_accuracy: 0.6277 - department_output_loss: 0.4981 - loss: 0.9072 - val_attrition_output_accuracy: 0.8614 - val_attrition_output_loss: 0.3610 - val_department_output_accuracy: 0.6522 - val_department_output_loss: 0.4975 - val_loss: 0.8522\n",
            "Epoch 3/100\n",
            "\u001b[1m35/35\u001b[0m \u001b[32m━━━━━━━━━━━━━━━━━━━━\u001b[0m\u001b[37m\u001b[0m \u001b[1m0s\u001b[0m 4ms/step - attrition_output_accuracy: 0.8612 - attrition_output_loss: 0.3728 - department_output_accuracy: 0.6412 - department_output_loss: 0.4837 - loss: 0.8565 - val_attrition_output_accuracy: 0.8587 - val_attrition_output_loss: 0.3590 - val_department_output_accuracy: 0.6522 - val_department_output_loss: 0.4964 - val_loss: 0.8499\n",
            "Epoch 4/100\n",
            "\u001b[1m35/35\u001b[0m \u001b[32m━━━━━━━━━━━━━━━━━━━━\u001b[0m\u001b[37m\u001b[0m \u001b[1m0s\u001b[0m 3ms/step - attrition_output_accuracy: 0.8717 - attrition_output_loss: 0.3455 - department_output_accuracy: 0.6670 - department_output_loss: 0.4618 - loss: 0.8073 - val_attrition_output_accuracy: 0.8696 - val_attrition_output_loss: 0.3686 - val_department_output_accuracy: 0.6522 - val_department_output_loss: 0.4976 - val_loss: 0.8625\n",
            "Epoch 5/100\n",
            "\u001b[1m35/35\u001b[0m \u001b[32m━━━━━━━━━━━━━━━━━━━━\u001b[0m\u001b[37m\u001b[0m \u001b[1m0s\u001b[0m 3ms/step - attrition_output_accuracy: 0.8535 - attrition_output_loss: 0.3370 - department_output_accuracy: 0.6465 - department_output_loss: 0.4714 - loss: 0.8085 - val_attrition_output_accuracy: 0.8750 - val_attrition_output_loss: 0.3756 - val_department_output_accuracy: 0.6522 - val_department_output_loss: 0.4973 - val_loss: 0.8683\n",
            "Epoch 6/100\n",
            "\u001b[1m35/35\u001b[0m \u001b[32m━━━━━━━━━━━━━━━━━━━━\u001b[0m\u001b[37m\u001b[0m \u001b[1m0s\u001b[0m 3ms/step - attrition_output_accuracy: 0.8723 - attrition_output_loss: 0.3432 - department_output_accuracy: 0.6368 - department_output_loss: 0.4732 - loss: 0.8164 - val_attrition_output_accuracy: 0.8696 - val_attrition_output_loss: 0.3573 - val_department_output_accuracy: 0.6522 - val_department_output_loss: 0.4986 - val_loss: 0.8515\n",
            "Epoch 7/100\n",
            "\u001b[1m35/35\u001b[0m \u001b[32m━━━━━━━━━━━━━━━━━━━━\u001b[0m\u001b[37m\u001b[0m \u001b[1m0s\u001b[0m 4ms/step - attrition_output_accuracy: 0.8530 - attrition_output_loss: 0.3544 - department_output_accuracy: 0.6314 - department_output_loss: 0.4778 - loss: 0.8324 - val_attrition_output_accuracy: 0.8587 - val_attrition_output_loss: 0.3522 - val_department_output_accuracy: 0.6522 - val_department_output_loss: 0.4988 - val_loss: 0.8463\n",
            "Epoch 8/100\n",
            "\u001b[1m35/35\u001b[0m \u001b[32m━━━━━━━━━━━━━━━━━━━━\u001b[0m\u001b[37m\u001b[0m \u001b[1m0s\u001b[0m 5ms/step - attrition_output_accuracy: 0.8683 - attrition_output_loss: 0.3083 - department_output_accuracy: 0.6508 - department_output_loss: 0.4665 - loss: 0.7749 - val_attrition_output_accuracy: 0.8750 - val_attrition_output_loss: 0.3480 - val_department_output_accuracy: 0.6522 - val_department_output_loss: 0.5001 - val_loss: 0.8467\n",
            "Epoch 9/100\n",
            "\u001b[1m35/35\u001b[0m \u001b[32m━━━━━━━━━━━━━━━━━━━━\u001b[0m\u001b[37m\u001b[0m \u001b[1m0s\u001b[0m 3ms/step - attrition_output_accuracy: 0.8787 - attrition_output_loss: 0.3113 - department_output_accuracy: 0.6516 - department_output_loss: 0.4596 - loss: 0.7709 - val_attrition_output_accuracy: 0.8641 - val_attrition_output_loss: 0.3536 - val_department_output_accuracy: 0.6522 - val_department_output_loss: 0.5032 - val_loss: 0.8548\n",
            "Epoch 10/100\n",
            "\u001b[1m35/35\u001b[0m \u001b[32m━━━━━━━━━━━━━━━━━━━━\u001b[0m\u001b[37m\u001b[0m \u001b[1m0s\u001b[0m 3ms/step - attrition_output_accuracy: 0.8828 - attrition_output_loss: 0.2897 - department_output_accuracy: 0.6386 - department_output_loss: 0.4634 - loss: 0.7530 - val_attrition_output_accuracy: 0.8777 - val_attrition_output_loss: 0.3628 - val_department_output_accuracy: 0.6522 - val_department_output_loss: 0.5011 - val_loss: 0.8615\n",
            "Epoch 11/100\n",
            "\u001b[1m35/35\u001b[0m \u001b[32m━━━━━━━━━━━━━━━━━━━━\u001b[0m\u001b[37m\u001b[0m \u001b[1m0s\u001b[0m 4ms/step - attrition_output_accuracy: 0.8935 - attrition_output_loss: 0.2814 - department_output_accuracy: 0.6857 - department_output_loss: 0.4327 - loss: 0.7142 - val_attrition_output_accuracy: 0.8668 - val_attrition_output_loss: 0.3769 - val_department_output_accuracy: 0.6495 - val_department_output_loss: 0.5015 - val_loss: 0.8748\n",
            "Epoch 12/100\n",
            "\u001b[1m35/35\u001b[0m \u001b[32m━━━━━━━━━━━━━━━━━━━━\u001b[0m\u001b[37m\u001b[0m \u001b[1m0s\u001b[0m 4ms/step - attrition_output_accuracy: 0.8942 - attrition_output_loss: 0.2746 - department_output_accuracy: 0.6713 - department_output_loss: 0.4497 - loss: 0.7243 - val_attrition_output_accuracy: 0.8723 - val_attrition_output_loss: 0.3686 - val_department_output_accuracy: 0.6413 - val_department_output_loss: 0.5043 - val_loss: 0.8724\n",
            "Epoch 13/100\n",
            "\u001b[1m35/35\u001b[0m \u001b[32m━━━━━━━━━━━━━━━━━━━━\u001b[0m\u001b[37m\u001b[0m \u001b[1m0s\u001b[0m 3ms/step - attrition_output_accuracy: 0.8945 - attrition_output_loss: 0.2821 - department_output_accuracy: 0.6694 - department_output_loss: 0.4497 - loss: 0.7316 - val_attrition_output_accuracy: 0.8750 - val_attrition_output_loss: 0.3686 - val_department_output_accuracy: 0.6522 - val_department_output_loss: 0.5071 - val_loss: 0.8737\n",
            "Epoch 14/100\n",
            "\u001b[1m35/35\u001b[0m \u001b[32m━━━━━━━━━━━━━━━━━━━━\u001b[0m\u001b[37m\u001b[0m \u001b[1m0s\u001b[0m 4ms/step - attrition_output_accuracy: 0.9009 - attrition_output_loss: 0.2486 - department_output_accuracy: 0.6687 - department_output_loss: 0.4298 - loss: 0.6783 - val_attrition_output_accuracy: 0.8668 - val_attrition_output_loss: 0.3716 - val_department_output_accuracy: 0.6304 - val_department_output_loss: 0.5082 - val_loss: 0.8787\n",
            "Epoch 15/100\n",
            "\u001b[1m35/35\u001b[0m \u001b[32m━━━━━━━━━━━━━━━━━━━━\u001b[0m\u001b[37m\u001b[0m \u001b[1m0s\u001b[0m 4ms/step - attrition_output_accuracy: 0.8950 - attrition_output_loss: 0.2692 - department_output_accuracy: 0.6529 - department_output_loss: 0.4445 - loss: 0.7140 - val_attrition_output_accuracy: 0.8750 - val_attrition_output_loss: 0.3760 - val_department_output_accuracy: 0.6359 - val_department_output_loss: 0.5099 - val_loss: 0.8848\n",
            "Epoch 16/100\n",
            "\u001b[1m35/35\u001b[0m \u001b[32m━━━━━━━━━━━━━━━━━━━━\u001b[0m\u001b[37m\u001b[0m \u001b[1m0s\u001b[0m 4ms/step - attrition_output_accuracy: 0.9078 - attrition_output_loss: 0.2418 - department_output_accuracy: 0.6708 - department_output_loss: 0.4354 - loss: 0.6772 - val_attrition_output_accuracy: 0.8668 - val_attrition_output_loss: 0.3909 - val_department_output_accuracy: 0.6467 - val_department_output_loss: 0.5150 - val_loss: 0.9042\n",
            "Epoch 17/100\n",
            "\u001b[1m35/35\u001b[0m \u001b[32m━━━━━━━━━━━━━━━━━━━━\u001b[0m\u001b[37m\u001b[0m \u001b[1m0s\u001b[0m 4ms/step - attrition_output_accuracy: 0.8954 - attrition_output_loss: 0.2445 - department_output_accuracy: 0.6948 - department_output_loss: 0.4284 - loss: 0.6731 - val_attrition_output_accuracy: 0.8696 - val_attrition_output_loss: 0.3970 - val_department_output_accuracy: 0.6196 - val_department_output_loss: 0.5140 - val_loss: 0.9080\n",
            "Epoch 18/100\n",
            "\u001b[1m35/35\u001b[0m \u001b[32m━━━━━━━━━━━━━━━━━━━━\u001b[0m\u001b[37m\u001b[0m \u001b[1m0s\u001b[0m 5ms/step - attrition_output_accuracy: 0.8953 - attrition_output_loss: 0.2521 - department_output_accuracy: 0.6821 - department_output_loss: 0.4278 - loss: 0.6796 - val_attrition_output_accuracy: 0.8668 - val_attrition_output_loss: 0.3959 - val_department_output_accuracy: 0.6332 - val_department_output_loss: 0.5155 - val_loss: 0.9124\n",
            "Epoch 19/100\n",
            "\u001b[1m35/35\u001b[0m \u001b[32m━━━━━━━━━━━━━━━━━━━━\u001b[0m\u001b[37m\u001b[0m \u001b[1m0s\u001b[0m 4ms/step - attrition_output_accuracy: 0.9371 - attrition_output_loss: 0.1928 - department_output_accuracy: 0.6924 - department_output_loss: 0.4169 - loss: 0.6097 - val_attrition_output_accuracy: 0.8668 - val_attrition_output_loss: 0.4160 - val_department_output_accuracy: 0.6359 - val_department_output_loss: 0.5171 - val_loss: 0.9300\n",
            "Epoch 20/100\n",
            "\u001b[1m35/35\u001b[0m \u001b[32m━━━━━━━━━━━━━━━━━━━━\u001b[0m\u001b[37m\u001b[0m \u001b[1m0s\u001b[0m 4ms/step - attrition_output_accuracy: 0.9289 - attrition_output_loss: 0.1940 - department_output_accuracy: 0.6882 - department_output_loss: 0.4128 - loss: 0.6066 - val_attrition_output_accuracy: 0.8668 - val_attrition_output_loss: 0.4038 - val_department_output_accuracy: 0.6114 - val_department_output_loss: 0.5238 - val_loss: 0.9271\n",
            "Epoch 21/100\n",
            "\u001b[1m35/35\u001b[0m \u001b[32m━━━━━━━━━━━━━━━━━━━━\u001b[0m\u001b[37m\u001b[0m \u001b[1m0s\u001b[0m 4ms/step - attrition_output_accuracy: 0.9183 - attrition_output_loss: 0.2021 - department_output_accuracy: 0.6942 - department_output_loss: 0.4109 - loss: 0.6129 - val_attrition_output_accuracy: 0.8641 - val_attrition_output_loss: 0.4213 - val_department_output_accuracy: 0.6223 - val_department_output_loss: 0.5212 - val_loss: 0.9428\n",
            "Epoch 22/100\n",
            "\u001b[1m35/35\u001b[0m \u001b[32m━━━━━━━━━━━━━━━━━━━━\u001b[0m\u001b[37m\u001b[0m \u001b[1m0s\u001b[0m 5ms/step - attrition_output_accuracy: 0.9331 - attrition_output_loss: 0.1854 - department_output_accuracy: 0.7034 - department_output_loss: 0.4186 - loss: 0.6040 - val_attrition_output_accuracy: 0.8370 - val_attrition_output_loss: 0.4595 - val_department_output_accuracy: 0.6223 - val_department_output_loss: 0.5289 - val_loss: 0.9888\n",
            "Epoch 23/100\n",
            "\u001b[1m35/35\u001b[0m \u001b[32m━━━━━━━━━━━━━━━━━━━━\u001b[0m\u001b[37m\u001b[0m \u001b[1m0s\u001b[0m 4ms/step - attrition_output_accuracy: 0.9288 - attrition_output_loss: 0.1725 - department_output_accuracy: 0.7390 - department_output_loss: 0.4092 - loss: 0.5818 - val_attrition_output_accuracy: 0.8587 - val_attrition_output_loss: 0.4391 - val_department_output_accuracy: 0.6114 - val_department_output_loss: 0.5328 - val_loss: 0.9738\n",
            "Epoch 24/100\n",
            "\u001b[1m35/35\u001b[0m \u001b[32m━━━━━━━━━━━━━━━━━━━━\u001b[0m\u001b[37m\u001b[0m \u001b[1m0s\u001b[0m 3ms/step - attrition_output_accuracy: 0.9407 - attrition_output_loss: 0.1738 - department_output_accuracy: 0.7307 - department_output_loss: 0.4039 - loss: 0.5775 - val_attrition_output_accuracy: 0.8641 - val_attrition_output_loss: 0.4441 - val_department_output_accuracy: 0.6196 - val_department_output_loss: 0.5353 - val_loss: 0.9800\n",
            "Epoch 25/100\n",
            "\u001b[1m35/35\u001b[0m \u001b[32m━━━━━━━━━━━━━━━━━━━━\u001b[0m\u001b[37m\u001b[0m \u001b[1m0s\u001b[0m 3ms/step - attrition_output_accuracy: 0.9429 - attrition_output_loss: 0.1712 - department_output_accuracy: 0.7179 - department_output_loss: 0.3894 - loss: 0.5608 - val_attrition_output_accuracy: 0.8505 - val_attrition_output_loss: 0.4612 - val_department_output_accuracy: 0.5924 - val_department_output_loss: 0.5382 - val_loss: 1.0016\n",
            "Epoch 26/100\n",
            "\u001b[1m35/35\u001b[0m \u001b[32m━━━━━━━━━━━━━━━━━━━━\u001b[0m\u001b[37m\u001b[0m \u001b[1m0s\u001b[0m 5ms/step - attrition_output_accuracy: 0.9489 - attrition_output_loss: 0.1595 - department_output_accuracy: 0.7315 - department_output_loss: 0.3891 - loss: 0.5485 - val_attrition_output_accuracy: 0.8641 - val_attrition_output_loss: 0.4624 - val_department_output_accuracy: 0.5897 - val_department_output_loss: 0.5476 - val_loss: 1.0128\n",
            "Epoch 27/100\n",
            "\u001b[1m35/35\u001b[0m \u001b[32m━━━━━━━━━━━━━━━━━━━━\u001b[0m\u001b[37m\u001b[0m \u001b[1m0s\u001b[0m 4ms/step - attrition_output_accuracy: 0.9386 - attrition_output_loss: 0.1689 - department_output_accuracy: 0.7609 - department_output_loss: 0.3831 - loss: 0.5520 - val_attrition_output_accuracy: 0.8614 - val_attrition_output_loss: 0.4977 - val_department_output_accuracy: 0.5870 - val_department_output_loss: 0.5462 - val_loss: 1.0460\n",
            "Epoch 28/100\n",
            "\u001b[1m35/35\u001b[0m \u001b[32m━━━━━━━━━━━━━━━━━━━━\u001b[0m\u001b[37m\u001b[0m \u001b[1m0s\u001b[0m 4ms/step - attrition_output_accuracy: 0.9427 - attrition_output_loss: 0.1430 - department_output_accuracy: 0.7481 - department_output_loss: 0.3816 - loss: 0.5246 - val_attrition_output_accuracy: 0.8478 - val_attrition_output_loss: 0.4879 - val_department_output_accuracy: 0.6250 - val_department_output_loss: 0.5515 - val_loss: 1.0403\n",
            "Epoch 29/100\n",
            "\u001b[1m35/35\u001b[0m \u001b[32m━━━━━━━━━━━━━━━━━━━━\u001b[0m\u001b[37m\u001b[0m \u001b[1m0s\u001b[0m 3ms/step - attrition_output_accuracy: 0.9615 - attrition_output_loss: 0.1307 - department_output_accuracy: 0.7423 - department_output_loss: 0.3795 - loss: 0.5101 - val_attrition_output_accuracy: 0.8587 - val_attrition_output_loss: 0.4994 - val_department_output_accuracy: 0.5734 - val_department_output_loss: 0.5556 - val_loss: 1.0572\n",
            "Epoch 30/100\n",
            "\u001b[1m35/35\u001b[0m \u001b[32m━━━━━━━━━━━━━━━━━━━━\u001b[0m\u001b[37m\u001b[0m \u001b[1m0s\u001b[0m 4ms/step - attrition_output_accuracy: 0.9423 - attrition_output_loss: 0.1471 - department_output_accuracy: 0.7471 - department_output_loss: 0.3662 - loss: 0.5134 - val_attrition_output_accuracy: 0.8451 - val_attrition_output_loss: 0.5301 - val_department_output_accuracy: 0.5788 - val_department_output_loss: 0.5612 - val_loss: 1.0937\n",
            "Epoch 31/100\n",
            "\u001b[1m35/35\u001b[0m \u001b[32m━━━━━━━━━━━━━━━━━━━━\u001b[0m\u001b[37m\u001b[0m \u001b[1m0s\u001b[0m 5ms/step - attrition_output_accuracy: 0.9608 - attrition_output_loss: 0.1155 - department_output_accuracy: 0.7705 - department_output_loss: 0.3510 - loss: 0.4665 - val_attrition_output_accuracy: 0.8587 - val_attrition_output_loss: 0.5400 - val_department_output_accuracy: 0.5870 - val_department_output_loss: 0.5611 - val_loss: 1.1064\n",
            "Epoch 32/100\n",
            "\u001b[1m35/35\u001b[0m \u001b[32m━━━━━━━━━━━━━━━━━━━━\u001b[0m\u001b[37m\u001b[0m \u001b[1m0s\u001b[0m 3ms/step - attrition_output_accuracy: 0.9549 - attrition_output_loss: 0.1228 - department_output_accuracy: 0.7900 - department_output_loss: 0.3431 - loss: 0.4660 - val_attrition_output_accuracy: 0.8424 - val_attrition_output_loss: 0.5467 - val_department_output_accuracy: 0.6005 - val_department_output_loss: 0.5684 - val_loss: 1.1206\n",
            "Epoch 33/100\n",
            "\u001b[1m35/35\u001b[0m \u001b[32m━━━━━━━━━━━━━━━━━━━━\u001b[0m\u001b[37m\u001b[0m \u001b[1m0s\u001b[0m 4ms/step - attrition_output_accuracy: 0.9592 - attrition_output_loss: 0.1077 - department_output_accuracy: 0.7901 - department_output_loss: 0.3367 - loss: 0.4445 - val_attrition_output_accuracy: 0.8478 - val_attrition_output_loss: 0.5597 - val_department_output_accuracy: 0.6196 - val_department_output_loss: 0.5779 - val_loss: 1.1411\n",
            "Epoch 34/100\n",
            "\u001b[1m35/35\u001b[0m \u001b[32m━━━━━━━━━━━━━━━━━━━━\u001b[0m\u001b[37m\u001b[0m \u001b[1m0s\u001b[0m 5ms/step - attrition_output_accuracy: 0.9748 - attrition_output_loss: 0.0964 - department_output_accuracy: 0.7730 - department_output_loss: 0.3451 - loss: 0.4414 - val_attrition_output_accuracy: 0.8424 - val_attrition_output_loss: 0.5794 - val_department_output_accuracy: 0.5788 - val_department_output_loss: 0.5781 - val_loss: 1.1613\n",
            "Epoch 35/100\n",
            "\u001b[1m35/35\u001b[0m \u001b[32m━━━━━━━━━━━━━━━━━━━━\u001b[0m\u001b[37m\u001b[0m \u001b[1m0s\u001b[0m 4ms/step - attrition_output_accuracy: 0.9705 - attrition_output_loss: 0.0991 - department_output_accuracy: 0.7986 - department_output_loss: 0.3251 - loss: 0.4240 - val_attrition_output_accuracy: 0.8424 - val_attrition_output_loss: 0.6224 - val_department_output_accuracy: 0.5734 - val_department_output_loss: 0.5850 - val_loss: 1.2059\n",
            "Epoch 36/100\n",
            "\u001b[1m35/35\u001b[0m \u001b[32m━━━━━━━━━━━━━━━━━━━━\u001b[0m\u001b[37m\u001b[0m \u001b[1m0s\u001b[0m 3ms/step - attrition_output_accuracy: 0.9736 - attrition_output_loss: 0.0935 - department_output_accuracy: 0.7887 - department_output_loss: 0.3333 - loss: 0.4267 - val_attrition_output_accuracy: 0.8342 - val_attrition_output_loss: 0.6240 - val_department_output_accuracy: 0.5652 - val_department_output_loss: 0.5876 - val_loss: 1.2153\n",
            "Epoch 37/100\n",
            "\u001b[1m35/35\u001b[0m \u001b[32m━━━━━━━━━━━━━━━━━━━━\u001b[0m\u001b[37m\u001b[0m \u001b[1m0s\u001b[0m 3ms/step - attrition_output_accuracy: 0.9652 - attrition_output_loss: 0.1027 - department_output_accuracy: 0.7866 - department_output_loss: 0.3353 - loss: 0.4381 - val_attrition_output_accuracy: 0.8533 - val_attrition_output_loss: 0.6376 - val_department_output_accuracy: 0.6087 - val_department_output_loss: 0.5997 - val_loss: 1.2413\n",
            "Epoch 38/100\n",
            "\u001b[1m35/35\u001b[0m \u001b[32m━━━━━━━━━━━━━━━━━━━━\u001b[0m\u001b[37m\u001b[0m \u001b[1m0s\u001b[0m 5ms/step - attrition_output_accuracy: 0.9704 - attrition_output_loss: 0.0916 - department_output_accuracy: 0.8099 - department_output_loss: 0.3042 - loss: 0.3958 - val_attrition_output_accuracy: 0.8424 - val_attrition_output_loss: 0.6629 - val_department_output_accuracy: 0.5380 - val_department_output_loss: 0.6016 - val_loss: 1.2721\n",
            "Epoch 39/100\n",
            "\u001b[1m35/35\u001b[0m \u001b[32m━━━━━━━━━━━━━━━━━━━━\u001b[0m\u001b[37m\u001b[0m \u001b[1m0s\u001b[0m 4ms/step - attrition_output_accuracy: 0.9734 - attrition_output_loss: 0.0818 - department_output_accuracy: 0.8108 - department_output_loss: 0.3173 - loss: 0.3989 - val_attrition_output_accuracy: 0.8288 - val_attrition_output_loss: 0.6605 - val_department_output_accuracy: 0.5734 - val_department_output_loss: 0.6218 - val_loss: 1.2884\n",
            "Epoch 40/100\n",
            "\u001b[1m35/35\u001b[0m \u001b[32m━━━━━━━━━━━━━━━━━━━━\u001b[0m\u001b[37m\u001b[0m \u001b[1m0s\u001b[0m 4ms/step - attrition_output_accuracy: 0.9772 - attrition_output_loss: 0.0790 - department_output_accuracy: 0.8219 - department_output_loss: 0.2983 - loss: 0.3775 - val_attrition_output_accuracy: 0.8560 - val_attrition_output_loss: 0.6699 - val_department_output_accuracy: 0.5027 - val_department_output_loss: 0.6315 - val_loss: 1.3027\n",
            "Epoch 41/100\n",
            "\u001b[1m35/35\u001b[0m \u001b[32m━━━━━━━━━━━━━━━━━━━━\u001b[0m\u001b[37m\u001b[0m \u001b[1m0s\u001b[0m 4ms/step - attrition_output_accuracy: 0.9724 - attrition_output_loss: 0.0807 - department_output_accuracy: 0.8074 - department_output_loss: 0.3120 - loss: 0.3926 - val_attrition_output_accuracy: 0.8261 - val_attrition_output_loss: 0.7035 - val_department_output_accuracy: 0.5571 - val_department_output_loss: 0.6233 - val_loss: 1.3340\n",
            "Epoch 42/100\n",
            "\u001b[1m35/35\u001b[0m \u001b[32m━━━━━━━━━━━━━━━━━━━━\u001b[0m\u001b[37m\u001b[0m \u001b[1m0s\u001b[0m 4ms/step - attrition_output_accuracy: 0.9837 - attrition_output_loss: 0.0675 - department_output_accuracy: 0.8257 - department_output_loss: 0.2939 - loss: 0.3613 - val_attrition_output_accuracy: 0.8560 - val_attrition_output_loss: 0.6997 - val_department_output_accuracy: 0.6114 - val_department_output_loss: 0.6454 - val_loss: 1.3572\n",
            "Epoch 43/100\n",
            "\u001b[1m35/35\u001b[0m \u001b[32m━━━━━━━━━━━━━━━━━━━━\u001b[0m\u001b[37m\u001b[0m \u001b[1m0s\u001b[0m 4ms/step - attrition_output_accuracy: 0.9764 - attrition_output_loss: 0.0734 - department_output_accuracy: 0.8467 - department_output_loss: 0.2792 - loss: 0.3525 - val_attrition_output_accuracy: 0.8288 - val_attrition_output_loss: 0.7517 - val_department_output_accuracy: 0.5435 - val_department_output_loss: 0.6421 - val_loss: 1.4010\n",
            "Epoch 44/100\n",
            "\u001b[1m35/35\u001b[0m \u001b[32m━━━━━━━━━━━━━━━━━━━━\u001b[0m\u001b[37m\u001b[0m \u001b[1m0s\u001b[0m 4ms/step - attrition_output_accuracy: 0.9870 - attrition_output_loss: 0.0676 - department_output_accuracy: 0.8299 - department_output_loss: 0.2810 - loss: 0.3487 - val_attrition_output_accuracy: 0.8179 - val_attrition_output_loss: 0.7772 - val_department_output_accuracy: 0.5788 - val_department_output_loss: 0.6441 - val_loss: 1.4246\n",
            "Epoch 45/100\n",
            "\u001b[1m35/35\u001b[0m \u001b[32m━━━━━━━━━━━━━━━━━━━━\u001b[0m\u001b[37m\u001b[0m \u001b[1m0s\u001b[0m 4ms/step - attrition_output_accuracy: 0.9866 - attrition_output_loss: 0.0538 - department_output_accuracy: 0.8348 - department_output_loss: 0.2790 - loss: 0.3328 - val_attrition_output_accuracy: 0.8315 - val_attrition_output_loss: 0.7752 - val_department_output_accuracy: 0.5788 - val_department_output_loss: 0.6565 - val_loss: 1.4362\n",
            "Epoch 46/100\n",
            "\u001b[1m35/35\u001b[0m \u001b[32m━━━━━━━━━━━━━━━━━━━━\u001b[0m\u001b[37m\u001b[0m \u001b[1m0s\u001b[0m 6ms/step - attrition_output_accuracy: 0.9854 - attrition_output_loss: 0.0592 - department_output_accuracy: 0.8516 - department_output_loss: 0.2739 - loss: 0.3332 - val_attrition_output_accuracy: 0.8370 - val_attrition_output_loss: 0.7599 - val_department_output_accuracy: 0.5462 - val_department_output_loss: 0.6687 - val_loss: 1.4361\n",
            "Epoch 47/100\n",
            "\u001b[1m35/35\u001b[0m \u001b[32m━━━━━━━━━━━━━━━━━━━━\u001b[0m\u001b[37m\u001b[0m \u001b[1m0s\u001b[0m 6ms/step - attrition_output_accuracy: 0.9904 - attrition_output_loss: 0.0434 - department_output_accuracy: 0.8355 - department_output_loss: 0.2612 - loss: 0.3047 - val_attrition_output_accuracy: 0.8179 - val_attrition_output_loss: 0.8505 - val_department_output_accuracy: 0.5299 - val_department_output_loss: 0.6849 - val_loss: 1.5415\n",
            "Epoch 48/100\n",
            "\u001b[1m35/35\u001b[0m \u001b[32m━━━━━━━━━━━━━━━━━━━━\u001b[0m\u001b[37m\u001b[0m \u001b[1m0s\u001b[0m 7ms/step - attrition_output_accuracy: 0.9921 - attrition_output_loss: 0.0420 - department_output_accuracy: 0.8393 - department_output_loss: 0.2547 - loss: 0.2967 - val_attrition_output_accuracy: 0.8179 - val_attrition_output_loss: 0.8337 - val_department_output_accuracy: 0.5516 - val_department_output_loss: 0.6718 - val_loss: 1.5086\n",
            "Epoch 49/100\n",
            "\u001b[1m35/35\u001b[0m \u001b[32m━━━━━━━━━━━━━━━━━━━━\u001b[0m\u001b[37m\u001b[0m \u001b[1m0s\u001b[0m 8ms/step - attrition_output_accuracy: 0.9850 - attrition_output_loss: 0.0572 - department_output_accuracy: 0.8600 - department_output_loss: 0.2530 - loss: 0.3102 - val_attrition_output_accuracy: 0.8152 - val_attrition_output_loss: 0.8736 - val_department_output_accuracy: 0.5571 - val_department_output_loss: 0.6854 - val_loss: 1.5515\n",
            "Epoch 50/100\n",
            "\u001b[1m35/35\u001b[0m \u001b[32m━━━━━━━━━━━━━━━━━━━━\u001b[0m\u001b[37m\u001b[0m \u001b[1m1s\u001b[0m 8ms/step - attrition_output_accuracy: 0.9863 - attrition_output_loss: 0.0593 - department_output_accuracy: 0.8544 - department_output_loss: 0.2572 - loss: 0.3165 - val_attrition_output_accuracy: 0.7880 - val_attrition_output_loss: 0.9636 - val_department_output_accuracy: 0.5598 - val_department_output_loss: 0.6797 - val_loss: 1.6554\n",
            "Epoch 51/100\n",
            "\u001b[1m35/35\u001b[0m \u001b[32m━━━━━━━━━━━━━━━━━━━━\u001b[0m\u001b[37m\u001b[0m \u001b[1m1s\u001b[0m 7ms/step - attrition_output_accuracy: 0.9861 - attrition_output_loss: 0.0494 - department_output_accuracy: 0.8568 - department_output_loss: 0.2353 - loss: 0.2846 - val_attrition_output_accuracy: 0.8315 - val_attrition_output_loss: 0.8971 - val_department_output_accuracy: 0.5707 - val_department_output_loss: 0.7063 - val_loss: 1.6182\n",
            "Epoch 52/100\n",
            "\u001b[1m35/35\u001b[0m \u001b[32m━━━━━━━━━━━━━━━━━━━━\u001b[0m\u001b[37m\u001b[0m \u001b[1m0s\u001b[0m 7ms/step - attrition_output_accuracy: 0.9908 - attrition_output_loss: 0.0360 - department_output_accuracy: 0.8746 - department_output_loss: 0.2374 - loss: 0.2733 - val_attrition_output_accuracy: 0.8505 - val_attrition_output_loss: 0.8729 - val_department_output_accuracy: 0.5788 - val_department_output_loss: 0.7196 - val_loss: 1.6046\n",
            "Epoch 53/100\n",
            "\u001b[1m35/35\u001b[0m \u001b[32m━━━━━━━━━━━━━━━━━━━━\u001b[0m\u001b[37m\u001b[0m \u001b[1m0s\u001b[0m 7ms/step - attrition_output_accuracy: 0.9903 - attrition_output_loss: 0.0363 - department_output_accuracy: 0.8647 - department_output_loss: 0.2340 - loss: 0.2704 - val_attrition_output_accuracy: 0.8234 - val_attrition_output_loss: 0.9235 - val_department_output_accuracy: 0.5272 - val_department_output_loss: 0.7160 - val_loss: 1.6444\n",
            "Epoch 54/100\n",
            "\u001b[1m35/35\u001b[0m \u001b[32m━━━━━━━━━━━━━━━━━━━━\u001b[0m\u001b[37m\u001b[0m \u001b[1m0s\u001b[0m 7ms/step - attrition_output_accuracy: 0.9923 - attrition_output_loss: 0.0362 - department_output_accuracy: 0.8637 - department_output_loss: 0.2417 - loss: 0.2778 - val_attrition_output_accuracy: 0.8043 - val_attrition_output_loss: 0.9243 - val_department_output_accuracy: 0.5299 - val_department_output_loss: 0.7385 - val_loss: 1.6648\n",
            "Epoch 55/100\n",
            "\u001b[1m35/35\u001b[0m \u001b[32m━━━━━━━━━━━━━━━━━━━━\u001b[0m\u001b[37m\u001b[0m \u001b[1m1s\u001b[0m 8ms/step - attrition_output_accuracy: 0.9916 - attrition_output_loss: 0.0402 - department_output_accuracy: 0.8707 - department_output_loss: 0.2220 - loss: 0.2622 - val_attrition_output_accuracy: 0.8261 - val_attrition_output_loss: 0.9462 - val_department_output_accuracy: 0.5543 - val_department_output_loss: 0.7266 - val_loss: 1.6841\n",
            "Epoch 56/100\n",
            "\u001b[1m35/35\u001b[0m \u001b[32m━━━━━━━━━━━━━━━━━━━━\u001b[0m\u001b[37m\u001b[0m \u001b[1m0s\u001b[0m 4ms/step - attrition_output_accuracy: 0.9921 - attrition_output_loss: 0.0399 - department_output_accuracy: 0.8673 - department_output_loss: 0.2337 - loss: 0.2737 - val_attrition_output_accuracy: 0.8424 - val_attrition_output_loss: 0.9805 - val_department_output_accuracy: 0.6005 - val_department_output_loss: 0.7714 - val_loss: 1.7619\n",
            "Epoch 57/100\n",
            "\u001b[1m35/35\u001b[0m \u001b[32m━━━━━━━━━━━━━━━━━━━━\u001b[0m\u001b[37m\u001b[0m \u001b[1m0s\u001b[0m 3ms/step - attrition_output_accuracy: 0.9878 - attrition_output_loss: 0.0304 - department_output_accuracy: 0.8662 - department_output_loss: 0.2331 - loss: 0.2635 - val_attrition_output_accuracy: 0.8315 - val_attrition_output_loss: 0.9622 - val_department_output_accuracy: 0.5870 - val_department_output_loss: 0.7720 - val_loss: 1.7366\n",
            "Epoch 58/100\n",
            "\u001b[1m35/35\u001b[0m \u001b[32m━━━━━━━━━━━━━━━━━━━━\u001b[0m\u001b[37m\u001b[0m \u001b[1m0s\u001b[0m 3ms/step - attrition_output_accuracy: 0.9910 - attrition_output_loss: 0.0321 - department_output_accuracy: 0.8800 - department_output_loss: 0.2067 - loss: 0.2389 - val_attrition_output_accuracy: 0.8234 - val_attrition_output_loss: 1.0051 - val_department_output_accuracy: 0.5761 - val_department_output_loss: 0.7854 - val_loss: 1.7947\n",
            "Epoch 59/100\n",
            "\u001b[1m35/35\u001b[0m \u001b[32m━━━━━━━━━━━━━━━━━━━━\u001b[0m\u001b[37m\u001b[0m \u001b[1m0s\u001b[0m 3ms/step - attrition_output_accuracy: 0.9923 - attrition_output_loss: 0.0290 - department_output_accuracy: 0.8898 - department_output_loss: 0.2046 - loss: 0.2336 - val_attrition_output_accuracy: 0.8125 - val_attrition_output_loss: 1.0503 - val_department_output_accuracy: 0.5897 - val_department_output_loss: 0.7976 - val_loss: 1.8555\n",
            "Epoch 60/100\n",
            "\u001b[1m35/35\u001b[0m \u001b[32m━━━━━━━━━━━━━━━━━━━━\u001b[0m\u001b[37m\u001b[0m \u001b[1m0s\u001b[0m 4ms/step - attrition_output_accuracy: 0.9977 - attrition_output_loss: 0.0280 - department_output_accuracy: 0.8550 - department_output_loss: 0.2268 - loss: 0.2547 - val_attrition_output_accuracy: 0.8207 - val_attrition_output_loss: 1.0141 - val_department_output_accuracy: 0.5761 - val_department_output_loss: 0.7787 - val_loss: 1.8027\n",
            "Epoch 61/100\n",
            "\u001b[1m35/35\u001b[0m \u001b[32m━━━━━━━━━━━━━━━━━━━━\u001b[0m\u001b[37m\u001b[0m \u001b[1m0s\u001b[0m 3ms/step - attrition_output_accuracy: 0.9955 - attrition_output_loss: 0.0252 - department_output_accuracy: 0.8921 - department_output_loss: 0.2037 - loss: 0.2289 - val_attrition_output_accuracy: 0.8179 - val_attrition_output_loss: 1.0585 - val_department_output_accuracy: 0.5707 - val_department_output_loss: 0.7842 - val_loss: 1.8486\n",
            "Epoch 62/100\n",
            "\u001b[1m35/35\u001b[0m \u001b[32m━━━━━━━━━━━━━━━━━━━━\u001b[0m\u001b[37m\u001b[0m \u001b[1m0s\u001b[0m 4ms/step - attrition_output_accuracy: 0.9937 - attrition_output_loss: 0.0308 - department_output_accuracy: 0.8928 - department_output_loss: 0.1981 - loss: 0.2288 - val_attrition_output_accuracy: 0.8152 - val_attrition_output_loss: 1.1075 - val_department_output_accuracy: 0.5543 - val_department_output_loss: 0.7957 - val_loss: 1.9062\n",
            "Epoch 63/100\n",
            "\u001b[1m35/35\u001b[0m \u001b[32m━━━━━━━━━━━━━━━━━━━━\u001b[0m\u001b[37m\u001b[0m \u001b[1m0s\u001b[0m 4ms/step - attrition_output_accuracy: 0.9898 - attrition_output_loss: 0.0533 - department_output_accuracy: 0.9014 - department_output_loss: 0.1897 - loss: 0.2430 - val_attrition_output_accuracy: 0.8125 - val_attrition_output_loss: 1.1716 - val_department_output_accuracy: 0.5652 - val_department_output_loss: 0.8024 - val_loss: 1.9774\n",
            "Epoch 64/100\n",
            "\u001b[1m35/35\u001b[0m \u001b[32m━━━━━━━━━━━━━━━━━━━━\u001b[0m\u001b[37m\u001b[0m \u001b[1m0s\u001b[0m 3ms/step - attrition_output_accuracy: 0.9938 - attrition_output_loss: 0.0368 - department_output_accuracy: 0.8836 - department_output_loss: 0.2046 - loss: 0.2412 - val_attrition_output_accuracy: 0.8234 - val_attrition_output_loss: 1.0697 - val_department_output_accuracy: 0.5299 - val_department_output_loss: 0.8197 - val_loss: 1.8948\n",
            "Epoch 65/100\n",
            "\u001b[1m35/35\u001b[0m \u001b[32m━━━━━━━━━━━━━━━━━━━━\u001b[0m\u001b[37m\u001b[0m \u001b[1m0s\u001b[0m 4ms/step - attrition_output_accuracy: 0.9901 - attrition_output_loss: 0.0344 - department_output_accuracy: 0.9118 - department_output_loss: 0.1737 - loss: 0.2081 - val_attrition_output_accuracy: 0.8370 - val_attrition_output_loss: 1.1487 - val_department_output_accuracy: 0.5598 - val_department_output_loss: 0.8111 - val_loss: 1.9629\n",
            "Epoch 66/100\n",
            "\u001b[1m35/35\u001b[0m \u001b[32m━━━━━━━━━━━━━━━━━━━━\u001b[0m\u001b[37m\u001b[0m \u001b[1m0s\u001b[0m 4ms/step - attrition_output_accuracy: 0.9940 - attrition_output_loss: 0.0270 - department_output_accuracy: 0.9072 - department_output_loss: 0.1794 - loss: 0.2064 - val_attrition_output_accuracy: 0.8261 - val_attrition_output_loss: 1.1220 - val_department_output_accuracy: 0.5435 - val_department_output_loss: 0.8273 - val_loss: 1.9663\n",
            "Epoch 67/100\n",
            "\u001b[1m35/35\u001b[0m \u001b[32m━━━━━━━━━━━━━━━━━━━━\u001b[0m\u001b[37m\u001b[0m \u001b[1m0s\u001b[0m 4ms/step - attrition_output_accuracy: 0.9952 - attrition_output_loss: 0.0310 - department_output_accuracy: 0.9223 - department_output_loss: 0.1660 - loss: 0.1970 - val_attrition_output_accuracy: 0.8315 - val_attrition_output_loss: 1.2107 - val_department_output_accuracy: 0.5380 - val_department_output_loss: 0.8351 - val_loss: 2.0503\n",
            "Epoch 68/100\n",
            "\u001b[1m35/35\u001b[0m \u001b[32m━━━━━━━━━━━━━━━━━━━━\u001b[0m\u001b[37m\u001b[0m \u001b[1m0s\u001b[0m 4ms/step - attrition_output_accuracy: 0.9957 - attrition_output_loss: 0.0220 - department_output_accuracy: 0.9135 - department_output_loss: 0.1680 - loss: 0.1901 - val_attrition_output_accuracy: 0.8234 - val_attrition_output_loss: 1.1781 - val_department_output_accuracy: 0.5598 - val_department_output_loss: 0.8731 - val_loss: 2.0734\n",
            "Epoch 69/100\n",
            "\u001b[1m35/35\u001b[0m \u001b[32m━━━━━━━━━━━━━━━━━━━━\u001b[0m\u001b[37m\u001b[0m \u001b[1m0s\u001b[0m 3ms/step - attrition_output_accuracy: 0.9968 - attrition_output_loss: 0.0212 - department_output_accuracy: 0.9180 - department_output_loss: 0.1656 - loss: 0.1868 - val_attrition_output_accuracy: 0.8261 - val_attrition_output_loss: 1.1823 - val_department_output_accuracy: 0.5652 - val_department_output_loss: 0.8782 - val_loss: 2.0750\n",
            "Epoch 70/100\n",
            "\u001b[1m35/35\u001b[0m \u001b[32m━━━━━━━━━━━━━━━━━━━━\u001b[0m\u001b[37m\u001b[0m \u001b[1m0s\u001b[0m 4ms/step - attrition_output_accuracy: 0.9990 - attrition_output_loss: 0.0122 - department_output_accuracy: 0.9358 - department_output_loss: 0.1462 - loss: 0.1584 - val_attrition_output_accuracy: 0.8179 - val_attrition_output_loss: 1.2013 - val_department_output_accuracy: 0.5652 - val_department_output_loss: 0.8858 - val_loss: 2.1015\n",
            "Epoch 71/100\n",
            "\u001b[1m35/35\u001b[0m \u001b[32m━━━━━━━━━━━━━━━━━━━━\u001b[0m\u001b[37m\u001b[0m \u001b[1m0s\u001b[0m 5ms/step - attrition_output_accuracy: 0.9989 - attrition_output_loss: 0.0136 - department_output_accuracy: 0.9110 - department_output_loss: 0.1708 - loss: 0.1844 - val_attrition_output_accuracy: 0.8397 - val_attrition_output_loss: 1.2497 - val_department_output_accuracy: 0.5353 - val_department_output_loss: 0.8760 - val_loss: 2.1439\n",
            "Epoch 72/100\n",
            "\u001b[1m35/35\u001b[0m \u001b[32m━━━━━━━━━━━━━━━━━━━━\u001b[0m\u001b[37m\u001b[0m \u001b[1m0s\u001b[0m 4ms/step - attrition_output_accuracy: 0.9972 - attrition_output_loss: 0.0178 - department_output_accuracy: 0.9308 - department_output_loss: 0.1541 - loss: 0.1719 - val_attrition_output_accuracy: 0.8234 - val_attrition_output_loss: 1.2254 - val_department_output_accuracy: 0.5897 - val_department_output_loss: 0.9249 - val_loss: 2.1633\n",
            "Epoch 73/100\n",
            "\u001b[1m35/35\u001b[0m \u001b[32m━━━━━━━━━━━━━━━━━━━━\u001b[0m\u001b[37m\u001b[0m \u001b[1m0s\u001b[0m 4ms/step - attrition_output_accuracy: 0.9969 - attrition_output_loss: 0.0156 - department_output_accuracy: 0.9348 - department_output_loss: 0.1445 - loss: 0.1602 - val_attrition_output_accuracy: 0.8207 - val_attrition_output_loss: 1.2748 - val_department_output_accuracy: 0.5380 - val_department_output_loss: 0.9279 - val_loss: 2.2225\n",
            "Epoch 74/100\n",
            "\u001b[1m35/35\u001b[0m \u001b[32m━━━━━━━━━━━━━━━━━━━━\u001b[0m\u001b[37m\u001b[0m \u001b[1m0s\u001b[0m 4ms/step - attrition_output_accuracy: 0.9991 - attrition_output_loss: 0.0104 - department_output_accuracy: 0.9389 - department_output_loss: 0.1450 - loss: 0.1553 - val_attrition_output_accuracy: 0.8288 - val_attrition_output_loss: 1.2513 - val_department_output_accuracy: 0.5734 - val_department_output_loss: 0.9068 - val_loss: 2.1709\n",
            "Epoch 75/100\n",
            "\u001b[1m35/35\u001b[0m \u001b[32m━━━━━━━━━━━━━━━━━━━━\u001b[0m\u001b[37m\u001b[0m \u001b[1m0s\u001b[0m 4ms/step - attrition_output_accuracy: 0.9967 - attrition_output_loss: 0.0147 - department_output_accuracy: 0.9298 - department_output_loss: 0.1419 - loss: 0.1566 - val_attrition_output_accuracy: 0.8342 - val_attrition_output_loss: 1.2583 - val_department_output_accuracy: 0.5707 - val_department_output_loss: 0.9467 - val_loss: 2.2267\n",
            "Epoch 76/100\n",
            "\u001b[1m35/35\u001b[0m \u001b[32m━━━━━━━━━━━━━━━━━━━━\u001b[0m\u001b[37m\u001b[0m \u001b[1m0s\u001b[0m 4ms/step - attrition_output_accuracy: 0.9980 - attrition_output_loss: 0.0096 - department_output_accuracy: 0.9411 - department_output_loss: 0.1301 - loss: 0.1397 - val_attrition_output_accuracy: 0.8261 - val_attrition_output_loss: 1.3249 - val_department_output_accuracy: 0.5245 - val_department_output_loss: 0.9486 - val_loss: 2.2903\n",
            "Epoch 77/100\n",
            "\u001b[1m35/35\u001b[0m \u001b[32m━━━━━━━━━━━━━━━━━━━━\u001b[0m\u001b[37m\u001b[0m \u001b[1m0s\u001b[0m 4ms/step - attrition_output_accuracy: 0.9982 - attrition_output_loss: 0.0109 - department_output_accuracy: 0.9387 - department_output_loss: 0.1349 - loss: 0.1457 - val_attrition_output_accuracy: 0.8315 - val_attrition_output_loss: 1.2855 - val_department_output_accuracy: 0.5435 - val_department_output_loss: 0.9507 - val_loss: 2.2504\n",
            "Epoch 78/100\n",
            "\u001b[1m35/35\u001b[0m \u001b[32m━━━━━━━━━━━━━━━━━━━━\u001b[0m\u001b[37m\u001b[0m \u001b[1m0s\u001b[0m 4ms/step - attrition_output_accuracy: 1.0000 - attrition_output_loss: 0.0090 - department_output_accuracy: 0.9439 - department_output_loss: 0.1300 - loss: 0.1390 - val_attrition_output_accuracy: 0.8179 - val_attrition_output_loss: 1.3547 - val_department_output_accuracy: 0.5380 - val_department_output_loss: 0.9771 - val_loss: 2.3489\n",
            "Epoch 79/100\n",
            "\u001b[1m35/35\u001b[0m \u001b[32m━━━━━━━━━━━━━━━━━━━━\u001b[0m\u001b[37m\u001b[0m \u001b[1m0s\u001b[0m 3ms/step - attrition_output_accuracy: 0.9987 - attrition_output_loss: 0.0105 - department_output_accuracy: 0.9553 - department_output_loss: 0.1227 - loss: 0.1332 - val_attrition_output_accuracy: 0.8342 - val_attrition_output_loss: 1.3315 - val_department_output_accuracy: 0.5543 - val_department_output_loss: 0.9932 - val_loss: 2.3389\n",
            "Epoch 80/100\n",
            "\u001b[1m35/35\u001b[0m \u001b[32m━━━━━━━━━━━━━━━━━━━━\u001b[0m\u001b[37m\u001b[0m \u001b[1m0s\u001b[0m 4ms/step - attrition_output_accuracy: 0.9993 - attrition_output_loss: 0.0102 - department_output_accuracy: 0.9533 - department_output_loss: 0.1128 - loss: 0.1228 - val_attrition_output_accuracy: 0.8234 - val_attrition_output_loss: 1.3224 - val_department_output_accuracy: 0.5598 - val_department_output_loss: 0.9958 - val_loss: 2.3310\n",
            "Epoch 81/100\n",
            "\u001b[1m35/35\u001b[0m \u001b[32m━━━━━━━━━━━━━━━━━━━━\u001b[0m\u001b[37m\u001b[0m \u001b[1m0s\u001b[0m 4ms/step - attrition_output_accuracy: 0.9960 - attrition_output_loss: 0.0174 - department_output_accuracy: 0.9578 - department_output_loss: 0.1099 - loss: 0.1270 - val_attrition_output_accuracy: 0.8125 - val_attrition_output_loss: 1.3829 - val_department_output_accuracy: 0.5652 - val_department_output_loss: 1.0441 - val_loss: 2.4412\n",
            "Epoch 82/100\n",
            "\u001b[1m35/35\u001b[0m \u001b[32m━━━━━━━━━━━━━━━━━━━━\u001b[0m\u001b[37m\u001b[0m \u001b[1m0s\u001b[0m 4ms/step - attrition_output_accuracy: 0.9975 - attrition_output_loss: 0.0161 - department_output_accuracy: 0.9361 - department_output_loss: 0.1265 - loss: 0.1425 - val_attrition_output_accuracy: 0.8152 - val_attrition_output_loss: 1.3814 - val_department_output_accuracy: 0.5326 - val_department_output_loss: 1.0356 - val_loss: 2.4310\n",
            "Epoch 83/100\n",
            "\u001b[1m35/35\u001b[0m \u001b[32m━━━━━━━━━━━━━━━━━━━━\u001b[0m\u001b[37m\u001b[0m \u001b[1m0s\u001b[0m 4ms/step - attrition_output_accuracy: 0.9907 - attrition_output_loss: 0.0197 - department_output_accuracy: 0.9412 - department_output_loss: 0.1241 - loss: 0.1437 - val_attrition_output_accuracy: 0.8179 - val_attrition_output_loss: 1.5033 - val_department_output_accuracy: 0.5842 - val_department_output_loss: 1.0520 - val_loss: 2.5510\n",
            "Epoch 84/100\n",
            "\u001b[1m35/35\u001b[0m \u001b[32m━━━━━━━━━━━━━━━━━━━━\u001b[0m\u001b[37m\u001b[0m \u001b[1m0s\u001b[0m 5ms/step - attrition_output_accuracy: 0.9944 - attrition_output_loss: 0.0227 - department_output_accuracy: 0.9517 - department_output_loss: 0.1147 - loss: 0.1375 - val_attrition_output_accuracy: 0.8125 - val_attrition_output_loss: 1.5913 - val_department_output_accuracy: 0.5761 - val_department_output_loss: 1.0376 - val_loss: 2.6421\n",
            "Epoch 85/100\n",
            "\u001b[1m35/35\u001b[0m \u001b[32m━━━━━━━━━━━━━━━━━━━━\u001b[0m\u001b[37m\u001b[0m \u001b[1m0s\u001b[0m 4ms/step - attrition_output_accuracy: 0.9737 - attrition_output_loss: 0.0508 - department_output_accuracy: 0.9557 - department_output_loss: 0.1110 - loss: 0.1619 - val_attrition_output_accuracy: 0.8234 - val_attrition_output_loss: 1.5087 - val_department_output_accuracy: 0.5598 - val_department_output_loss: 1.0592 - val_loss: 2.6048\n",
            "Epoch 86/100\n",
            "\u001b[1m35/35\u001b[0m \u001b[32m━━━━━━━━━━━━━━━━━━━━\u001b[0m\u001b[37m\u001b[0m \u001b[1m0s\u001b[0m 4ms/step - attrition_output_accuracy: 0.9935 - attrition_output_loss: 0.0206 - department_output_accuracy: 0.9529 - department_output_loss: 0.1062 - loss: 0.1268 - val_attrition_output_accuracy: 0.8234 - val_attrition_output_loss: 1.4602 - val_department_output_accuracy: 0.5489 - val_department_output_loss: 1.0564 - val_loss: 2.5389\n",
            "Epoch 87/100\n",
            "\u001b[1m35/35\u001b[0m \u001b[32m━━━━━━━━━━━━━━━━━━━━\u001b[0m\u001b[37m\u001b[0m \u001b[1m0s\u001b[0m 4ms/step - attrition_output_accuracy: 0.9850 - attrition_output_loss: 0.0495 - department_output_accuracy: 0.9598 - department_output_loss: 0.1049 - loss: 0.1545 - val_attrition_output_accuracy: 0.8098 - val_attrition_output_loss: 1.5124 - val_department_output_accuracy: 0.5353 - val_department_output_loss: 1.0810 - val_loss: 2.6097\n",
            "Epoch 88/100\n",
            "\u001b[1m35/35\u001b[0m \u001b[32m━━━━━━━━━━━━━━━━━━━━\u001b[0m\u001b[37m\u001b[0m \u001b[1m0s\u001b[0m 4ms/step - attrition_output_accuracy: 0.9653 - attrition_output_loss: 0.1310 - department_output_accuracy: 0.9550 - department_output_loss: 0.1041 - loss: 0.2351 - val_attrition_output_accuracy: 0.8125 - val_attrition_output_loss: 1.3856 - val_department_output_accuracy: 0.5571 - val_department_output_loss: 1.0862 - val_loss: 2.4892\n",
            "Epoch 89/100\n",
            "\u001b[1m35/35\u001b[0m \u001b[32m━━━━━━━━━━━━━━━━━━━━\u001b[0m\u001b[37m\u001b[0m \u001b[1m0s\u001b[0m 4ms/step - attrition_output_accuracy: 0.9921 - attrition_output_loss: 0.0303 - department_output_accuracy: 0.9421 - department_output_loss: 0.1104 - loss: 0.1406 - val_attrition_output_accuracy: 0.8288 - val_attrition_output_loss: 1.2958 - val_department_output_accuracy: 0.5163 - val_department_output_loss: 1.1034 - val_loss: 2.4163\n",
            "Epoch 90/100\n",
            "\u001b[1m35/35\u001b[0m \u001b[32m━━━━━━━━━━━━━━━━━━━━\u001b[0m\u001b[37m\u001b[0m \u001b[1m0s\u001b[0m 4ms/step - attrition_output_accuracy: 0.9968 - attrition_output_loss: 0.0175 - department_output_accuracy: 0.9555 - department_output_loss: 0.1027 - loss: 0.1201 - val_attrition_output_accuracy: 0.8370 - val_attrition_output_loss: 1.4041 - val_department_output_accuracy: 0.5815 - val_department_output_loss: 1.1329 - val_loss: 2.5470\n",
            "Epoch 91/100\n",
            "\u001b[1m35/35\u001b[0m \u001b[32m━━━━━━━━━━━━━━━━━━━━\u001b[0m\u001b[37m\u001b[0m \u001b[1m0s\u001b[0m 5ms/step - attrition_output_accuracy: 1.0000 - attrition_output_loss: 0.0091 - department_output_accuracy: 0.9516 - department_output_loss: 0.1093 - loss: 0.1184 - val_attrition_output_accuracy: 0.8370 - val_attrition_output_loss: 1.3990 - val_department_output_accuracy: 0.5299 - val_department_output_loss: 1.1458 - val_loss: 2.5688\n",
            "Epoch 92/100\n",
            "\u001b[1m35/35\u001b[0m \u001b[32m━━━━━━━━━━━━━━━━━━━━\u001b[0m\u001b[37m\u001b[0m \u001b[1m0s\u001b[0m 4ms/step - attrition_output_accuracy: 0.9988 - attrition_output_loss: 0.0072 - department_output_accuracy: 0.9651 - department_output_loss: 0.0909 - loss: 0.0981 - val_attrition_output_accuracy: 0.8234 - val_attrition_output_loss: 1.4247 - val_department_output_accuracy: 0.5679 - val_department_output_loss: 1.1229 - val_loss: 2.5632\n",
            "Epoch 93/100\n",
            "\u001b[1m35/35\u001b[0m \u001b[32m━━━━━━━━━━━━━━━━━━━━\u001b[0m\u001b[37m\u001b[0m \u001b[1m0s\u001b[0m 4ms/step - attrition_output_accuracy: 1.0000 - attrition_output_loss: 0.0055 - department_output_accuracy: 0.9713 - department_output_loss: 0.0857 - loss: 0.0911 - val_attrition_output_accuracy: 0.8234 - val_attrition_output_loss: 1.4344 - val_department_output_accuracy: 0.5543 - val_department_output_loss: 1.1504 - val_loss: 2.5997\n",
            "Epoch 94/100\n",
            "\u001b[1m35/35\u001b[0m \u001b[32m━━━━━━━━━━━━━━━━━━━━\u001b[0m\u001b[37m\u001b[0m \u001b[1m0s\u001b[0m 4ms/step - attrition_output_accuracy: 0.9974 - attrition_output_loss: 0.0073 - department_output_accuracy: 0.9749 - department_output_loss: 0.0769 - loss: 0.0842 - val_attrition_output_accuracy: 0.8234 - val_attrition_output_loss: 1.4357 - val_department_output_accuracy: 0.5380 - val_department_output_loss: 1.1695 - val_loss: 2.6206\n",
            "Epoch 95/100\n",
            "\u001b[1m35/35\u001b[0m \u001b[32m━━━━━━━━━━━━━━━━━━━━\u001b[0m\u001b[37m\u001b[0m \u001b[1m0s\u001b[0m 4ms/step - attrition_output_accuracy: 0.9978 - attrition_output_loss: 0.0076 - department_output_accuracy: 0.9716 - department_output_loss: 0.0832 - loss: 0.0908 - val_attrition_output_accuracy: 0.8370 - val_attrition_output_loss: 1.4734 - val_department_output_accuracy: 0.5489 - val_department_output_loss: 1.2019 - val_loss: 2.6971\n",
            "Epoch 96/100\n",
            "\u001b[1m35/35\u001b[0m \u001b[32m━━━━━━━━━━━━━━━━━━━━\u001b[0m\u001b[37m\u001b[0m \u001b[1m0s\u001b[0m 4ms/step - attrition_output_accuracy: 1.0000 - attrition_output_loss: 0.0071 - department_output_accuracy: 0.9731 - department_output_loss: 0.0784 - loss: 0.0855 - val_attrition_output_accuracy: 0.8342 - val_attrition_output_loss: 1.4704 - val_department_output_accuracy: 0.5761 - val_department_output_loss: 1.2341 - val_loss: 2.7217\n",
            "Epoch 97/100\n",
            "\u001b[1m35/35\u001b[0m \u001b[32m━━━━━━━━━━━━━━━━━━━━\u001b[0m\u001b[37m\u001b[0m \u001b[1m0s\u001b[0m 8ms/step - attrition_output_accuracy: 1.0000 - attrition_output_loss: 0.0066 - department_output_accuracy: 0.9680 - department_output_loss: 0.0821 - loss: 0.0887 - val_attrition_output_accuracy: 0.8152 - val_attrition_output_loss: 1.5208 - val_department_output_accuracy: 0.5543 - val_department_output_loss: 1.2040 - val_loss: 2.7417\n",
            "Epoch 98/100\n",
            "\u001b[1m35/35\u001b[0m \u001b[32m━━━━━━━━━━━━━━━━━━━━\u001b[0m\u001b[37m\u001b[0m \u001b[1m0s\u001b[0m 7ms/step - attrition_output_accuracy: 1.0000 - attrition_output_loss: 0.0094 - department_output_accuracy: 0.9769 - department_output_loss: 0.0764 - loss: 0.0857 - val_attrition_output_accuracy: 0.8207 - val_attrition_output_loss: 1.5027 - val_department_output_accuracy: 0.5462 - val_department_output_loss: 1.2104 - val_loss: 2.7317\n",
            "Epoch 99/100\n",
            "\u001b[1m35/35\u001b[0m \u001b[32m━━━━━━━━━━━━━━━━━━━━\u001b[0m\u001b[37m\u001b[0m \u001b[1m0s\u001b[0m 7ms/step - attrition_output_accuracy: 1.0000 - attrition_output_loss: 0.0043 - department_output_accuracy: 0.9736 - department_output_loss: 0.0681 - loss: 0.0725 - val_attrition_output_accuracy: 0.8152 - val_attrition_output_loss: 1.5256 - val_department_output_accuracy: 0.5190 - val_department_output_loss: 1.2317 - val_loss: 2.7770\n",
            "Epoch 100/100\n",
            "\u001b[1m35/35\u001b[0m \u001b[32m━━━━━━━━━━━━━━━━━━━━\u001b[0m\u001b[37m\u001b[0m \u001b[1m0s\u001b[0m 6ms/step - attrition_output_accuracy: 1.0000 - attrition_output_loss: 0.0056 - department_output_accuracy: 0.9809 - department_output_loss: 0.0700 - loss: 0.0756 - val_attrition_output_accuracy: 0.8370 - val_attrition_output_loss: 1.5421 - val_department_output_accuracy: 0.5435 - val_department_output_loss: 1.2517 - val_loss: 2.8193\n"
          ]
        },
        {
          "output_type": "execute_result",
          "data": {
            "text/plain": [
              "<keras.src.callbacks.history.History at 0x7aa00431b310>"
            ]
          },
          "metadata": {},
          "execution_count": 131
        }
      ],
      "source": [
        "# Train the model\n",
        "model.fit(X_train_scaled,\n",
        "          [y_train_department, y_train_attrition],\n",
        "          epochs=100,\n",
        "          batch_size=32,\n",
        "          validation_split = 0.2,\n",
        "          validation_data=(X_test_scaled, [y_test_department, y_test_attrition])\n",
        "          )\n"
      ]
    },
    {
      "cell_type": "code",
      "execution_count": 133,
      "metadata": {
        "colab": {
          "base_uri": "https://localhost:8080/"
        },
        "id": "VsMoaQlgGc3U",
        "outputId": "851d474a-943b-4d30-d16a-69aa7be31ea2"
      },
      "outputs": [
        {
          "output_type": "stream",
          "name": "stdout",
          "text": [
            "\u001b[1m12/12\u001b[0m \u001b[32m━━━━━━━━━━━━━━━━━━━━\u001b[0m\u001b[37m\u001b[0m \u001b[1m0s\u001b[0m 3ms/step - attrition_output_accuracy: 0.8246 - attrition_output_loss: 1.8042 - department_output_accuracy: 0.5467 - department_output_loss: 1.2646 - loss: 3.0728 \n"
          ]
        },
        {
          "output_type": "execute_result",
          "data": {
            "text/plain": [
              "[2.819342851638794,\n",
              " 1.2517216205596924,\n",
              " 1.5420883893966675,\n",
              " 0.8369565010070801,\n",
              " 0.54347825050354]"
            ]
          },
          "metadata": {},
          "execution_count": 133
        }
      ],
      "source": [
        "# Evaluate the model with the testing data\n",
        "results = model.evaluate(X_test_scaled, [y_test_department, y_test_attrition])\n",
        "results"
      ]
    },
    {
      "cell_type": "code",
      "execution_count": 136,
      "metadata": {
        "colab": {
          "base_uri": "https://localhost:8080/"
        },
        "id": "ZlCtlHi0Vt54",
        "outputId": "e76fa895-4c10-43eb-92c6-ee5a80e0d1aa"
      },
      "outputs": [
        {
          "output_type": "stream",
          "name": "stdout",
          "text": [
            "Department prediction accuracy:  0.54347825050354\n",
            "Attrition prediction accuracy:  0.8369565010070801\n"
          ]
        }
      ],
      "source": [
        "# Print the accuracy for both department and attrition\n",
        "print(\"Department prediction accuracy: \", results[4])\n",
        "print(\"Attrition prediction accuracy: \", results[3])"
      ]
    },
    {
      "cell_type": "markdown",
      "metadata": {
        "id": "eGSyfsZfWOQM"
      },
      "source": [
        "# Summary\n",
        "\n",
        "In the provided space below, briefly answer the following questions.\n",
        "\n",
        "1. Is accuracy the best metric to use on this data? Why or why not?\n",
        "\n",
        "2. What activation functions did you choose for your output layers, and why?\n",
        "\n",
        "3. Can you name a few ways that this model might be improved?"
      ]
    },
    {
      "cell_type": "markdown",
      "metadata": {
        "id": "pi9SLpFnWvbF"
      },
      "source": [
        "YOUR ANSWERS HERE\n",
        "\n",
        "1.\n",
        "2.\n",
        "3."
      ]
    },
    {
      "cell_type": "markdown",
      "metadata": {
        "id": "cfOVkaHIi1qZ"
      },
      "source": []
    }
  ],
  "metadata": {
    "colab": {
      "provenance": []
    },
    "kernelspec": {
      "display_name": "Python 3",
      "language": "python",
      "name": "python3"
    },
    "language_info": {
      "codemirror_mode": {
        "name": "ipython",
        "version": 3
      },
      "file_extension": ".py",
      "mimetype": "text/x-python",
      "name": "python",
      "nbconvert_exporter": "python",
      "pygments_lexer": "ipython3",
      "version": "3.9.18"
    },
    "vscode": {
      "interpreter": {
        "hash": "31f2aee4e71d21fbe5cf8b01ff0e069b9275f58929596ceb00d14d90e3e16cd6"
      }
    }
  },
  "nbformat": 4,
  "nbformat_minor": 0
}