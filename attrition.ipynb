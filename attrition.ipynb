{
  "cells": [
    {
      "cell_type": "markdown",
      "metadata": {
        "id": "alIIEHibGc3M"
      },
      "source": [
        "## Part 1: Preprocessing"
      ]
    },
    {
      "cell_type": "code",
      "execution_count": 2,
      "metadata": {
        "colab": {
          "base_uri": "https://localhost:8080/",
          "height": 325
        },
        "id": "6eDUJ4NtGc3P",
        "outputId": "865fb099-065c-4bb7-87ed-022ca0c3cf1f"
      },
      "outputs": [
        {
          "data": {
            "text/html": [
              "<div>\n",
              "<style scoped>\n",
              "    .dataframe tbody tr th:only-of-type {\n",
              "        vertical-align: middle;\n",
              "    }\n",
              "\n",
              "    .dataframe tbody tr th {\n",
              "        vertical-align: top;\n",
              "    }\n",
              "\n",
              "    .dataframe thead th {\n",
              "        text-align: right;\n",
              "    }\n",
              "</style>\n",
              "<table border=\"1\" class=\"dataframe\">\n",
              "  <thead>\n",
              "    <tr style=\"text-align: right;\">\n",
              "      <th></th>\n",
              "      <th>Age</th>\n",
              "      <th>Attrition</th>\n",
              "      <th>BusinessTravel</th>\n",
              "      <th>Department</th>\n",
              "      <th>DistanceFromHome</th>\n",
              "      <th>Education</th>\n",
              "      <th>EducationField</th>\n",
              "      <th>EnvironmentSatisfaction</th>\n",
              "      <th>HourlyRate</th>\n",
              "      <th>JobInvolvement</th>\n",
              "      <th>...</th>\n",
              "      <th>PerformanceRating</th>\n",
              "      <th>RelationshipSatisfaction</th>\n",
              "      <th>StockOptionLevel</th>\n",
              "      <th>TotalWorkingYears</th>\n",
              "      <th>TrainingTimesLastYear</th>\n",
              "      <th>WorkLifeBalance</th>\n",
              "      <th>YearsAtCompany</th>\n",
              "      <th>YearsInCurrentRole</th>\n",
              "      <th>YearsSinceLastPromotion</th>\n",
              "      <th>YearsWithCurrManager</th>\n",
              "    </tr>\n",
              "  </thead>\n",
              "  <tbody>\n",
              "    <tr>\n",
              "      <th>0</th>\n",
              "      <td>41</td>\n",
              "      <td>Yes</td>\n",
              "      <td>Travel_Rarely</td>\n",
              "      <td>Sales</td>\n",
              "      <td>1</td>\n",
              "      <td>2</td>\n",
              "      <td>Life Sciences</td>\n",
              "      <td>2</td>\n",
              "      <td>94</td>\n",
              "      <td>3</td>\n",
              "      <td>...</td>\n",
              "      <td>3</td>\n",
              "      <td>1</td>\n",
              "      <td>0</td>\n",
              "      <td>8</td>\n",
              "      <td>0</td>\n",
              "      <td>1</td>\n",
              "      <td>6</td>\n",
              "      <td>4</td>\n",
              "      <td>0</td>\n",
              "      <td>5</td>\n",
              "    </tr>\n",
              "    <tr>\n",
              "      <th>1</th>\n",
              "      <td>49</td>\n",
              "      <td>No</td>\n",
              "      <td>Travel_Frequently</td>\n",
              "      <td>Research &amp; Development</td>\n",
              "      <td>8</td>\n",
              "      <td>1</td>\n",
              "      <td>Life Sciences</td>\n",
              "      <td>3</td>\n",
              "      <td>61</td>\n",
              "      <td>2</td>\n",
              "      <td>...</td>\n",
              "      <td>4</td>\n",
              "      <td>4</td>\n",
              "      <td>1</td>\n",
              "      <td>10</td>\n",
              "      <td>3</td>\n",
              "      <td>3</td>\n",
              "      <td>10</td>\n",
              "      <td>7</td>\n",
              "      <td>1</td>\n",
              "      <td>7</td>\n",
              "    </tr>\n",
              "    <tr>\n",
              "      <th>2</th>\n",
              "      <td>37</td>\n",
              "      <td>Yes</td>\n",
              "      <td>Travel_Rarely</td>\n",
              "      <td>Research &amp; Development</td>\n",
              "      <td>2</td>\n",
              "      <td>2</td>\n",
              "      <td>Other</td>\n",
              "      <td>4</td>\n",
              "      <td>92</td>\n",
              "      <td>2</td>\n",
              "      <td>...</td>\n",
              "      <td>3</td>\n",
              "      <td>2</td>\n",
              "      <td>0</td>\n",
              "      <td>7</td>\n",
              "      <td>3</td>\n",
              "      <td>3</td>\n",
              "      <td>0</td>\n",
              "      <td>0</td>\n",
              "      <td>0</td>\n",
              "      <td>0</td>\n",
              "    </tr>\n",
              "    <tr>\n",
              "      <th>3</th>\n",
              "      <td>33</td>\n",
              "      <td>No</td>\n",
              "      <td>Travel_Frequently</td>\n",
              "      <td>Research &amp; Development</td>\n",
              "      <td>3</td>\n",
              "      <td>4</td>\n",
              "      <td>Life Sciences</td>\n",
              "      <td>4</td>\n",
              "      <td>56</td>\n",
              "      <td>3</td>\n",
              "      <td>...</td>\n",
              "      <td>3</td>\n",
              "      <td>3</td>\n",
              "      <td>0</td>\n",
              "      <td>8</td>\n",
              "      <td>3</td>\n",
              "      <td>3</td>\n",
              "      <td>8</td>\n",
              "      <td>7</td>\n",
              "      <td>3</td>\n",
              "      <td>0</td>\n",
              "    </tr>\n",
              "    <tr>\n",
              "      <th>4</th>\n",
              "      <td>27</td>\n",
              "      <td>No</td>\n",
              "      <td>Travel_Rarely</td>\n",
              "      <td>Research &amp; Development</td>\n",
              "      <td>2</td>\n",
              "      <td>1</td>\n",
              "      <td>Medical</td>\n",
              "      <td>1</td>\n",
              "      <td>40</td>\n",
              "      <td>3</td>\n",
              "      <td>...</td>\n",
              "      <td>3</td>\n",
              "      <td>4</td>\n",
              "      <td>1</td>\n",
              "      <td>6</td>\n",
              "      <td>3</td>\n",
              "      <td>3</td>\n",
              "      <td>2</td>\n",
              "      <td>2</td>\n",
              "      <td>2</td>\n",
              "      <td>2</td>\n",
              "    </tr>\n",
              "  </tbody>\n",
              "</table>\n",
              "<p>5 rows × 27 columns</p>\n",
              "</div>"
            ],
            "text/plain": [
              "   Age Attrition     BusinessTravel              Department  DistanceFromHome  \\\n",
              "0   41       Yes      Travel_Rarely                   Sales                 1   \n",
              "1   49        No  Travel_Frequently  Research & Development                 8   \n",
              "2   37       Yes      Travel_Rarely  Research & Development                 2   \n",
              "3   33        No  Travel_Frequently  Research & Development                 3   \n",
              "4   27        No      Travel_Rarely  Research & Development                 2   \n",
              "\n",
              "   Education EducationField  EnvironmentSatisfaction  HourlyRate  \\\n",
              "0          2  Life Sciences                        2          94   \n",
              "1          1  Life Sciences                        3          61   \n",
              "2          2          Other                        4          92   \n",
              "3          4  Life Sciences                        4          56   \n",
              "4          1        Medical                        1          40   \n",
              "\n",
              "   JobInvolvement  ...  PerformanceRating RelationshipSatisfaction  \\\n",
              "0               3  ...                  3                        1   \n",
              "1               2  ...                  4                        4   \n",
              "2               2  ...                  3                        2   \n",
              "3               3  ...                  3                        3   \n",
              "4               3  ...                  3                        4   \n",
              "\n",
              "   StockOptionLevel TotalWorkingYears  TrainingTimesLastYear WorkLifeBalance  \\\n",
              "0                 0                 8                      0               1   \n",
              "1                 1                10                      3               3   \n",
              "2                 0                 7                      3               3   \n",
              "3                 0                 8                      3               3   \n",
              "4                 1                 6                      3               3   \n",
              "\n",
              "   YearsAtCompany  YearsInCurrentRole  YearsSinceLastPromotion  \\\n",
              "0               6                   4                        0   \n",
              "1              10                   7                        1   \n",
              "2               0                   0                        0   \n",
              "3               8                   7                        3   \n",
              "4               2                   2                        2   \n",
              "\n",
              "   YearsWithCurrManager  \n",
              "0                     5  \n",
              "1                     7  \n",
              "2                     0  \n",
              "3                     0  \n",
              "4                     2  \n",
              "\n",
              "[5 rows x 27 columns]"
            ]
          },
          "execution_count": 2,
          "metadata": {},
          "output_type": "execute_result"
        }
      ],
      "source": [
        "# Import our dependencies\n",
        "from sklearn.model_selection import train_test_split\n",
        "from sklearn.preprocessing import StandardScaler\n",
        "from sklearn.preprocessing import OneHotEncoder, LabelEncoder\n",
        "import pandas as pd\n",
        "import numpy as np\n",
        "from tensorflow.keras.models import Model\n",
        "from keras import layers\n",
        "\n",
        "\n",
        "#  Import and read the attrition data\n",
        "attrition_df = pd.read_csv('https://static.bc-edx.com/ai/ail-v-1-0/m19/lms/datasets/attrition.csv')\n",
        "attrition_df.head()"
      ]
    },
    {
      "cell_type": "code",
      "execution_count": 3,
      "metadata": {
        "colab": {
          "base_uri": "https://localhost:8080/",
          "height": 930
        },
        "id": "g22aQSY4Gc3Q",
        "outputId": "13136397-2909-4c1f-f755-8ec2ade78cf0"
      },
      "outputs": [
        {
          "data": {
            "text/plain": [
              "Age                         43\n",
              "Attrition                    2\n",
              "BusinessTravel               3\n",
              "Department                   3\n",
              "DistanceFromHome            29\n",
              "Education                    5\n",
              "EducationField               6\n",
              "EnvironmentSatisfaction      4\n",
              "HourlyRate                  71\n",
              "JobInvolvement               4\n",
              "JobLevel                     5\n",
              "JobRole                      9\n",
              "JobSatisfaction              4\n",
              "MaritalStatus                3\n",
              "NumCompaniesWorked          10\n",
              "OverTime                     2\n",
              "PercentSalaryHike           15\n",
              "PerformanceRating            2\n",
              "RelationshipSatisfaction     4\n",
              "StockOptionLevel             4\n",
              "TotalWorkingYears           40\n",
              "TrainingTimesLastYear        7\n",
              "WorkLifeBalance              4\n",
              "YearsAtCompany              37\n",
              "YearsInCurrentRole          19\n",
              "YearsSinceLastPromotion     16\n",
              "YearsWithCurrManager        18\n",
              "dtype: int64"
            ]
          },
          "execution_count": 3,
          "metadata": {},
          "output_type": "execute_result"
        }
      ],
      "source": [
        "# Determine the number of unique values in each column.\n",
        "attrition_df.nunique()"
      ]
    },
    {
      "cell_type": "code",
      "execution_count": 4,
      "metadata": {
        "id": "50vMgBEnJbfM"
      },
      "outputs": [],
      "source": [
        "# Create y_df with the Attrition and Department columns\n",
        "y_df = attrition_df[['Attrition', 'Department']]\n"
      ]
    },
    {
      "cell_type": "code",
      "execution_count": 5,
      "metadata": {
        "colab": {
          "base_uri": "https://localhost:8080/",
          "height": 397
        },
        "id": "Virka0zLGc3R",
        "outputId": "47acf92a-07ae-4322-e441-83b345c3282a"
      },
      "outputs": [
        {
          "data": {
            "text/plain": [
              "Education                   int64\n",
              "Age                         int64\n",
              "DistanceFromHome            int64\n",
              "JobSatisfaction             int64\n",
              "OverTime                   object\n",
              "StockOptionLevel            int64\n",
              "WorkLifeBalance             int64\n",
              "YearsAtCompany              int64\n",
              "YearsSinceLastPromotion     int64\n",
              "NumCompaniesWorked          int64\n",
              "dtype: object"
            ]
          },
          "execution_count": 5,
          "metadata": {},
          "output_type": "execute_result"
        }
      ],
      "source": [
        "# Create a list of at least 10 column names to use as X data\n",
        "X_columns = ['Education', 'Age', 'DistanceFromHome', 'JobSatisfaction', 'OverTime', 'StockOptionLevel', 'WorkLifeBalance', 'YearsAtCompany', 'YearsSinceLastPromotion', 'NumCompaniesWorked']\n",
        "\n",
        "# Create X_df using your selected columns\n",
        "X_df = attrition_df[X_columns]\n",
        "\n",
        "# Show the data types for X_df\n",
        "X_df.dtypes\n"
      ]
    },
    {
      "cell_type": "code",
      "execution_count": 6,
      "metadata": {
        "id": "KaJfdOGUMHMR"
      },
      "outputs": [],
      "source": [
        "# Split the data into training and testing sets\n",
        "from sklearn.model_selection import train_test_split\n",
        "X_train, X_test, y_train, y_test = train_test_split(X_df, y_df, random_state=42)\n"
      ]
    },
    {
      "cell_type": "code",
      "execution_count": 7,
      "metadata": {
        "colab": {
          "base_uri": "https://localhost:8080/",
          "height": 178
        },
        "id": "NYubUJqiLCSp",
        "outputId": "f275911d-5a09-4307-e2fa-03087872f5bc"
      },
      "outputs": [
        {
          "data": {
            "text/plain": [
              "OverTime\n",
              "No     780\n",
              "Yes    322\n",
              "Name: count, dtype: int64"
            ]
          },
          "execution_count": 7,
          "metadata": {},
          "output_type": "execute_result"
        }
      ],
      "source": [
        "# Convert your X data to numeric data types however you see fit\n",
        "# Add new code cells as necessary\n",
        "X_train['OverTime'].value_counts()"
      ]
    },
    {
      "cell_type": "code",
      "execution_count": 8,
      "metadata": {
        "colab": {
          "base_uri": "https://localhost:8080/",
          "height": 397
        },
        "id": "hkfuI9AToiEY",
        "outputId": "b5f21498-cf67-4a07-ba9b-4f458cb5158c"
      },
      "outputs": [
        {
          "data": {
            "text/plain": [
              "Education                  int64\n",
              "Age                        int64\n",
              "DistanceFromHome           int64\n",
              "JobSatisfaction            int64\n",
              "OverTime                   int32\n",
              "StockOptionLevel           int64\n",
              "WorkLifeBalance            int64\n",
              "YearsAtCompany             int64\n",
              "YearsSinceLastPromotion    int64\n",
              "NumCompaniesWorked         int64\n",
              "dtype: object"
            ]
          },
          "execution_count": 8,
          "metadata": {},
          "output_type": "execute_result"
        }
      ],
      "source": [
        "# Create LabelEncoder instance\n",
        "label_encoder = LabelEncoder()\n",
        "\n",
        "# Fit & transform OverTime column\n",
        "X_train['OverTime'] = label_encoder.fit_transform(X_train['OverTime'])\n",
        "X_test['OverTime'] = label_encoder.transform(X_test['OverTime'])\n",
        "\n",
        "# View dtypes\n",
        "X_train.dtypes"
      ]
    },
    {
      "cell_type": "code",
      "execution_count": 9,
      "metadata": {
        "id": "EWA-aIA5Gc3T"
      },
      "outputs": [],
      "source": [
        "# Create a StandardScaler\n",
        "std_scaler = StandardScaler()\n",
        "\n",
        "# Fit the StandardScaler to the training data\n",
        "std_scaler.fit(X_train)\n",
        "\n",
        "# Scale the training and testing data\n",
        "X_train_scaled = std_scaler.transform(X_train)\n",
        "X_test_scaled = std_scaler.transform(X_test)\n"
      ]
    },
    {
      "cell_type": "code",
      "execution_count": 10,
      "metadata": {
        "colab": {
          "base_uri": "https://localhost:8080/"
        },
        "id": "-z0Mky8vQSz4",
        "outputId": "ead9549a-4899-41f1-91fb-bae8e3a11fdc"
      },
      "outputs": [
        {
          "data": {
            "text/plain": [
              "array([[0., 1., 0.],\n",
              "       [0., 0., 1.],\n",
              "       [0., 0., 1.],\n",
              "       ...,\n",
              "       [0., 1., 0.],\n",
              "       [0., 1., 0.],\n",
              "       [0., 0., 1.]])"
            ]
          },
          "execution_count": 10,
          "metadata": {},
          "output_type": "execute_result"
        }
      ],
      "source": [
        "# Create a OneHotEncoder for the Department column\n",
        "department_encoder = OneHotEncoder(sparse_output=False)\n",
        "\n",
        "# Fit the encoder to the training data\n",
        "department_encoder.fit(y_train[['Department']])\n",
        "\n",
        "# Create two new variables by applying the encoder\n",
        "# to the training and testing data\n",
        "y_train_department = department_encoder.transform(y_train[['Department']])\n",
        "y_test_department = department_encoder.transform(y_test[['Department']])\n",
        "y_train_department\n"
      ]
    },
    {
      "cell_type": "code",
      "execution_count": 11,
      "metadata": {
        "colab": {
          "base_uri": "https://localhost:8080/"
        },
        "id": "-G4DSpvFRrk4",
        "outputId": "f718a518-b748-43dc-a59f-66c3a5131532"
      },
      "outputs": [
        {
          "data": {
            "text/plain": [
              "array([[1., 0.],\n",
              "       [1., 0.],\n",
              "       [1., 0.],\n",
              "       ...,\n",
              "       [0., 1.],\n",
              "       [1., 0.],\n",
              "       [1., 0.]])"
            ]
          },
          "execution_count": 11,
          "metadata": {},
          "output_type": "execute_result"
        }
      ],
      "source": [
        "# Create a OneHotEncoder for the Attrition column\n",
        "attrition_encoder = OneHotEncoder(sparse_output=False)\n",
        "\n",
        "# Fit the encoder to the training data\n",
        "attrition_encoder.fit(y_train[['Attrition']])\n",
        "\n",
        "# Create two new variables by applying the encoder\n",
        "# to the training and testing data\n",
        "y_train_attrition = attrition_encoder.transform(y_train[['Attrition']])\n",
        "y_test_attrition = attrition_encoder.transform(y_test[['Attrition']])\n",
        "y_train_attrition\n"
      ]
    },
    {
      "cell_type": "code",
      "execution_count": 12,
      "metadata": {
        "colab": {
          "base_uri": "https://localhost:8080/"
        },
        "id": "CewEGiijzado",
        "outputId": "80bb2954-34ae-405e-86bb-74d17a5f6af7"
      },
      "outputs": [
        {
          "data": {
            "text/plain": [
              "3"
            ]
          },
          "execution_count": 12,
          "metadata": {},
          "output_type": "execute_result"
        }
      ],
      "source": [
        "y_train_department.shape[1]"
      ]
    },
    {
      "cell_type": "markdown",
      "metadata": {
        "id": "ykNmu_WWGc3T"
      },
      "source": [
        "## Create, Compile, and Train the Model"
      ]
    },
    {
      "cell_type": "code",
      "execution_count": 47,
      "metadata": {
        "colab": {
          "base_uri": "https://localhost:8080/"
        },
        "id": "WUptZqmSGc3T",
        "outputId": "9ae206d6-713d-4aa7-d0b2-d35f381ad00c"
      },
      "outputs": [
        {
          "name": "stdout",
          "output_type": "stream",
          "text": [
            "10\n"
          ]
        }
      ],
      "source": [
        "# Find the number of columns in the X training data\n",
        "number_input_features = len(X_train.columns)\n",
        "print(number_input_features)\n",
        "\n",
        "# Create the input layer\n",
        "input_layer = layers.Input(shape=(number_input_features,), name='input_layer')\n",
        "\n",
        "# Create at least two shared layers\n",
        "shared_layer1 = layers.Dense(units=64, activation='relu', name='shared_layer1')(input_layer)\n",
        "shared_layer2 = layers.Dense(units=128, activation='relu', name='shared_layer2')(shared_layer1)"
      ]
    },
    {
      "cell_type": "code",
      "execution_count": 48,
      "metadata": {
        "id": "JukjTm2yTEqd"
      },
      "outputs": [],
      "source": [
        "# Create a branch for Department\n",
        "# with a hidden layer and an output layer\n",
        "\n",
        "# Create the hidden layer\n",
        "department_hidden = layers.Dense(units=32, activation='relu', name='department_hidden')(shared_layer2)\n",
        "\n",
        "# Create the output layer\n",
        "department_output = layers.Dense(units=y_train_department.shape[1], activation='softmax', name='department_output')(department_hidden)\n"
      ]
    },
    {
      "cell_type": "code",
      "execution_count": 49,
      "metadata": {
        "id": "9OqhUiOJUBkR"
      },
      "outputs": [],
      "source": [
        "# Create a branch for Attrition\n",
        "# with a hidden layer and an output layer\n",
        "\n",
        "# Create the hidden layer\n",
        "attrition_hidden = layers.Dense(units=32, activation='relu', name='attrition_hidden')(shared_layer2)\n",
        "\n",
        "# Create the output layer\n",
        "attrition_output = layers.Dense(units=y_train_attrition.shape[1], activation='softmax', name='attrition_output')(attrition_hidden)\n"
      ]
    },
    {
      "cell_type": "code",
      "execution_count": 50,
      "metadata": {
        "colab": {
          "base_uri": "https://localhost:8080/",
          "height": 353
        },
        "id": "twmuejdxGc3T",
        "outputId": "ff799d59-bacc-4ab9-d06a-0b6fdb86b9f1"
      },
      "outputs": [
        {
          "data": {
            "text/html": [
              "<pre style=\"white-space:pre;overflow-x:auto;line-height:normal;font-family:Menlo,'DejaVu Sans Mono',consolas,'Courier New',monospace\"><span style=\"font-weight: bold\">Model: \"functional_5\"</span>\n",
              "</pre>\n"
            ],
            "text/plain": [
              "\u001b[1mModel: \"functional_5\"\u001b[0m\n"
            ]
          },
          "metadata": {},
          "output_type": "display_data"
        },
        {
          "data": {
            "text/html": [
              "<pre style=\"white-space:pre;overflow-x:auto;line-height:normal;font-family:Menlo,'DejaVu Sans Mono',consolas,'Courier New',monospace\">┏━━━━━━━━━━━━━━━━━━━━━┳━━━━━━━━━━━━━━━━━━━┳━━━━━━━━━━━━┳━━━━━━━━━━━━━━━━━━━┓\n",
              "┃<span style=\"font-weight: bold\"> Layer (type)        </span>┃<span style=\"font-weight: bold\"> Output Shape      </span>┃<span style=\"font-weight: bold\">    Param # </span>┃<span style=\"font-weight: bold\"> Connected to      </span>┃\n",
              "┡━━━━━━━━━━━━━━━━━━━━━╇━━━━━━━━━━━━━━━━━━━╇━━━━━━━━━━━━╇━━━━━━━━━━━━━━━━━━━┩\n",
              "│ input_layer         │ (<span style=\"color: #00d7ff; text-decoration-color: #00d7ff\">None</span>, <span style=\"color: #00af00; text-decoration-color: #00af00\">10</span>)        │          <span style=\"color: #00af00; text-decoration-color: #00af00\">0</span> │ -                 │\n",
              "│ (<span style=\"color: #0087ff; text-decoration-color: #0087ff\">InputLayer</span>)        │                   │            │                   │\n",
              "├─────────────────────┼───────────────────┼────────────┼───────────────────┤\n",
              "│ shared_layer1       │ (<span style=\"color: #00d7ff; text-decoration-color: #00d7ff\">None</span>, <span style=\"color: #00af00; text-decoration-color: #00af00\">64</span>)        │        <span style=\"color: #00af00; text-decoration-color: #00af00\">704</span> │ input_layer[<span style=\"color: #00af00; text-decoration-color: #00af00\">0</span>][<span style=\"color: #00af00; text-decoration-color: #00af00\">0</span>] │\n",
              "│ (<span style=\"color: #0087ff; text-decoration-color: #0087ff\">Dense</span>)             │                   │            │                   │\n",
              "├─────────────────────┼───────────────────┼────────────┼───────────────────┤\n",
              "│ shared_layer2       │ (<span style=\"color: #00d7ff; text-decoration-color: #00d7ff\">None</span>, <span style=\"color: #00af00; text-decoration-color: #00af00\">128</span>)       │      <span style=\"color: #00af00; text-decoration-color: #00af00\">8,320</span> │ shared_layer1[<span style=\"color: #00af00; text-decoration-color: #00af00\">0</span>]… │\n",
              "│ (<span style=\"color: #0087ff; text-decoration-color: #0087ff\">Dense</span>)             │                   │            │                   │\n",
              "├─────────────────────┼───────────────────┼────────────┼───────────────────┤\n",
              "│ department_hidden   │ (<span style=\"color: #00d7ff; text-decoration-color: #00d7ff\">None</span>, <span style=\"color: #00af00; text-decoration-color: #00af00\">32</span>)        │      <span style=\"color: #00af00; text-decoration-color: #00af00\">4,128</span> │ shared_layer2[<span style=\"color: #00af00; text-decoration-color: #00af00\">0</span>]… │\n",
              "│ (<span style=\"color: #0087ff; text-decoration-color: #0087ff\">Dense</span>)             │                   │            │                   │\n",
              "├─────────────────────┼───────────────────┼────────────┼───────────────────┤\n",
              "│ attrition_hidden    │ (<span style=\"color: #00d7ff; text-decoration-color: #00d7ff\">None</span>, <span style=\"color: #00af00; text-decoration-color: #00af00\">32</span>)        │      <span style=\"color: #00af00; text-decoration-color: #00af00\">4,128</span> │ shared_layer2[<span style=\"color: #00af00; text-decoration-color: #00af00\">0</span>]… │\n",
              "│ (<span style=\"color: #0087ff; text-decoration-color: #0087ff\">Dense</span>)             │                   │            │                   │\n",
              "├─────────────────────┼───────────────────┼────────────┼───────────────────┤\n",
              "│ department_output   │ (<span style=\"color: #00d7ff; text-decoration-color: #00d7ff\">None</span>, <span style=\"color: #00af00; text-decoration-color: #00af00\">3</span>)         │         <span style=\"color: #00af00; text-decoration-color: #00af00\">99</span> │ department_hidde… │\n",
              "│ (<span style=\"color: #0087ff; text-decoration-color: #0087ff\">Dense</span>)             │                   │            │                   │\n",
              "├─────────────────────┼───────────────────┼────────────┼───────────────────┤\n",
              "│ attrition_output    │ (<span style=\"color: #00d7ff; text-decoration-color: #00d7ff\">None</span>, <span style=\"color: #00af00; text-decoration-color: #00af00\">2</span>)         │         <span style=\"color: #00af00; text-decoration-color: #00af00\">66</span> │ attrition_hidden… │\n",
              "│ (<span style=\"color: #0087ff; text-decoration-color: #0087ff\">Dense</span>)             │                   │            │                   │\n",
              "└─────────────────────┴───────────────────┴────────────┴───────────────────┘\n",
              "</pre>\n"
            ],
            "text/plain": [
              "┏━━━━━━━━━━━━━━━━━━━━━┳━━━━━━━━━━━━━━━━━━━┳━━━━━━━━━━━━┳━━━━━━━━━━━━━━━━━━━┓\n",
              "┃\u001b[1m \u001b[0m\u001b[1mLayer (type)       \u001b[0m\u001b[1m \u001b[0m┃\u001b[1m \u001b[0m\u001b[1mOutput Shape     \u001b[0m\u001b[1m \u001b[0m┃\u001b[1m \u001b[0m\u001b[1m   Param #\u001b[0m\u001b[1m \u001b[0m┃\u001b[1m \u001b[0m\u001b[1mConnected to     \u001b[0m\u001b[1m \u001b[0m┃\n",
              "┡━━━━━━━━━━━━━━━━━━━━━╇━━━━━━━━━━━━━━━━━━━╇━━━━━━━━━━━━╇━━━━━━━━━━━━━━━━━━━┩\n",
              "│ input_layer         │ (\u001b[38;5;45mNone\u001b[0m, \u001b[38;5;34m10\u001b[0m)        │          \u001b[38;5;34m0\u001b[0m │ -                 │\n",
              "│ (\u001b[38;5;33mInputLayer\u001b[0m)        │                   │            │                   │\n",
              "├─────────────────────┼───────────────────┼────────────┼───────────────────┤\n",
              "│ shared_layer1       │ (\u001b[38;5;45mNone\u001b[0m, \u001b[38;5;34m64\u001b[0m)        │        \u001b[38;5;34m704\u001b[0m │ input_layer[\u001b[38;5;34m0\u001b[0m][\u001b[38;5;34m0\u001b[0m] │\n",
              "│ (\u001b[38;5;33mDense\u001b[0m)             │                   │            │                   │\n",
              "├─────────────────────┼───────────────────┼────────────┼───────────────────┤\n",
              "│ shared_layer2       │ (\u001b[38;5;45mNone\u001b[0m, \u001b[38;5;34m128\u001b[0m)       │      \u001b[38;5;34m8,320\u001b[0m │ shared_layer1[\u001b[38;5;34m0\u001b[0m]… │\n",
              "│ (\u001b[38;5;33mDense\u001b[0m)             │                   │            │                   │\n",
              "├─────────────────────┼───────────────────┼────────────┼───────────────────┤\n",
              "│ department_hidden   │ (\u001b[38;5;45mNone\u001b[0m, \u001b[38;5;34m32\u001b[0m)        │      \u001b[38;5;34m4,128\u001b[0m │ shared_layer2[\u001b[38;5;34m0\u001b[0m]… │\n",
              "│ (\u001b[38;5;33mDense\u001b[0m)             │                   │            │                   │\n",
              "├─────────────────────┼───────────────────┼────────────┼───────────────────┤\n",
              "│ attrition_hidden    │ (\u001b[38;5;45mNone\u001b[0m, \u001b[38;5;34m32\u001b[0m)        │      \u001b[38;5;34m4,128\u001b[0m │ shared_layer2[\u001b[38;5;34m0\u001b[0m]… │\n",
              "│ (\u001b[38;5;33mDense\u001b[0m)             │                   │            │                   │\n",
              "├─────────────────────┼───────────────────┼────────────┼───────────────────┤\n",
              "│ department_output   │ (\u001b[38;5;45mNone\u001b[0m, \u001b[38;5;34m3\u001b[0m)         │         \u001b[38;5;34m99\u001b[0m │ department_hidde… │\n",
              "│ (\u001b[38;5;33mDense\u001b[0m)             │                   │            │                   │\n",
              "├─────────────────────┼───────────────────┼────────────┼───────────────────┤\n",
              "│ attrition_output    │ (\u001b[38;5;45mNone\u001b[0m, \u001b[38;5;34m2\u001b[0m)         │         \u001b[38;5;34m66\u001b[0m │ attrition_hidden… │\n",
              "│ (\u001b[38;5;33mDense\u001b[0m)             │                   │            │                   │\n",
              "└─────────────────────┴───────────────────┴────────────┴───────────────────┘\n"
            ]
          },
          "metadata": {},
          "output_type": "display_data"
        },
        {
          "data": {
            "text/html": [
              "<pre style=\"white-space:pre;overflow-x:auto;line-height:normal;font-family:Menlo,'DejaVu Sans Mono',consolas,'Courier New',monospace\"><span style=\"font-weight: bold\"> Total params: </span><span style=\"color: #00af00; text-decoration-color: #00af00\">17,445</span> (68.14 KB)\n",
              "</pre>\n"
            ],
            "text/plain": [
              "\u001b[1m Total params: \u001b[0m\u001b[38;5;34m17,445\u001b[0m (68.14 KB)\n"
            ]
          },
          "metadata": {},
          "output_type": "display_data"
        },
        {
          "data": {
            "text/html": [
              "<pre style=\"white-space:pre;overflow-x:auto;line-height:normal;font-family:Menlo,'DejaVu Sans Mono',consolas,'Courier New',monospace\"><span style=\"font-weight: bold\"> Trainable params: </span><span style=\"color: #00af00; text-decoration-color: #00af00\">17,445</span> (68.14 KB)\n",
              "</pre>\n"
            ],
            "text/plain": [
              "\u001b[1m Trainable params: \u001b[0m\u001b[38;5;34m17,445\u001b[0m (68.14 KB)\n"
            ]
          },
          "metadata": {},
          "output_type": "display_data"
        },
        {
          "data": {
            "text/html": [
              "<pre style=\"white-space:pre;overflow-x:auto;line-height:normal;font-family:Menlo,'DejaVu Sans Mono',consolas,'Courier New',monospace\"><span style=\"font-weight: bold\"> Non-trainable params: </span><span style=\"color: #00af00; text-decoration-color: #00af00\">0</span> (0.00 B)\n",
              "</pre>\n"
            ],
            "text/plain": [
              "\u001b[1m Non-trainable params: \u001b[0m\u001b[38;5;34m0\u001b[0m (0.00 B)\n"
            ]
          },
          "metadata": {},
          "output_type": "display_data"
        }
      ],
      "source": [
        "# Create the model\n",
        "model = Model(inputs=input_layer, outputs=[department_output, attrition_output])\n",
        "\n",
        "# Compile the model\n",
        "model.compile(optimizer='adam',\n",
        "              loss={'department_output': 'categorical_crossentropy',\n",
        "                    'attrition_output': 'binary_crossentropy'},\n",
        "              metrics={'department_output': 'accuracy', 'attrition_output': 'accuracy'})\n",
        "\n",
        "# Summarize the model\n",
        "model.summary()"
      ]
    },
    {
      "cell_type": "code",
      "execution_count": 51,
      "metadata": {
        "colab": {
          "base_uri": "https://localhost:8080/"
        },
        "id": "c8oGy0dpGc3U",
        "outputId": "8ae3f52a-e748-4751-e679-7245df2c9ada"
      },
      "outputs": [
        {
          "name": "stdout",
          "output_type": "stream",
          "text": [
            "Epoch 1/100\n",
            "\u001b[1m35/35\u001b[0m \u001b[32m━━━━━━━━━━━━━━━━━━━━\u001b[0m\u001b[37m\u001b[0m \u001b[1m2s\u001b[0m 9ms/step - attrition_output_accuracy: 0.8062 - attrition_output_loss: 0.5746 - department_output_accuracy: 0.4912 - department_output_loss: 0.9962 - loss: 1.5711 - val_attrition_output_accuracy: 0.8696 - val_attrition_output_loss: 0.3997 - val_department_output_accuracy: 0.6522 - val_department_output_loss: 0.8154 - val_loss: 1.2011\n",
            "Epoch 2/100\n",
            "\u001b[1m35/35\u001b[0m \u001b[32m━━━━━━━━━━━━━━━━━━━━\u001b[0m\u001b[37m\u001b[0m \u001b[1m0s\u001b[0m 2ms/step - attrition_output_accuracy: 0.8316 - attrition_output_loss: 0.4357 - department_output_accuracy: 0.6534 - department_output_loss: 0.7676 - loss: 1.2034 - val_attrition_output_accuracy: 0.8696 - val_attrition_output_loss: 0.3808 - val_department_output_accuracy: 0.6522 - val_department_output_loss: 0.8065 - val_loss: 1.1779\n",
            "Epoch 3/100\n",
            "\u001b[1m35/35\u001b[0m \u001b[32m━━━━━━━━━━━━━━━━━━━━\u001b[0m\u001b[37m\u001b[0m \u001b[1m0s\u001b[0m 3ms/step - attrition_output_accuracy: 0.8313 - attrition_output_loss: 0.4018 - department_output_accuracy: 0.6512 - department_output_loss: 0.7527 - loss: 1.1545 - val_attrition_output_accuracy: 0.8696 - val_attrition_output_loss: 0.3611 - val_department_output_accuracy: 0.6522 - val_department_output_loss: 0.8082 - val_loss: 1.1617\n",
            "Epoch 4/100\n",
            "\u001b[1m35/35\u001b[0m \u001b[32m━━━━━━━━━━━━━━━━━━━━\u001b[0m\u001b[37m\u001b[0m \u001b[1m0s\u001b[0m 2ms/step - attrition_output_accuracy: 0.8442 - attrition_output_loss: 0.4071 - department_output_accuracy: 0.6474 - department_output_loss: 0.7555 - loss: 1.1630 - val_attrition_output_accuracy: 0.8641 - val_attrition_output_loss: 0.3599 - val_department_output_accuracy: 0.6495 - val_department_output_loss: 0.8119 - val_loss: 1.1637\n",
            "Epoch 5/100\n",
            "\u001b[1m35/35\u001b[0m \u001b[32m━━━━━━━━━━━━━━━━━━━━\u001b[0m\u001b[37m\u001b[0m \u001b[1m0s\u001b[0m 3ms/step - attrition_output_accuracy: 0.8586 - attrition_output_loss: 0.3626 - department_output_accuracy: 0.6397 - department_output_loss: 0.7452 - loss: 1.1080 - val_attrition_output_accuracy: 0.8641 - val_attrition_output_loss: 0.3520 - val_department_output_accuracy: 0.6495 - val_department_output_loss: 0.8090 - val_loss: 1.1542\n",
            "Epoch 6/100\n",
            "\u001b[1m35/35\u001b[0m \u001b[32m━━━━━━━━━━━━━━━━━━━━\u001b[0m\u001b[37m\u001b[0m \u001b[1m0s\u001b[0m 2ms/step - attrition_output_accuracy: 0.8707 - attrition_output_loss: 0.3411 - department_output_accuracy: 0.6345 - department_output_loss: 0.7506 - loss: 1.0918 - val_attrition_output_accuracy: 0.8641 - val_attrition_output_loss: 0.3494 - val_department_output_accuracy: 0.6495 - val_department_output_loss: 0.8109 - val_loss: 1.1524\n",
            "Epoch 7/100\n",
            "\u001b[1m35/35\u001b[0m \u001b[32m━━━━━━━━━━━━━━━━━━━━\u001b[0m\u001b[37m\u001b[0m \u001b[1m0s\u001b[0m 2ms/step - attrition_output_accuracy: 0.8611 - attrition_output_loss: 0.3431 - department_output_accuracy: 0.6597 - department_output_loss: 0.7237 - loss: 1.0668 - val_attrition_output_accuracy: 0.8723 - val_attrition_output_loss: 0.3454 - val_department_output_accuracy: 0.6495 - val_department_output_loss: 0.8167 - val_loss: 1.1543\n",
            "Epoch 8/100\n",
            "\u001b[1m35/35\u001b[0m \u001b[32m━━━━━━━━━━━━━━━━━━━━\u001b[0m\u001b[37m\u001b[0m \u001b[1m0s\u001b[0m 2ms/step - attrition_output_accuracy: 0.8784 - attrition_output_loss: 0.3251 - department_output_accuracy: 0.6536 - department_output_loss: 0.7340 - loss: 1.0590 - val_attrition_output_accuracy: 0.8668 - val_attrition_output_loss: 0.3503 - val_department_output_accuracy: 0.6495 - val_department_output_loss: 0.8187 - val_loss: 1.1616\n",
            "Epoch 9/100\n",
            "\u001b[1m35/35\u001b[0m \u001b[32m━━━━━━━━━━━━━━━━━━━━\u001b[0m\u001b[37m\u001b[0m \u001b[1m0s\u001b[0m 2ms/step - attrition_output_accuracy: 0.8601 - attrition_output_loss: 0.3254 - department_output_accuracy: 0.6730 - department_output_loss: 0.6940 - loss: 1.0193 - val_attrition_output_accuracy: 0.8668 - val_attrition_output_loss: 0.3680 - val_department_output_accuracy: 0.6495 - val_department_output_loss: 0.8167 - val_loss: 1.1773\n",
            "Epoch 10/100\n",
            "\u001b[1m35/35\u001b[0m \u001b[32m━━━━━━━━━━━━━━━━━━━━\u001b[0m\u001b[37m\u001b[0m \u001b[1m0s\u001b[0m 2ms/step - attrition_output_accuracy: 0.8744 - attrition_output_loss: 0.3296 - department_output_accuracy: 0.6786 - department_output_loss: 0.7053 - loss: 1.0348 - val_attrition_output_accuracy: 0.8723 - val_attrition_output_loss: 0.3478 - val_department_output_accuracy: 0.6495 - val_department_output_loss: 0.8218 - val_loss: 1.1625\n",
            "Epoch 11/100\n",
            "\u001b[1m35/35\u001b[0m \u001b[32m━━━━━━━━━━━━━━━━━━━━\u001b[0m\u001b[37m\u001b[0m \u001b[1m0s\u001b[0m 2ms/step - attrition_output_accuracy: 0.8730 - attrition_output_loss: 0.3384 - department_output_accuracy: 0.6832 - department_output_loss: 0.6902 - loss: 1.0285 - val_attrition_output_accuracy: 0.8777 - val_attrition_output_loss: 0.3504 - val_department_output_accuracy: 0.6522 - val_department_output_loss: 0.8225 - val_loss: 1.1664\n",
            "Epoch 12/100\n",
            "\u001b[1m35/35\u001b[0m \u001b[32m━━━━━━━━━━━━━━━━━━━━\u001b[0m\u001b[37m\u001b[0m \u001b[1m0s\u001b[0m 3ms/step - attrition_output_accuracy: 0.8658 - attrition_output_loss: 0.3208 - department_output_accuracy: 0.6658 - department_output_loss: 0.7200 - loss: 1.0410 - val_attrition_output_accuracy: 0.8777 - val_attrition_output_loss: 0.3489 - val_department_output_accuracy: 0.6196 - val_department_output_loss: 0.8336 - val_loss: 1.1763\n",
            "Epoch 13/100\n",
            "\u001b[1m35/35\u001b[0m \u001b[32m━━━━━━━━━━━━━━━━━━━━\u001b[0m\u001b[37m\u001b[0m \u001b[1m0s\u001b[0m 2ms/step - attrition_output_accuracy: 0.8978 - attrition_output_loss: 0.2875 - department_output_accuracy: 0.6868 - department_output_loss: 0.6846 - loss: 0.9722 - val_attrition_output_accuracy: 0.8832 - val_attrition_output_loss: 0.3521 - val_department_output_accuracy: 0.6386 - val_department_output_loss: 0.8274 - val_loss: 1.1743\n",
            "Epoch 14/100\n",
            "\u001b[1m35/35\u001b[0m \u001b[32m━━━━━━━━━━━━━━━━━━━━\u001b[0m\u001b[37m\u001b[0m \u001b[1m0s\u001b[0m 3ms/step - attrition_output_accuracy: 0.8649 - attrition_output_loss: 0.3213 - department_output_accuracy: 0.7003 - department_output_loss: 0.6685 - loss: 0.9899 - val_attrition_output_accuracy: 0.8804 - val_attrition_output_loss: 0.3528 - val_department_output_accuracy: 0.6359 - val_department_output_loss: 0.8327 - val_loss: 1.1792\n",
            "Epoch 15/100\n",
            "\u001b[1m35/35\u001b[0m \u001b[32m━━━━━━━━━━━━━━━━━━━━\u001b[0m\u001b[37m\u001b[0m \u001b[1m0s\u001b[0m 2ms/step - attrition_output_accuracy: 0.9014 - attrition_output_loss: 0.2652 - department_output_accuracy: 0.6928 - department_output_loss: 0.6623 - loss: 0.9271 - val_attrition_output_accuracy: 0.8804 - val_attrition_output_loss: 0.3626 - val_department_output_accuracy: 0.6332 - val_department_output_loss: 0.8311 - val_loss: 1.1899\n",
            "Epoch 16/100\n",
            "\u001b[1m35/35\u001b[0m \u001b[32m━━━━━━━━━━━━━━━━━━━━\u001b[0m\u001b[37m\u001b[0m \u001b[1m0s\u001b[0m 3ms/step - attrition_output_accuracy: 0.8863 - attrition_output_loss: 0.2864 - department_output_accuracy: 0.7152 - department_output_loss: 0.6538 - loss: 0.9400 - val_attrition_output_accuracy: 0.8750 - val_attrition_output_loss: 0.3644 - val_department_output_accuracy: 0.6223 - val_department_output_loss: 0.8442 - val_loss: 1.2024\n",
            "Epoch 17/100\n",
            "\u001b[1m35/35\u001b[0m \u001b[32m━━━━━━━━━━━━━━━━━━━━\u001b[0m\u001b[37m\u001b[0m \u001b[1m0s\u001b[0m 2ms/step - attrition_output_accuracy: 0.8946 - attrition_output_loss: 0.2716 - department_output_accuracy: 0.7229 - department_output_loss: 0.6305 - loss: 0.9019 - val_attrition_output_accuracy: 0.8750 - val_attrition_output_loss: 0.3692 - val_department_output_accuracy: 0.6141 - val_department_output_loss: 0.8547 - val_loss: 1.2175\n",
            "Epoch 18/100\n",
            "\u001b[1m35/35\u001b[0m \u001b[32m━━━━━━━━━━━━━━━━━━━━\u001b[0m\u001b[37m\u001b[0m \u001b[1m0s\u001b[0m 2ms/step - attrition_output_accuracy: 0.8907 - attrition_output_loss: 0.2688 - department_output_accuracy: 0.7049 - department_output_loss: 0.6561 - loss: 0.9250 - val_attrition_output_accuracy: 0.8587 - val_attrition_output_loss: 0.3821 - val_department_output_accuracy: 0.5625 - val_department_output_loss: 0.8587 - val_loss: 1.2336\n",
            "Epoch 19/100\n",
            "\u001b[1m35/35\u001b[0m \u001b[32m━━━━━━━━━━━━━━━━━━━━\u001b[0m\u001b[37m\u001b[0m \u001b[1m0s\u001b[0m 2ms/step - attrition_output_accuracy: 0.8989 - attrition_output_loss: 0.2669 - department_output_accuracy: 0.7430 - department_output_loss: 0.6166 - loss: 0.8834 - val_attrition_output_accuracy: 0.8614 - val_attrition_output_loss: 0.3874 - val_department_output_accuracy: 0.5815 - val_department_output_loss: 0.8660 - val_loss: 1.2478\n",
            "Epoch 20/100\n",
            "\u001b[1m35/35\u001b[0m \u001b[32m━━━━━━━━━━━━━━━━━━━━\u001b[0m\u001b[37m\u001b[0m \u001b[1m0s\u001b[0m 2ms/step - attrition_output_accuracy: 0.8919 - attrition_output_loss: 0.2590 - department_output_accuracy: 0.7383 - department_output_loss: 0.6014 - loss: 0.8603 - val_attrition_output_accuracy: 0.8614 - val_attrition_output_loss: 0.3860 - val_department_output_accuracy: 0.5761 - val_department_output_loss: 0.8660 - val_loss: 1.2493\n",
            "Epoch 21/100\n",
            "\u001b[1m35/35\u001b[0m \u001b[32m━━━━━━━━━━━━━━━━━━━━\u001b[0m\u001b[37m\u001b[0m \u001b[1m0s\u001b[0m 2ms/step - attrition_output_accuracy: 0.8974 - attrition_output_loss: 0.2378 - department_output_accuracy: 0.7593 - department_output_loss: 0.5977 - loss: 0.8358 - val_attrition_output_accuracy: 0.8641 - val_attrition_output_loss: 0.3953 - val_department_output_accuracy: 0.6250 - val_department_output_loss: 0.8775 - val_loss: 1.2640\n",
            "Epoch 22/100\n",
            "\u001b[1m35/35\u001b[0m \u001b[32m━━━━━━━━━━━━━━━━━━━━\u001b[0m\u001b[37m\u001b[0m \u001b[1m0s\u001b[0m 2ms/step - attrition_output_accuracy: 0.8950 - attrition_output_loss: 0.2649 - department_output_accuracy: 0.7215 - department_output_loss: 0.6002 - loss: 0.8653 - val_attrition_output_accuracy: 0.8587 - val_attrition_output_loss: 0.4063 - val_department_output_accuracy: 0.5951 - val_department_output_loss: 0.8769 - val_loss: 1.2780\n",
            "Epoch 23/100\n",
            "\u001b[1m35/35\u001b[0m \u001b[32m━━━━━━━━━━━━━━━━━━━━\u001b[0m\u001b[37m\u001b[0m \u001b[1m0s\u001b[0m 3ms/step - attrition_output_accuracy: 0.9036 - attrition_output_loss: 0.2230 - department_output_accuracy: 0.7522 - department_output_loss: 0.5961 - loss: 0.8193 - val_attrition_output_accuracy: 0.8668 - val_attrition_output_loss: 0.4035 - val_department_output_accuracy: 0.5761 - val_department_output_loss: 0.8931 - val_loss: 1.2927\n",
            "Epoch 24/100\n",
            "\u001b[1m35/35\u001b[0m \u001b[32m━━━━━━━━━━━━━━━━━━━━\u001b[0m\u001b[37m\u001b[0m \u001b[1m0s\u001b[0m 3ms/step - attrition_output_accuracy: 0.8970 - attrition_output_loss: 0.2567 - department_output_accuracy: 0.7789 - department_output_loss: 0.5590 - loss: 0.8157 - val_attrition_output_accuracy: 0.8614 - val_attrition_output_loss: 0.4271 - val_department_output_accuracy: 0.5652 - val_department_output_loss: 0.8965 - val_loss: 1.3227\n",
            "Epoch 25/100\n",
            "\u001b[1m35/35\u001b[0m \u001b[32m━━━━━━━━━━━━━━━━━━━━\u001b[0m\u001b[37m\u001b[0m \u001b[1m0s\u001b[0m 2ms/step - attrition_output_accuracy: 0.9071 - attrition_output_loss: 0.2228 - department_output_accuracy: 0.7701 - department_output_loss: 0.5509 - loss: 0.7739 - val_attrition_output_accuracy: 0.8641 - val_attrition_output_loss: 0.4097 - val_department_output_accuracy: 0.6304 - val_department_output_loss: 0.8973 - val_loss: 1.3003\n",
            "Epoch 26/100\n",
            "\u001b[1m35/35\u001b[0m \u001b[32m━━━━━━━━━━━━━━━━━━━━\u001b[0m\u001b[37m\u001b[0m \u001b[1m0s\u001b[0m 2ms/step - attrition_output_accuracy: 0.9053 - attrition_output_loss: 0.2308 - department_output_accuracy: 0.8107 - department_output_loss: 0.4976 - loss: 0.7284 - val_attrition_output_accuracy: 0.8533 - val_attrition_output_loss: 0.4218 - val_department_output_accuracy: 0.5707 - val_department_output_loss: 0.9064 - val_loss: 1.3233\n",
            "Epoch 27/100\n",
            "\u001b[1m35/35\u001b[0m \u001b[32m━━━━━━━━━━━━━━━━━━━━\u001b[0m\u001b[37m\u001b[0m \u001b[1m0s\u001b[0m 2ms/step - attrition_output_accuracy: 0.9289 - attrition_output_loss: 0.2038 - department_output_accuracy: 0.7948 - department_output_loss: 0.5237 - loss: 0.7276 - val_attrition_output_accuracy: 0.8614 - val_attrition_output_loss: 0.4240 - val_department_output_accuracy: 0.5924 - val_department_output_loss: 0.9439 - val_loss: 1.3620\n",
            "Epoch 28/100\n",
            "\u001b[1m35/35\u001b[0m \u001b[32m━━━━━━━━━━━━━━━━━━━━\u001b[0m\u001b[37m\u001b[0m \u001b[1m0s\u001b[0m 2ms/step - attrition_output_accuracy: 0.9270 - attrition_output_loss: 0.2059 - department_output_accuracy: 0.8064 - department_output_loss: 0.4963 - loss: 0.7023 - val_attrition_output_accuracy: 0.8533 - val_attrition_output_loss: 0.4503 - val_department_output_accuracy: 0.5707 - val_department_output_loss: 0.9345 - val_loss: 1.3802\n",
            "Epoch 29/100\n",
            "\u001b[1m35/35\u001b[0m \u001b[32m━━━━━━━━━━━━━━━━━━━━\u001b[0m\u001b[37m\u001b[0m \u001b[1m0s\u001b[0m 2ms/step - attrition_output_accuracy: 0.9277 - attrition_output_loss: 0.2050 - department_output_accuracy: 0.8213 - department_output_loss: 0.4837 - loss: 0.6887 - val_attrition_output_accuracy: 0.8505 - val_attrition_output_loss: 0.4476 - val_department_output_accuracy: 0.5842 - val_department_output_loss: 0.9472 - val_loss: 1.3920\n",
            "Epoch 30/100\n",
            "\u001b[1m35/35\u001b[0m \u001b[32m━━━━━━━━━━━━━━━━━━━━\u001b[0m\u001b[37m\u001b[0m \u001b[1m0s\u001b[0m 2ms/step - attrition_output_accuracy: 0.9279 - attrition_output_loss: 0.2068 - department_output_accuracy: 0.8028 - department_output_loss: 0.4765 - loss: 0.6830 - val_attrition_output_accuracy: 0.8370 - val_attrition_output_loss: 0.4732 - val_department_output_accuracy: 0.5571 - val_department_output_loss: 0.9672 - val_loss: 1.4380\n",
            "Epoch 31/100\n",
            "\u001b[1m35/35\u001b[0m \u001b[32m━━━━━━━━━━━━━━━━━━━━\u001b[0m\u001b[37m\u001b[0m \u001b[1m0s\u001b[0m 3ms/step - attrition_output_accuracy: 0.9313 - attrition_output_loss: 0.1934 - department_output_accuracy: 0.8004 - department_output_loss: 0.4768 - loss: 0.6705 - val_attrition_output_accuracy: 0.8533 - val_attrition_output_loss: 0.4632 - val_department_output_accuracy: 0.5870 - val_department_output_loss: 0.9566 - val_loss: 1.4104\n",
            "Epoch 32/100\n",
            "\u001b[1m35/35\u001b[0m \u001b[32m━━━━━━━━━━━━━━━━━━━━\u001b[0m\u001b[37m\u001b[0m \u001b[1m0s\u001b[0m 3ms/step - attrition_output_accuracy: 0.9159 - attrition_output_loss: 0.2092 - department_output_accuracy: 0.8042 - department_output_loss: 0.4882 - loss: 0.6976 - val_attrition_output_accuracy: 0.8533 - val_attrition_output_loss: 0.4632 - val_department_output_accuracy: 0.5435 - val_department_output_loss: 0.9967 - val_loss: 1.4583\n",
            "Epoch 33/100\n",
            "\u001b[1m35/35\u001b[0m \u001b[32m━━━━━━━━━━━━━━━━━━━━\u001b[0m\u001b[37m\u001b[0m \u001b[1m0s\u001b[0m 3ms/step - attrition_output_accuracy: 0.9324 - attrition_output_loss: 0.1775 - department_output_accuracy: 0.8008 - department_output_loss: 0.4553 - loss: 0.6327 - val_attrition_output_accuracy: 0.8397 - val_attrition_output_loss: 0.4883 - val_department_output_accuracy: 0.5598 - val_department_output_loss: 0.9939 - val_loss: 1.4759\n",
            "Epoch 34/100\n",
            "\u001b[1m35/35\u001b[0m \u001b[32m━━━━━━━━━━━━━━━━━━━━\u001b[0m\u001b[37m\u001b[0m \u001b[1m0s\u001b[0m 2ms/step - attrition_output_accuracy: 0.9374 - attrition_output_loss: 0.1846 - department_output_accuracy: 0.8553 - department_output_loss: 0.4173 - loss: 0.6018 - val_attrition_output_accuracy: 0.8587 - val_attrition_output_loss: 0.4801 - val_department_output_accuracy: 0.5870 - val_department_output_loss: 1.0110 - val_loss: 1.4862\n",
            "Epoch 35/100\n",
            "\u001b[1m35/35\u001b[0m \u001b[32m━━━━━━━━━━━━━━━━━━━━\u001b[0m\u001b[37m\u001b[0m \u001b[1m0s\u001b[0m 2ms/step - attrition_output_accuracy: 0.9355 - attrition_output_loss: 0.1659 - department_output_accuracy: 0.8467 - department_output_loss: 0.3928 - loss: 0.5579 - val_attrition_output_accuracy: 0.8696 - val_attrition_output_loss: 0.4764 - val_department_output_accuracy: 0.5571 - val_department_output_loss: 1.0366 - val_loss: 1.5065\n",
            "Epoch 36/100\n",
            "\u001b[1m35/35\u001b[0m \u001b[32m━━━━━━━━━━━━━━━━━━━━\u001b[0m\u001b[37m\u001b[0m \u001b[1m0s\u001b[0m 2ms/step - attrition_output_accuracy: 0.9441 - attrition_output_loss: 0.1666 - department_output_accuracy: 0.8403 - department_output_loss: 0.4171 - loss: 0.5835 - val_attrition_output_accuracy: 0.8315 - val_attrition_output_loss: 0.5140 - val_department_output_accuracy: 0.5652 - val_department_output_loss: 1.0393 - val_loss: 1.5467\n",
            "Epoch 37/100\n",
            "\u001b[1m35/35\u001b[0m \u001b[32m━━━━━━━━━━━━━━━━━━━━\u001b[0m\u001b[37m\u001b[0m \u001b[1m0s\u001b[0m 2ms/step - attrition_output_accuracy: 0.9323 - attrition_output_loss: 0.1711 - department_output_accuracy: 0.8482 - department_output_loss: 0.3960 - loss: 0.5673 - val_attrition_output_accuracy: 0.8451 - val_attrition_output_loss: 0.4968 - val_department_output_accuracy: 0.5299 - val_department_output_loss: 1.0685 - val_loss: 1.5599\n",
            "Epoch 38/100\n",
            "\u001b[1m35/35\u001b[0m \u001b[32m━━━━━━━━━━━━━━━━━━━━\u001b[0m\u001b[37m\u001b[0m \u001b[1m0s\u001b[0m 2ms/step - attrition_output_accuracy: 0.9450 - attrition_output_loss: 0.1591 - department_output_accuracy: 0.8396 - department_output_loss: 0.4120 - loss: 0.5713 - val_attrition_output_accuracy: 0.8478 - val_attrition_output_loss: 0.4998 - val_department_output_accuracy: 0.5462 - val_department_output_loss: 1.0808 - val_loss: 1.5766\n",
            "Epoch 39/100\n",
            "\u001b[1m35/35\u001b[0m \u001b[32m━━━━━━━━━━━━━━━━━━━━\u001b[0m\u001b[37m\u001b[0m \u001b[1m0s\u001b[0m 3ms/step - attrition_output_accuracy: 0.9470 - attrition_output_loss: 0.1530 - department_output_accuracy: 0.8529 - department_output_loss: 0.3834 - loss: 0.5366 - val_attrition_output_accuracy: 0.8424 - val_attrition_output_loss: 0.5181 - val_department_output_accuracy: 0.5734 - val_department_output_loss: 1.0930 - val_loss: 1.6027\n",
            "Epoch 40/100\n",
            "\u001b[1m35/35\u001b[0m \u001b[32m━━━━━━━━━━━━━━━━━━━━\u001b[0m\u001b[37m\u001b[0m \u001b[1m0s\u001b[0m 2ms/step - attrition_output_accuracy: 0.9381 - attrition_output_loss: 0.1661 - department_output_accuracy: 0.8532 - department_output_loss: 0.3888 - loss: 0.5549 - val_attrition_output_accuracy: 0.8397 - val_attrition_output_loss: 0.5459 - val_department_output_accuracy: 0.5625 - val_department_output_loss: 1.1140 - val_loss: 1.6547\n",
            "Epoch 41/100\n",
            "\u001b[1m35/35\u001b[0m \u001b[32m━━━━━━━━━━━━━━━━━━━━\u001b[0m\u001b[37m\u001b[0m \u001b[1m0s\u001b[0m 2ms/step - attrition_output_accuracy: 0.9533 - attrition_output_loss: 0.1425 - department_output_accuracy: 0.8683 - department_output_loss: 0.3494 - loss: 0.4918 - val_attrition_output_accuracy: 0.8261 - val_attrition_output_loss: 0.5465 - val_department_output_accuracy: 0.5842 - val_department_output_loss: 1.1070 - val_loss: 1.6496\n",
            "Epoch 42/100\n",
            "\u001b[1m35/35\u001b[0m \u001b[32m━━━━━━━━━━━━━━━━━━━━\u001b[0m\u001b[37m\u001b[0m \u001b[1m0s\u001b[0m 3ms/step - attrition_output_accuracy: 0.9545 - attrition_output_loss: 0.1446 - department_output_accuracy: 0.8711 - department_output_loss: 0.3563 - loss: 0.5010 - val_attrition_output_accuracy: 0.8451 - val_attrition_output_loss: 0.5530 - val_department_output_accuracy: 0.5625 - val_department_output_loss: 1.1593 - val_loss: 1.6998\n",
            "Epoch 43/100\n",
            "\u001b[1m35/35\u001b[0m \u001b[32m━━━━━━━━━━━━━━━━━━━━\u001b[0m\u001b[37m\u001b[0m \u001b[1m0s\u001b[0m 3ms/step - attrition_output_accuracy: 0.9614 - attrition_output_loss: 0.1257 - department_output_accuracy: 0.8717 - department_output_loss: 0.3367 - loss: 0.4622 - val_attrition_output_accuracy: 0.8451 - val_attrition_output_loss: 0.5580 - val_department_output_accuracy: 0.5788 - val_department_output_loss: 1.1552 - val_loss: 1.7087\n",
            "Epoch 44/100\n",
            "\u001b[1m35/35\u001b[0m \u001b[32m━━━━━━━━━━━━━━━━━━━━\u001b[0m\u001b[37m\u001b[0m \u001b[1m0s\u001b[0m 2ms/step - attrition_output_accuracy: 0.9632 - attrition_output_loss: 0.1266 - department_output_accuracy: 0.8949 - department_output_loss: 0.3142 - loss: 0.4409 - val_attrition_output_accuracy: 0.8370 - val_attrition_output_loss: 0.5807 - val_department_output_accuracy: 0.5897 - val_department_output_loss: 1.1745 - val_loss: 1.7442\n",
            "Epoch 45/100\n",
            "\u001b[1m35/35\u001b[0m \u001b[32m━━━━━━━━━━━━━━━━━━━━\u001b[0m\u001b[37m\u001b[0m \u001b[1m0s\u001b[0m 2ms/step - attrition_output_accuracy: 0.9644 - attrition_output_loss: 0.1150 - department_output_accuracy: 0.8971 - department_output_loss: 0.3056 - loss: 0.4207 - val_attrition_output_accuracy: 0.8560 - val_attrition_output_loss: 0.5776 - val_department_output_accuracy: 0.5734 - val_department_output_loss: 1.1798 - val_loss: 1.7552\n",
            "Epoch 46/100\n",
            "\u001b[1m35/35\u001b[0m \u001b[32m━━━━━━━━━━━━━━━━━━━━\u001b[0m\u001b[37m\u001b[0m \u001b[1m0s\u001b[0m 2ms/step - attrition_output_accuracy: 0.9433 - attrition_output_loss: 0.1325 - department_output_accuracy: 0.9061 - department_output_loss: 0.2867 - loss: 0.4189 - val_attrition_output_accuracy: 0.8261 - val_attrition_output_loss: 0.6070 - val_department_output_accuracy: 0.5543 - val_department_output_loss: 1.2081 - val_loss: 1.8108\n",
            "Epoch 47/100\n",
            "\u001b[1m35/35\u001b[0m \u001b[32m━━━━━━━━━━━━━━━━━━━━\u001b[0m\u001b[37m\u001b[0m \u001b[1m0s\u001b[0m 2ms/step - attrition_output_accuracy: 0.9520 - attrition_output_loss: 0.1334 - department_output_accuracy: 0.9126 - department_output_loss: 0.2825 - loss: 0.4160 - val_attrition_output_accuracy: 0.8179 - val_attrition_output_loss: 0.6255 - val_department_output_accuracy: 0.5897 - val_department_output_loss: 1.2210 - val_loss: 1.8382\n",
            "Epoch 48/100\n",
            "\u001b[1m35/35\u001b[0m \u001b[32m━━━━━━━━━━━━━━━━━━━━\u001b[0m\u001b[37m\u001b[0m \u001b[1m0s\u001b[0m 2ms/step - attrition_output_accuracy: 0.9570 - attrition_output_loss: 0.1150 - department_output_accuracy: 0.8956 - department_output_loss: 0.2964 - loss: 0.4114 - val_attrition_output_accuracy: 0.8424 - val_attrition_output_loss: 0.6018 - val_department_output_accuracy: 0.5788 - val_department_output_loss: 1.2259 - val_loss: 1.8196\n",
            "Epoch 49/100\n",
            "\u001b[1m35/35\u001b[0m \u001b[32m━━━━━━━━━━━━━━━━━━━━\u001b[0m\u001b[37m\u001b[0m \u001b[1m0s\u001b[0m 2ms/step - attrition_output_accuracy: 0.9717 - attrition_output_loss: 0.1068 - department_output_accuracy: 0.9197 - department_output_loss: 0.2468 - loss: 0.3535 - val_attrition_output_accuracy: 0.8125 - val_attrition_output_loss: 0.6532 - val_department_output_accuracy: 0.5734 - val_department_output_loss: 1.2572 - val_loss: 1.9044\n",
            "Epoch 50/100\n",
            "\u001b[1m35/35\u001b[0m \u001b[32m━━━━━━━━━━━━━━━━━━━━\u001b[0m\u001b[37m\u001b[0m \u001b[1m0s\u001b[0m 2ms/step - attrition_output_accuracy: 0.9683 - attrition_output_loss: 0.1075 - department_output_accuracy: 0.9233 - department_output_loss: 0.2434 - loss: 0.3509 - val_attrition_output_accuracy: 0.8505 - val_attrition_output_loss: 0.6193 - val_department_output_accuracy: 0.5679 - val_department_output_loss: 1.2658 - val_loss: 1.8800\n",
            "Epoch 51/100\n",
            "\u001b[1m35/35\u001b[0m \u001b[32m━━━━━━━━━━━━━━━━━━━━\u001b[0m\u001b[37m\u001b[0m \u001b[1m0s\u001b[0m 2ms/step - attrition_output_accuracy: 0.9640 - attrition_output_loss: 0.1211 - department_output_accuracy: 0.9247 - department_output_loss: 0.2359 - loss: 0.3570 - val_attrition_output_accuracy: 0.8505 - val_attrition_output_loss: 0.6318 - val_department_output_accuracy: 0.5897 - val_department_output_loss: 1.2869 - val_loss: 1.9091\n",
            "Epoch 52/100\n",
            "\u001b[1m35/35\u001b[0m \u001b[32m━━━━━━━━━━━━━━━━━━━━\u001b[0m\u001b[37m\u001b[0m \u001b[1m0s\u001b[0m 2ms/step - attrition_output_accuracy: 0.9678 - attrition_output_loss: 0.1068 - department_output_accuracy: 0.9269 - department_output_loss: 0.2214 - loss: 0.3282 - val_attrition_output_accuracy: 0.8533 - val_attrition_output_loss: 0.6285 - val_department_output_accuracy: 0.5652 - val_department_output_loss: 1.3243 - val_loss: 1.9507\n",
            "Epoch 53/100\n",
            "\u001b[1m35/35\u001b[0m \u001b[32m━━━━━━━━━━━━━━━━━━━━\u001b[0m\u001b[37m\u001b[0m \u001b[1m0s\u001b[0m 2ms/step - attrition_output_accuracy: 0.9650 - attrition_output_loss: 0.0954 - department_output_accuracy: 0.9351 - department_output_loss: 0.2145 - loss: 0.3098 - val_attrition_output_accuracy: 0.8451 - val_attrition_output_loss: 0.6774 - val_department_output_accuracy: 0.5462 - val_department_output_loss: 1.3382 - val_loss: 2.0134\n",
            "Epoch 54/100\n",
            "\u001b[1m35/35\u001b[0m \u001b[32m━━━━━━━━━━━━━━━━━━━━\u001b[0m\u001b[37m\u001b[0m \u001b[1m0s\u001b[0m 2ms/step - attrition_output_accuracy: 0.9741 - attrition_output_loss: 0.0823 - department_output_accuracy: 0.9328 - department_output_loss: 0.2040 - loss: 0.2861 - val_attrition_output_accuracy: 0.8234 - val_attrition_output_loss: 0.6879 - val_department_output_accuracy: 0.5652 - val_department_output_loss: 1.3645 - val_loss: 2.0445\n",
            "Epoch 55/100\n",
            "\u001b[1m35/35\u001b[0m \u001b[32m━━━━━━━━━━━━━━━━━━━━\u001b[0m\u001b[37m\u001b[0m \u001b[1m0s\u001b[0m 2ms/step - attrition_output_accuracy: 0.9820 - attrition_output_loss: 0.0768 - department_output_accuracy: 0.9522 - department_output_loss: 0.1963 - loss: 0.2731 - val_attrition_output_accuracy: 0.8397 - val_attrition_output_loss: 0.6914 - val_department_output_accuracy: 0.5380 - val_department_output_loss: 1.3923 - val_loss: 2.0800\n",
            "Epoch 56/100\n",
            "\u001b[1m35/35\u001b[0m \u001b[32m━━━━━━━━━━━━━━━━━━━━\u001b[0m\u001b[37m\u001b[0m \u001b[1m0s\u001b[0m 2ms/step - attrition_output_accuracy: 0.9858 - attrition_output_loss: 0.0636 - department_output_accuracy: 0.9517 - department_output_loss: 0.1887 - loss: 0.2523 - val_attrition_output_accuracy: 0.8152 - val_attrition_output_loss: 0.6968 - val_department_output_accuracy: 0.5815 - val_department_output_loss: 1.4122 - val_loss: 2.1035\n",
            "Epoch 57/100\n",
            "\u001b[1m35/35\u001b[0m \u001b[32m━━━━━━━━━━━━━━━━━━━━\u001b[0m\u001b[37m\u001b[0m \u001b[1m0s\u001b[0m 3ms/step - attrition_output_accuracy: 0.9854 - attrition_output_loss: 0.0719 - department_output_accuracy: 0.9517 - department_output_loss: 0.1794 - loss: 0.2512 - val_attrition_output_accuracy: 0.8370 - val_attrition_output_loss: 0.6959 - val_department_output_accuracy: 0.5516 - val_department_output_loss: 1.4241 - val_loss: 2.1189\n",
            "Epoch 58/100\n",
            "\u001b[1m35/35\u001b[0m \u001b[32m━━━━━━━━━━━━━━━━━━━━\u001b[0m\u001b[37m\u001b[0m \u001b[1m0s\u001b[0m 3ms/step - attrition_output_accuracy: 0.9809 - attrition_output_loss: 0.0694 - department_output_accuracy: 0.9520 - department_output_loss: 0.1774 - loss: 0.2469 - val_attrition_output_accuracy: 0.8234 - val_attrition_output_loss: 0.7346 - val_department_output_accuracy: 0.5598 - val_department_output_loss: 1.4250 - val_loss: 2.1499\n",
            "Epoch 59/100\n",
            "\u001b[1m35/35\u001b[0m \u001b[32m━━━━━━━━━━━━━━━━━━━━\u001b[0m\u001b[37m\u001b[0m \u001b[1m0s\u001b[0m 2ms/step - attrition_output_accuracy: 0.9762 - attrition_output_loss: 0.0720 - department_output_accuracy: 0.9541 - department_output_loss: 0.1670 - loss: 0.2391 - val_attrition_output_accuracy: 0.8370 - val_attrition_output_loss: 0.7218 - val_department_output_accuracy: 0.5734 - val_department_output_loss: 1.4808 - val_loss: 2.2043\n",
            "Epoch 60/100\n",
            "\u001b[1m35/35\u001b[0m \u001b[32m━━━━━━━━━━━━━━━━━━━━\u001b[0m\u001b[37m\u001b[0m \u001b[1m0s\u001b[0m 2ms/step - attrition_output_accuracy: 0.9942 - attrition_output_loss: 0.0587 - department_output_accuracy: 0.9646 - department_output_loss: 0.1519 - loss: 0.2106 - val_attrition_output_accuracy: 0.8370 - val_attrition_output_loss: 0.7597 - val_department_output_accuracy: 0.5435 - val_department_output_loss: 1.5011 - val_loss: 2.2604\n",
            "Epoch 61/100\n",
            "\u001b[1m35/35\u001b[0m \u001b[32m━━━━━━━━━━━━━━━━━━━━\u001b[0m\u001b[37m\u001b[0m \u001b[1m0s\u001b[0m 2ms/step - attrition_output_accuracy: 0.9833 - attrition_output_loss: 0.0631 - department_output_accuracy: 0.9409 - department_output_loss: 0.1705 - loss: 0.2333 - val_attrition_output_accuracy: 0.8342 - val_attrition_output_loss: 0.7518 - val_department_output_accuracy: 0.5571 - val_department_output_loss: 1.4956 - val_loss: 2.2435\n",
            "Epoch 62/100\n",
            "\u001b[1m35/35\u001b[0m \u001b[32m━━━━━━━━━━━━━━━━━━━━\u001b[0m\u001b[37m\u001b[0m \u001b[1m0s\u001b[0m 2ms/step - attrition_output_accuracy: 0.9908 - attrition_output_loss: 0.0477 - department_output_accuracy: 0.9521 - department_output_loss: 0.1537 - loss: 0.2013 - val_attrition_output_accuracy: 0.8288 - val_attrition_output_loss: 0.7567 - val_department_output_accuracy: 0.5842 - val_department_output_loss: 1.5001 - val_loss: 2.2514\n",
            "Epoch 63/100\n",
            "\u001b[1m35/35\u001b[0m \u001b[32m━━━━━━━━━━━━━━━━━━━━\u001b[0m\u001b[37m\u001b[0m \u001b[1m0s\u001b[0m 2ms/step - attrition_output_accuracy: 0.9882 - attrition_output_loss: 0.0630 - department_output_accuracy: 0.9548 - department_output_loss: 0.1559 - loss: 0.2190 - val_attrition_output_accuracy: 0.8179 - val_attrition_output_loss: 0.7577 - val_department_output_accuracy: 0.5870 - val_department_output_loss: 1.5478 - val_loss: 2.3013\n",
            "Epoch 64/100\n",
            "\u001b[1m35/35\u001b[0m \u001b[32m━━━━━━━━━━━━━━━━━━━━\u001b[0m\u001b[37m\u001b[0m \u001b[1m0s\u001b[0m 2ms/step - attrition_output_accuracy: 0.9882 - attrition_output_loss: 0.0630 - department_output_accuracy: 0.9718 - department_output_loss: 0.1345 - loss: 0.1974 - val_attrition_output_accuracy: 0.8370 - val_attrition_output_loss: 0.7862 - val_department_output_accuracy: 0.5571 - val_department_output_loss: 1.5753 - val_loss: 2.3539\n",
            "Epoch 65/100\n",
            "\u001b[1m35/35\u001b[0m \u001b[32m━━━━━━━━━━━━━━━━━━━━\u001b[0m\u001b[37m\u001b[0m \u001b[1m0s\u001b[0m 2ms/step - attrition_output_accuracy: 0.9883 - attrition_output_loss: 0.0527 - department_output_accuracy: 0.9633 - department_output_loss: 0.1446 - loss: 0.1974 - val_attrition_output_accuracy: 0.8261 - val_attrition_output_loss: 0.8196 - val_department_output_accuracy: 0.5761 - val_department_output_loss: 1.6123 - val_loss: 2.4276\n",
            "Epoch 66/100\n",
            "\u001b[1m35/35\u001b[0m \u001b[32m━━━━━━━━━━━━━━━━━━━━\u001b[0m\u001b[37m\u001b[0m \u001b[1m0s\u001b[0m 3ms/step - attrition_output_accuracy: 0.9911 - attrition_output_loss: 0.0623 - department_output_accuracy: 0.9652 - department_output_loss: 0.1366 - loss: 0.1989 - val_attrition_output_accuracy: 0.8207 - val_attrition_output_loss: 0.8105 - val_department_output_accuracy: 0.5571 - val_department_output_loss: 1.6266 - val_loss: 2.4321\n",
            "Epoch 67/100\n",
            "\u001b[1m35/35\u001b[0m \u001b[32m━━━━━━━━━━━━━━━━━━━━\u001b[0m\u001b[37m\u001b[0m \u001b[1m0s\u001b[0m 2ms/step - attrition_output_accuracy: 0.9836 - attrition_output_loss: 0.0507 - department_output_accuracy: 0.9746 - department_output_loss: 0.1307 - loss: 0.1814 - val_attrition_output_accuracy: 0.8207 - val_attrition_output_loss: 0.8376 - val_department_output_accuracy: 0.5625 - val_department_output_loss: 1.6453 - val_loss: 2.4698\n",
            "Epoch 68/100\n",
            "\u001b[1m35/35\u001b[0m \u001b[32m━━━━━━━━━━━━━━━━━━━━\u001b[0m\u001b[37m\u001b[0m \u001b[1m0s\u001b[0m 2ms/step - attrition_output_accuracy: 0.9899 - attrition_output_loss: 0.0528 - department_output_accuracy: 0.9743 - department_output_loss: 0.1359 - loss: 0.1887 - val_attrition_output_accuracy: 0.8125 - val_attrition_output_loss: 0.8372 - val_department_output_accuracy: 0.5543 - val_department_output_loss: 1.7028 - val_loss: 2.5261\n",
            "Epoch 69/100\n",
            "\u001b[1m35/35\u001b[0m \u001b[32m━━━━━━━━━━━━━━━━━━━━\u001b[0m\u001b[37m\u001b[0m \u001b[1m0s\u001b[0m 2ms/step - attrition_output_accuracy: 0.9939 - attrition_output_loss: 0.0453 - department_output_accuracy: 0.9666 - department_output_loss: 0.1231 - loss: 0.1683 - val_attrition_output_accuracy: 0.8342 - val_attrition_output_loss: 0.8547 - val_department_output_accuracy: 0.5625 - val_department_output_loss: 1.6963 - val_loss: 2.5394\n",
            "Epoch 70/100\n",
            "\u001b[1m35/35\u001b[0m \u001b[32m━━━━━━━━━━━━━━━━━━━━\u001b[0m\u001b[37m\u001b[0m \u001b[1m0s\u001b[0m 2ms/step - attrition_output_accuracy: 0.9863 - attrition_output_loss: 0.0487 - department_output_accuracy: 0.9707 - department_output_loss: 0.1145 - loss: 0.1630 - val_attrition_output_accuracy: 0.8315 - val_attrition_output_loss: 0.8601 - val_department_output_accuracy: 0.5380 - val_department_output_loss: 1.7498 - val_loss: 2.6021\n",
            "Epoch 71/100\n",
            "\u001b[1m35/35\u001b[0m \u001b[32m━━━━━━━━━━━━━━━━━━━━\u001b[0m\u001b[37m\u001b[0m \u001b[1m0s\u001b[0m 2ms/step - attrition_output_accuracy: 0.9908 - attrition_output_loss: 0.0420 - department_output_accuracy: 0.9658 - department_output_loss: 0.1201 - loss: 0.1621 - val_attrition_output_accuracy: 0.8071 - val_attrition_output_loss: 0.9046 - val_department_output_accuracy: 0.5516 - val_department_output_loss: 1.7387 - val_loss: 2.6375\n",
            "Epoch 72/100\n",
            "\u001b[1m35/35\u001b[0m \u001b[32m━━━━━━━━━━━━━━━━━━━━\u001b[0m\u001b[37m\u001b[0m \u001b[1m0s\u001b[0m 2ms/step - attrition_output_accuracy: 0.9939 - attrition_output_loss: 0.0384 - department_output_accuracy: 0.9738 - department_output_loss: 0.1112 - loss: 0.1496 - val_attrition_output_accuracy: 0.8234 - val_attrition_output_loss: 0.8974 - val_department_output_accuracy: 0.5652 - val_department_output_loss: 1.7609 - val_loss: 2.6497\n",
            "Epoch 73/100\n",
            "\u001b[1m35/35\u001b[0m \u001b[32m━━━━━━━━━━━━━━━━━━━━\u001b[0m\u001b[37m\u001b[0m \u001b[1m0s\u001b[0m 2ms/step - attrition_output_accuracy: 0.9935 - attrition_output_loss: 0.0394 - department_output_accuracy: 0.9803 - department_output_loss: 0.1002 - loss: 0.1396 - val_attrition_output_accuracy: 0.8533 - val_attrition_output_loss: 0.8941 - val_department_output_accuracy: 0.5516 - val_department_output_loss: 1.7956 - val_loss: 2.6869\n",
            "Epoch 74/100\n",
            "\u001b[1m35/35\u001b[0m \u001b[32m━━━━━━━━━━━━━━━━━━━━\u001b[0m\u001b[37m\u001b[0m \u001b[1m0s\u001b[0m 2ms/step - attrition_output_accuracy: 0.9915 - attrition_output_loss: 0.0386 - department_output_accuracy: 0.9853 - department_output_loss: 0.0964 - loss: 0.1350 - val_attrition_output_accuracy: 0.8424 - val_attrition_output_loss: 0.9420 - val_department_output_accuracy: 0.5734 - val_department_output_loss: 1.8837 - val_loss: 2.8249\n",
            "Epoch 75/100\n",
            "\u001b[1m35/35\u001b[0m \u001b[32m━━━━━━━━━━━━━━━━━━━━\u001b[0m\u001b[37m\u001b[0m \u001b[1m0s\u001b[0m 2ms/step - attrition_output_accuracy: 0.9810 - attrition_output_loss: 0.0489 - department_output_accuracy: 0.9814 - department_output_loss: 0.0886 - loss: 0.1376 - val_attrition_output_accuracy: 0.8342 - val_attrition_output_loss: 0.9138 - val_department_output_accuracy: 0.5652 - val_department_output_loss: 1.8453 - val_loss: 2.7509\n",
            "Epoch 76/100\n",
            "\u001b[1m35/35\u001b[0m \u001b[32m━━━━━━━━━━━━━━━━━━━━\u001b[0m\u001b[37m\u001b[0m \u001b[1m0s\u001b[0m 2ms/step - attrition_output_accuracy: 0.9980 - attrition_output_loss: 0.0291 - department_output_accuracy: 0.9907 - department_output_loss: 0.0833 - loss: 0.1124 - val_attrition_output_accuracy: 0.8179 - val_attrition_output_loss: 0.9360 - val_department_output_accuracy: 0.5625 - val_department_output_loss: 1.8522 - val_loss: 2.7845\n",
            "Epoch 77/100\n",
            "\u001b[1m35/35\u001b[0m \u001b[32m━━━━━━━━━━━━━━━━━━━━\u001b[0m\u001b[37m\u001b[0m \u001b[1m0s\u001b[0m 2ms/step - attrition_output_accuracy: 0.9967 - attrition_output_loss: 0.0306 - department_output_accuracy: 0.9887 - department_output_loss: 0.0739 - loss: 0.1045 - val_attrition_output_accuracy: 0.8288 - val_attrition_output_loss: 0.9724 - val_department_output_accuracy: 0.5543 - val_department_output_loss: 1.9006 - val_loss: 2.8761\n",
            "Epoch 78/100\n",
            "\u001b[1m35/35\u001b[0m \u001b[32m━━━━━━━━━━━━━━━━━━━━\u001b[0m\u001b[37m\u001b[0m \u001b[1m0s\u001b[0m 2ms/step - attrition_output_accuracy: 0.9983 - attrition_output_loss: 0.0292 - department_output_accuracy: 0.9859 - department_output_loss: 0.0746 - loss: 0.1037 - val_attrition_output_accuracy: 0.8288 - val_attrition_output_loss: 1.0233 - val_department_output_accuracy: 0.5299 - val_department_output_loss: 2.0029 - val_loss: 3.0306\n",
            "Epoch 79/100\n",
            "\u001b[1m35/35\u001b[0m \u001b[32m━━━━━━━━━━━━━━━━━━━━\u001b[0m\u001b[37m\u001b[0m \u001b[1m0s\u001b[0m 2ms/step - attrition_output_accuracy: 0.9891 - attrition_output_loss: 0.0385 - department_output_accuracy: 0.9846 - department_output_loss: 0.0860 - loss: 0.1245 - val_attrition_output_accuracy: 0.8478 - val_attrition_output_loss: 0.9804 - val_department_output_accuracy: 0.5897 - val_department_output_loss: 1.9495 - val_loss: 2.9207\n",
            "Epoch 80/100\n",
            "\u001b[1m35/35\u001b[0m \u001b[32m━━━━━━━━━━━━━━━━━━━━\u001b[0m\u001b[37m\u001b[0m \u001b[1m0s\u001b[0m 2ms/step - attrition_output_accuracy: 0.9937 - attrition_output_loss: 0.0294 - department_output_accuracy: 0.9883 - department_output_loss: 0.0715 - loss: 0.1009 - val_attrition_output_accuracy: 0.8342 - val_attrition_output_loss: 0.9945 - val_department_output_accuracy: 0.5462 - val_department_output_loss: 1.9694 - val_loss: 2.9604\n",
            "Epoch 81/100\n",
            "\u001b[1m35/35\u001b[0m \u001b[32m━━━━━━━━━━━━━━━━━━━━\u001b[0m\u001b[37m\u001b[0m \u001b[1m0s\u001b[0m 2ms/step - attrition_output_accuracy: 0.9973 - attrition_output_loss: 0.0202 - department_output_accuracy: 0.9946 - department_output_loss: 0.0611 - loss: 0.0812 - val_attrition_output_accuracy: 0.8397 - val_attrition_output_loss: 1.0322 - val_department_output_accuracy: 0.5679 - val_department_output_loss: 1.9758 - val_loss: 3.0021\n",
            "Epoch 82/100\n",
            "\u001b[1m35/35\u001b[0m \u001b[32m━━━━━━━━━━━━━━━━━━━━\u001b[0m\u001b[37m\u001b[0m \u001b[1m0s\u001b[0m 2ms/step - attrition_output_accuracy: 0.9966 - attrition_output_loss: 0.0226 - department_output_accuracy: 0.9844 - department_output_loss: 0.0671 - loss: 0.0898 - val_attrition_output_accuracy: 0.8016 - val_attrition_output_loss: 1.0752 - val_department_output_accuracy: 0.5516 - val_department_output_loss: 1.9955 - val_loss: 3.0675\n",
            "Epoch 83/100\n",
            "\u001b[1m35/35\u001b[0m \u001b[32m━━━━━━━━━━━━━━━━━━━━\u001b[0m\u001b[37m\u001b[0m \u001b[1m0s\u001b[0m 2ms/step - attrition_output_accuracy: 0.9987 - attrition_output_loss: 0.0251 - department_output_accuracy: 0.9871 - department_output_loss: 0.0740 - loss: 0.0991 - val_attrition_output_accuracy: 0.8288 - val_attrition_output_loss: 1.0781 - val_department_output_accuracy: 0.5571 - val_department_output_loss: 2.0283 - val_loss: 3.1006\n",
            "Epoch 84/100\n",
            "\u001b[1m35/35\u001b[0m \u001b[32m━━━━━━━━━━━━━━━━━━━━\u001b[0m\u001b[37m\u001b[0m \u001b[1m0s\u001b[0m 2ms/step - attrition_output_accuracy: 0.9955 - attrition_output_loss: 0.0249 - department_output_accuracy: 0.9921 - department_output_loss: 0.0620 - loss: 0.0868 - val_attrition_output_accuracy: 0.8288 - val_attrition_output_loss: 1.0509 - val_department_output_accuracy: 0.5815 - val_department_output_loss: 2.0874 - val_loss: 3.1249\n",
            "Epoch 85/100\n",
            "\u001b[1m35/35\u001b[0m \u001b[32m━━━━━━━━━━━━━━━━━━━━\u001b[0m\u001b[37m\u001b[0m \u001b[1m0s\u001b[0m 2ms/step - attrition_output_accuracy: 0.9934 - attrition_output_loss: 0.0323 - department_output_accuracy: 0.9879 - department_output_loss: 0.0631 - loss: 0.0954 - val_attrition_output_accuracy: 0.8288 - val_attrition_output_loss: 1.1084 - val_department_output_accuracy: 0.5543 - val_department_output_loss: 2.0861 - val_loss: 3.1845\n",
            "Epoch 86/100\n",
            "\u001b[1m35/35\u001b[0m \u001b[32m━━━━━━━━━━━━━━━━━━━━\u001b[0m\u001b[37m\u001b[0m \u001b[1m0s\u001b[0m 2ms/step - attrition_output_accuracy: 0.9959 - attrition_output_loss: 0.0231 - department_output_accuracy: 0.9952 - department_output_loss: 0.0536 - loss: 0.0767 - val_attrition_output_accuracy: 0.8288 - val_attrition_output_loss: 1.0916 - val_department_output_accuracy: 0.5462 - val_department_output_loss: 2.1127 - val_loss: 3.1940\n",
            "Epoch 87/100\n",
            "\u001b[1m35/35\u001b[0m \u001b[32m━━━━━━━━━━━━━━━━━━━━\u001b[0m\u001b[37m\u001b[0m \u001b[1m0s\u001b[0m 3ms/step - attrition_output_accuracy: 0.9989 - attrition_output_loss: 0.0154 - department_output_accuracy: 0.9942 - department_output_loss: 0.0596 - loss: 0.0751 - val_attrition_output_accuracy: 0.8342 - val_attrition_output_loss: 1.0530 - val_department_output_accuracy: 0.5462 - val_department_output_loss: 2.1433 - val_loss: 3.1911\n",
            "Epoch 88/100\n",
            "\u001b[1m35/35\u001b[0m \u001b[32m━━━━━━━━━━━━━━━━━━━━\u001b[0m\u001b[37m\u001b[0m \u001b[1m0s\u001b[0m 2ms/step - attrition_output_accuracy: 0.9972 - attrition_output_loss: 0.0186 - department_output_accuracy: 0.9963 - department_output_loss: 0.0465 - loss: 0.0651 - val_attrition_output_accuracy: 0.8370 - val_attrition_output_loss: 1.1153 - val_department_output_accuracy: 0.5462 - val_department_output_loss: 2.1650 - val_loss: 3.2815\n",
            "Epoch 89/100\n",
            "\u001b[1m35/35\u001b[0m \u001b[32m━━━━━━━━━━━━━━━━━━━━\u001b[0m\u001b[37m\u001b[0m \u001b[1m0s\u001b[0m 2ms/step - attrition_output_accuracy: 0.9977 - attrition_output_loss: 0.0189 - department_output_accuracy: 0.9921 - department_output_loss: 0.0491 - loss: 0.0680 - val_attrition_output_accuracy: 0.8152 - val_attrition_output_loss: 1.1318 - val_department_output_accuracy: 0.5679 - val_department_output_loss: 2.1691 - val_loss: 3.2925\n",
            "Epoch 90/100\n",
            "\u001b[1m35/35\u001b[0m \u001b[32m━━━━━━━━━━━━━━━━━━━━\u001b[0m\u001b[37m\u001b[0m \u001b[1m0s\u001b[0m 2ms/step - attrition_output_accuracy: 0.9979 - attrition_output_loss: 0.0171 - department_output_accuracy: 0.9944 - department_output_loss: 0.0559 - loss: 0.0730 - val_attrition_output_accuracy: 0.8424 - val_attrition_output_loss: 1.1408 - val_department_output_accuracy: 0.5897 - val_department_output_loss: 2.1884 - val_loss: 3.3117\n",
            "Epoch 91/100\n",
            "\u001b[1m35/35\u001b[0m \u001b[32m━━━━━━━━━━━━━━━━━━━━\u001b[0m\u001b[37m\u001b[0m \u001b[1m0s\u001b[0m 2ms/step - attrition_output_accuracy: 0.9974 - attrition_output_loss: 0.0195 - department_output_accuracy: 0.9898 - department_output_loss: 0.0559 - loss: 0.0755 - val_attrition_output_accuracy: 0.8397 - val_attrition_output_loss: 1.1668 - val_department_output_accuracy: 0.5625 - val_department_output_loss: 2.2369 - val_loss: 3.3976\n",
            "Epoch 92/100\n",
            "\u001b[1m35/35\u001b[0m \u001b[32m━━━━━━━━━━━━━━━━━━━━\u001b[0m\u001b[37m\u001b[0m \u001b[1m0s\u001b[0m 2ms/step - attrition_output_accuracy: 0.9979 - attrition_output_loss: 0.0219 - department_output_accuracy: 0.9920 - department_output_loss: 0.0441 - loss: 0.0659 - val_attrition_output_accuracy: 0.8424 - val_attrition_output_loss: 1.0991 - val_department_output_accuracy: 0.5598 - val_department_output_loss: 2.2820 - val_loss: 3.3784\n",
            "Epoch 93/100\n",
            "\u001b[1m35/35\u001b[0m \u001b[32m━━━━━━━━━━━━━━━━━━━━\u001b[0m\u001b[37m\u001b[0m \u001b[1m0s\u001b[0m 2ms/step - attrition_output_accuracy: 0.9983 - attrition_output_loss: 0.0156 - department_output_accuracy: 0.9930 - department_output_loss: 0.0443 - loss: 0.0599 - val_attrition_output_accuracy: 0.8288 - val_attrition_output_loss: 1.1286 - val_department_output_accuracy: 0.5598 - val_department_output_loss: 2.2907 - val_loss: 3.4172\n",
            "Epoch 94/100\n",
            "\u001b[1m35/35\u001b[0m \u001b[32m━━━━━━━━━━━━━━━━━━━━\u001b[0m\u001b[37m\u001b[0m \u001b[1m0s\u001b[0m 2ms/step - attrition_output_accuracy: 0.9982 - attrition_output_loss: 0.0153 - department_output_accuracy: 0.9917 - department_output_loss: 0.0542 - loss: 0.0694 - val_attrition_output_accuracy: 0.8505 - val_attrition_output_loss: 1.1645 - val_department_output_accuracy: 0.5788 - val_department_output_loss: 2.2890 - val_loss: 3.4481\n",
            "Epoch 95/100\n",
            "\u001b[1m35/35\u001b[0m \u001b[32m━━━━━━━━━━━━━━━━━━━━\u001b[0m\u001b[37m\u001b[0m \u001b[1m0s\u001b[0m 2ms/step - attrition_output_accuracy: 0.9968 - attrition_output_loss: 0.0145 - department_output_accuracy: 0.9965 - department_output_loss: 0.0422 - loss: 0.0568 - val_attrition_output_accuracy: 0.8234 - val_attrition_output_loss: 1.1712 - val_department_output_accuracy: 0.5462 - val_department_output_loss: 2.3150 - val_loss: 3.4918\n",
            "Epoch 96/100\n",
            "\u001b[1m35/35\u001b[0m \u001b[32m━━━━━━━━━━━━━━━━━━━━\u001b[0m\u001b[37m\u001b[0m \u001b[1m0s\u001b[0m 2ms/step - attrition_output_accuracy: 0.9988 - attrition_output_loss: 0.0144 - department_output_accuracy: 0.9987 - department_output_loss: 0.0347 - loss: 0.0491 - val_attrition_output_accuracy: 0.8505 - val_attrition_output_loss: 1.1892 - val_department_output_accuracy: 0.5652 - val_department_output_loss: 2.3250 - val_loss: 3.5132\n",
            "Epoch 97/100\n",
            "\u001b[1m35/35\u001b[0m \u001b[32m━━━━━━━━━━━━━━━━━━━━\u001b[0m\u001b[37m\u001b[0m \u001b[1m0s\u001b[0m 2ms/step - attrition_output_accuracy: 0.9995 - attrition_output_loss: 0.0114 - department_output_accuracy: 0.9989 - department_output_loss: 0.0301 - loss: 0.0415 - val_attrition_output_accuracy: 0.8397 - val_attrition_output_loss: 1.1825 - val_department_output_accuracy: 0.5788 - val_department_output_loss: 2.3662 - val_loss: 3.5480\n",
            "Epoch 98/100\n",
            "\u001b[1m35/35\u001b[0m \u001b[32m━━━━━━━━━━━━━━━━━━━━\u001b[0m\u001b[37m\u001b[0m \u001b[1m0s\u001b[0m 3ms/step - attrition_output_accuracy: 0.9993 - attrition_output_loss: 0.0103 - department_output_accuracy: 0.9974 - department_output_loss: 0.0350 - loss: 0.0453 - val_attrition_output_accuracy: 0.8342 - val_attrition_output_loss: 1.2210 - val_department_output_accuracy: 0.5707 - val_department_output_loss: 2.4280 - val_loss: 3.6455\n",
            "Epoch 99/100\n",
            "\u001b[1m35/35\u001b[0m \u001b[32m━━━━━━━━━━━━━━━━━━━━\u001b[0m\u001b[37m\u001b[0m \u001b[1m0s\u001b[0m 2ms/step - attrition_output_accuracy: 0.9988 - attrition_output_loss: 0.0097 - department_output_accuracy: 0.9991 - department_output_loss: 0.0307 - loss: 0.0404 - val_attrition_output_accuracy: 0.8342 - val_attrition_output_loss: 1.2310 - val_department_output_accuracy: 0.5679 - val_department_output_loss: 2.3899 - val_loss: 3.6172\n",
            "Epoch 100/100\n",
            "\u001b[1m35/35\u001b[0m \u001b[32m━━━━━━━━━━━━━━━━━━━━\u001b[0m\u001b[37m\u001b[0m \u001b[1m0s\u001b[0m 3ms/step - attrition_output_accuracy: 0.9976 - attrition_output_loss: 0.0118 - department_output_accuracy: 0.9954 - department_output_loss: 0.0379 - loss: 0.0496 - val_attrition_output_accuracy: 0.8288 - val_attrition_output_loss: 1.2129 - val_department_output_accuracy: 0.5462 - val_department_output_loss: 2.4332 - val_loss: 3.6440\n"
          ]
        },
        {
          "data": {
            "text/plain": [
              "<keras.src.callbacks.history.History at 0x2a892827580>"
            ]
          },
          "execution_count": 51,
          "metadata": {},
          "output_type": "execute_result"
        }
      ],
      "source": [
        "# Train the model\n",
        "model.fit(X_train_scaled,\n",
        "          [y_train_department, y_train_attrition],\n",
        "          epochs=100,\n",
        "          batch_size=32,\n",
        "          validation_split = 0.2,\n",
        "          validation_data=(X_test_scaled, [y_test_department, y_test_attrition])\n",
        "          )\n"
      ]
    },
    {
      "cell_type": "code",
      "execution_count": 52,
      "metadata": {
        "colab": {
          "base_uri": "https://localhost:8080/"
        },
        "id": "VsMoaQlgGc3U",
        "outputId": "851d474a-943b-4d30-d16a-69aa7be31ea2"
      },
      "outputs": [
        {
          "name": "stdout",
          "output_type": "stream",
          "text": [
            "\u001b[1m12/12\u001b[0m \u001b[32m━━━━━━━━━━━━━━━━━━━━\u001b[0m\u001b[37m\u001b[0m \u001b[1m0s\u001b[0m 2ms/step - attrition_output_accuracy: 0.8027 - attrition_output_loss: 1.5818 - department_output_accuracy: 0.5595 - department_output_loss: 2.2560 - loss: 3.8375 \n"
          ]
        },
        {
          "data": {
            "text/plain": [
              "[3.6440296173095703,\n",
              " 2.433173418045044,\n",
              " 1.212895393371582,\n",
              " 0.8288043737411499,\n",
              " 0.5461956262588501]"
            ]
          },
          "execution_count": 52,
          "metadata": {},
          "output_type": "execute_result"
        }
      ],
      "source": [
        "# Evaluate the model with the testing data\n",
        "results = model.evaluate(X_test_scaled, [y_test_department, y_test_attrition])\n",
        "results"
      ]
    },
    {
      "cell_type": "code",
      "execution_count": 53,
      "metadata": {
        "colab": {
          "base_uri": "https://localhost:8080/"
        },
        "id": "ZlCtlHi0Vt54",
        "outputId": "e76fa895-4c10-43eb-92c6-ee5a80e0d1aa"
      },
      "outputs": [
        {
          "name": "stdout",
          "output_type": "stream",
          "text": [
            "Department prediction accuracy:  0.5461956262588501\n",
            "Attrition prediction accuracy:  0.8288043737411499\n"
          ]
        }
      ],
      "source": [
        "# Print the accuracy for both department and attrition\n",
        "print(\"Department prediction accuracy: \", results[4])\n",
        "print(\"Attrition prediction accuracy: \", results[3])"
      ]
    },
    {
      "cell_type": "markdown",
      "metadata": {
        "id": "eGSyfsZfWOQM"
      },
      "source": [
        "# Summary\n",
        "\n",
        "In the provided space below, briefly answer the following questions.\n",
        "\n",
        "1. Is accuracy the best metric to use on this data? Why or why not?\n",
        "\n",
        "2. What activation functions did you choose for your output layers, and why?\n",
        "\n",
        "3. Can you name a few ways that this model might be improved?"
      ]
    },
    {
      "cell_type": "markdown",
      "metadata": {
        "id": "pi9SLpFnWvbF"
      },
      "source": [
        "YOUR ANSWERS HERE\n",
        "\n",
        "1. No, the department prediction accuracy was just over 50% which is basically like flipping a coin. The data may not have a very balanced representation.\n",
        "2. I used softmax activation function for the output layers because the expected values are mutually exclusive.\n",
        "3. Some ways that may improve the model are to try different metric logic and loss functions, add more shared layers, and modify the number of units in the shared and hidden layers. "
      ]
    },
    {
      "cell_type": "markdown",
      "metadata": {
        "id": "cfOVkaHIi1qZ"
      },
      "source": []
    }
  ],
  "metadata": {
    "colab": {
      "provenance": []
    },
    "kernelspec": {
      "display_name": "dev",
      "language": "python",
      "name": "python3"
    },
    "language_info": {
      "codemirror_mode": {
        "name": "ipython",
        "version": 3
      },
      "file_extension": ".py",
      "mimetype": "text/x-python",
      "name": "python",
      "nbconvert_exporter": "python",
      "pygments_lexer": "ipython3",
      "version": "3.10.14"
    }
  },
  "nbformat": 4,
  "nbformat_minor": 0
}
